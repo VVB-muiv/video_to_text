{
 "cells": [
  {
   "cell_type": "code",
   "execution_count": 1,
   "id": "52cd822a-f08e-4a06-b339-50dca2a126cb",
   "metadata": {},
   "outputs": [],
   "source": [
    "# Импортируем необходимые библиотеки\n",
    "import os\n",
    "import math\n",
    "import random\n",
    "import numpy as np\n",
    "import torch\n",
    "import torch.nn as nn\n",
    "import torch.optim as optim\n",
    "import torch.nn.functional as F\n",
    "from torch.utils.data import Dataset, DataLoader\n",
    "import cv2\n",
    "import matplotlib.pyplot as plt\n",
    "from tqdm.notebook import tqdm\n",
    "import nltk\n",
    "from collections import Counter\n",
    "import torchvision.models as models\n",
    "import torchvision.transforms as transforms\n",
    "from torch.utils.data import random_split\n",
    "from torch.cuda.amp import GradScaler, autocast"
   ]
  },
  {
   "cell_type": "code",
   "execution_count": 2,
   "id": "004e6cff-bb66-4c70-aeed-80ec45cc7159",
   "metadata": {},
   "outputs": [],
   "source": [
    "# Установим случайные начальные значения для воспроизводимости\n",
    "torch.manual_seed(42)\n",
    "np.random.seed(42)"
   ]
  },
  {
   "cell_type": "code",
   "execution_count": 3,
   "id": "e5aca0c3-cea0-4be4-b289-aa05a689e106",
   "metadata": {},
   "outputs": [
    {
     "name": "stdout",
     "output_type": "stream",
     "text": [
      "Используемое устройство: cuda\n"
     ]
    }
   ],
   "source": [
    "# Проверим доступность GPU видеокарты\n",
    "device = torch.device(\"cuda\" if torch.cuda.is_available() else \"cpu\")\n",
    "print(f\"Используемое устройство: {device}\")"
   ]
  },
  {
   "cell_type": "code",
   "execution_count": 4,
   "id": "a131e7c8-d950-4c7a-950e-ba2fdcea7e39",
   "metadata": {},
   "outputs": [],
   "source": [
    "# 1. Предварительная обработка данных\n",
    "\n",
    "class VideoDataset(Dataset):\n",
    "    \"\"\"Датасет для работы с видео и их описаниями\"\"\"\n",
    "    \n",
    "    def __init__(self, feature_dir, caption_file, vocab, max_frames=40):\n",
    "        \"\"\"Инициализация датасета\n",
    "        \n",
    "        Аргументы:\n",
    "            feature_dir (str): Путь к директории с предвычисленными признаками\n",
    "            caption_file (str): Файл с описаниями в формате \"video_id описание\"\n",
    "            vocab (Vocabulary): Объект словаря для токенизации\n",
    "            max_frames (int): Макс. количество кадров на видео\n",
    "        \"\"\"\n",
    "        self.feature_dir = feature_dir\n",
    "        self.max_frames = max_frames\n",
    "        self.vocab = vocab\n",
    "        \n",
    "        # Загрузка и парсинг описаний\n",
    "        self.captions = self._load_captions(caption_file)\n",
    "        self.video_ids = list(self.captions.keys())\n",
    "    \n",
    "    def _load_captions(self, caption_file):\n",
    "        \"\"\"Загружает описания из файла\"\"\"\n",
    "        captions = {}\n",
    "        with open(caption_file, 'r', encoding='utf-8') as f:\n",
    "            for line in f:\n",
    "                parts = line.strip().split(' ', 1)\n",
    "                if len(parts) == 2:\n",
    "                    video_id, caption = parts\n",
    "                    captions.setdefault(video_id, []).append(caption)\n",
    "        return captions\n",
    "    \n",
    "    def __len__(self):\n",
    "        return len(self.video_ids)\n",
    "    \n",
    "    def __getitem__(self, idx):\n",
    "        \"\"\"Получает один элемент датасета по индексу\"\"\"\n",
    "        video_id = self.video_ids[idx]\n",
    "        \n",
    "        # Загрузка предвычисленных признаков\n",
    "        features = self._load_features(video_id)\n",
    "        \n",
    "        # Выбор случайного описания и токенизация\n",
    "        caption = self._process_caption(video_id)\n",
    "        \n",
    "        return features, caption\n",
    "    \n",
    "    def _load_features(self, video_id):\n",
    "        \"\"\"Загружает признаки видео из файла\"\"\"\n",
    "        feature_path = os.path.join(self.feature_dir, f\"{video_id}.npy\")\n",
    "        features = np.load(feature_path)\n",
    "        \n",
    "        # Проверяем и корректируем размерность\n",
    "        if features.ndim > 2:            \n",
    "            features = features.reshape(features.shape[0], -1) # Преобразуем к [seq_len, feature_dim]\n",
    "        return torch.FloatTensor(features).to(device)\n",
    "    \n",
    "    def _process_caption(self, video_id):\n",
    "        \"\"\"Токенизирует и преобразует описание в тензор\"\"\"\n",
    "        caption = np.random.choice(self.captions[video_id])\n",
    "        tokens = nltk.tokenize.word_tokenize(caption.lower())\n",
    "        caption = [self.vocab('<start>')] + [self.vocab(token) for token in tokens] + [self.vocab('<end>')]\n",
    "        return torch.LongTensor(caption)\n",
    "\n",
    "class Vocabulary:\n",
    "    \"\"\"Словарь для преобразования слов в индексы\"\"\"\n",
    "    \n",
    "    def __init__(self):\n",
    "        self.word2idx = {}\n",
    "        self.idx2word = {}\n",
    "        self.idx = 0\n",
    "        self._add_special_tokens()\n",
    "    \n",
    "    def _add_special_tokens(self):\n",
    "        \"\"\"Добавляет специальные токены\"\"\"\n",
    "        for token in ['<pad>', '<start>', '<end>', '<unk>']:\n",
    "            self.add_word(token)\n",
    "    \n",
    "    def add_word(self, word):\n",
    "        \"\"\"Добавляет слово в словарь\"\"\"\n",
    "        if word not in self.word2idx:\n",
    "            self.word2idx[word] = self.idx\n",
    "            self.idx2word[self.idx] = word\n",
    "            self.idx += 1\n",
    "    \n",
    "    def __call__(self, word):\n",
    "        \"\"\"Возвращает индекс слова или токен <unk>\"\"\"\n",
    "        return self.word2idx.get(word, self.word2idx['<unk>'])\n",
    "    \n",
    "    def __len__(self):\n",
    "        return len(self.word2idx)\n",
    "\n",
    "def build_vocab(caption_file, threshold=3):\n",
    "    \"\"\"Строит словарь на основе файла с описаниями\"\"\"\n",
    "    counter = Counter()\n",
    "    \n",
    "    # Подсчет частот слов\n",
    "    with open(caption_file, 'r', encoding='utf-8') as f:\n",
    "        for line in f:\n",
    "            parts = line.strip().split(' ', 1)\n",
    "            if len(parts) == 2:\n",
    "                counter.update(nltk.tokenize.word_tokenize(parts[1].lower()))\n",
    "    \n",
    "    # Фильтрация по порогу\n",
    "    vocab = Vocabulary()\n",
    "    for word, count in counter.items():\n",
    "        if count >= threshold:\n",
    "            vocab.add_word(word)\n",
    "    \n",
    "    return vocab\n",
    "\n",
    "def precompute_features(video_dir, output_dir, batch_size=16):\n",
    "    \"\"\"Предварительно вычисляет признаки видео с помощью ResNet152\"\"\"\n",
    "    \n",
    "    os.makedirs(output_dir, exist_ok=True)\n",
    "    \n",
    "    # Инициализация модели для извлечения признаков\n",
    "    model = models.resnet152(weights=models.ResNet152_Weights.IMAGENET1K_V1)\n",
    "    feature_extractor = nn.Sequential(*list(model.children())[:-1]).to(device)\n",
    "    feature_extractor.eval()\n",
    "    \n",
    "    # Трансформации для кадров\n",
    "    transform = transforms.Compose([\n",
    "        transforms.ToPILImage(),\n",
    "        transforms.Resize((224, 224)),\n",
    "        transforms.ToTensor(),\n",
    "        transforms.Normalize(mean=[0.485, 0.456, 0.406], \n",
    "                           std=[0.229, 0.224, 0.225])\n",
    "    ])\n",
    "    \n",
    "    # Обработка видеофайлов\n",
    "    video_files = [f for f in os.listdir(video_dir) if f.endswith(('.mp4', '.avi'))]\n",
    "    \n",
    "    for i in range(0, len(video_files), batch_size):\n",
    "        batch_files = video_files[i:i + batch_size]\n",
    "        \n",
    "        for video_file in tqdm(batch_files, desc=f\"Batch {i//batch_size + 1}\"):\n",
    "            \n",
    "            video_id = os.path.splitext(video_file)[0]\n",
    "            feature_path = os.path.join(output_dir, f\"{video_id}.npy\") # Проверяем, существуют ли уже признаки\n",
    "            if os.path.exists(feature_path):\n",
    "                continue  # Признаки уже есть, пропускаем\n",
    "\n",
    "            video_path = os.path.join(video_dir, video_file)\n",
    "            # Извлечение кадров\n",
    "            frames = extract_frames(video_path)\n",
    "            \n",
    "            # Извлечение признаков\n",
    "            features = []\n",
    "            with torch.no_grad():\n",
    "                for frame in frames:\n",
    "                    if frame.ndim == 3:  # Проверка валидности кадра\n",
    "                        frame = transform(frame).unsqueeze(0).to(device)\n",
    "                        feature = feature_extractor(frame).squeeze().cpu().numpy()\n",
    "                        features.append(feature)\n",
    "            \n",
    "            # Сохранение признаков\n",
    "            features = np.stack(features, axis=0)\n",
    "            np.save(os.path.join(output_dir, f\"{video_id}.npy\"), features)\n",
    "\n",
    "def extract_frames(video_path, max_frames=40):\n",
    "    cap = cv2.VideoCapture(video_path)\n",
    "    if not cap.isOpened():\n",
    "        raise ValueError(f\"Could not open video: {video_path}\")\n",
    "    \n",
    "    frame_count = int(cap.get(cv2.CAP_PROP_FRAME_COUNT))\n",
    "    sample_rate = max(1, frame_count // max_frames)\n",
    "    frames = []\n",
    "    \n",
    "    for i in range(0, frame_count, sample_rate):\n",
    "        cap.set(cv2.CAP_PROP_POS_FRAMES, i)\n",
    "        ret, frame = cap.read()\n",
    "        if ret:\n",
    "            frames.append(cv2.cvtColor(frame, cv2.COLOR_BGR2RGB))\n",
    "        if len(frames) >= max_frames:\n",
    "            break\n",
    "    \n",
    "    cap.release()\n",
    "    \n",
    "    # Если кадров меньше, чем нужно, дублируем последний кадр вместо нулей\n",
    "    if len(frames) < max_frames and len(frames) > 0:\n",
    "        last_frame = frames[-1]\n",
    "        frames.extend([last_frame for _ in range(max_frames - len(frames))])\n",
    "    elif len(frames) == 0:  # Если кадров нет вообще\n",
    "        frames = [np.zeros((224, 224, 3), dtype=np.uint8) for _ in range(max_frames)]\n",
    "    \n",
    "    return frames"
   ]
  },
  {
   "cell_type": "code",
   "execution_count": 5,
   "id": "519709e0-af8e-4d91-9d79-5674870c567d",
   "metadata": {},
   "outputs": [],
   "source": [
    "# 2. Извлечение признаков\n",
    "\n",
    "class FeatureExtractor:\n",
    "    \"\"\"\n",
    "    Класс для извлечения признаков из видеокадров с использованием предобученной CNN\n",
    "    Основные функции:\n",
    "    - Инициализация предобученной модели CNN (по умолчанию ResNet152)\n",
    "    - Преобразование входных кадров к нужному формату\n",
    "    - Извлечение признаков из каждого кадра\n",
    "    \"\"\"\n",
    "    def __init__(self, cnn_model=None):\n",
    "        if cnn_model is None:\n",
    "            # Загрузка предобученной ResNet152\n",
    "            cnn_model = models.resnet152(weights=models.ResNet152_Weights.IMAGENET1K_V1)\n",
    "            # Удаляем последний классификационный слой\n",
    "            self.model = nn.Sequential(*list(cnn_model.children())[:-1])\n",
    "        else:\n",
    "            self.model = cnn_model\n",
    "\n",
    "        # Перенос модели на устройство (GPU/CPU) и перевод в режим оценки\n",
    "        self.model = self.model.to(device)\n",
    "        self.model.eval()\n",
    "        \n",
    "        # Определение преобразований для входных изображений\n",
    "        self.transform = transforms.Compose([\n",
    "            transforms.ToPILImage(),               # Конвертация в PIL Image\n",
    "            transforms.Resize((224, 224)),         # Изменение размера под вход сети\n",
    "            transforms.ToTensor(),                 # Конвертация в тензор\n",
    "            transforms.Normalize(                  # Нормализация\n",
    "                mean=[0.485, 0.456, 0.406],        # Средние значения ImageNet\n",
    "                std=[0.229, 0.224, 0.225]          # Стандартные отклонения ImageNet\n",
    "            )\n",
    "        ])\n",
    "    \n",
    "    def extract_features(self, frames):\n",
    "        \"\"\"\n",
    "        Извлекает признаки из списка кадров\n",
    "        \n",
    "        Аргументы:\n",
    "            frames (list): Список кадров в формате numpy arrays\n",
    "            \n",
    "        Возвращает:\n",
    "            torch.Tensor: Извлеченные признаки размерности [число_кадров, размерность_признака]\n",
    "            \n",
    "        Процесс работы:\n",
    "        1. Применение преобразований к каждому кадру\n",
    "        2. Извлечение признаков с помощью CNN\n",
    "        3. Накопление и объединение признаков\n",
    "        \"\"\"\n",
    "        features = []\n",
    "        \n",
    "        with torch.no_grad(): # Отключаем вычисление градиентов для ускорения\n",
    "            for frame in frames:\n",
    "                # Применяем преобразования и добавляем batch-размерность\n",
    "                frame = self.transform(frame).unsqueeze(0).to(device)\n",
    "                \n",
    "                # Извлекаем признаки\n",
    "                feature = self.model(frame)\n",
    "                feature = feature.squeeze() # Удаляем лишние размерности\n",
    "                \n",
    "                features.append(feature.cpu()) # Переносим на CPU для экономии памяти\n",
    "        \n",
    "        return torch.stack(features) # Объединяем все признаки в один тензор"
   ]
  },
  {
   "cell_type": "code",
   "execution_count": 6,
   "id": "97a6fb4d-664f-44ce-92bb-78265e21c577",
   "metadata": {},
   "outputs": [],
   "source": [
    "# 3. Архитектура модели\n",
    "\n",
    "class Encoder(nn.Module):\n",
    "    \"\"\"\n",
    "    Видео-энкодер для обработки признаков кадров с учетом временной информации\n",
    "    Использует двунаправленный LSTM для анализа последовательности кадров\n",
    "    \n",
    "    Основные функции:\n",
    "    - Обработка признаков отдельных кадров\n",
    "    - Учет временных зависимостей между кадрами\n",
    "    - Подготовка скрытых состояний для декодера\n",
    "    \"\"\"\n",
    "    def __init__(self, feature_dim, hidden_dim, num_layers=1, dropout=0.5):\n",
    "        \"\"\"\n",
    "        Инициализация энкодера\n",
    "        \n",
    "        Аргументы:\n",
    "            feature_dim (int): Размерность входных признаков кадра\n",
    "            hidden_dim (int): Размерность скрытого слоя LSTM\n",
    "            num_layers (int): Количество слоев LSTM\n",
    "            dropout (float): Вероятность дропаута\n",
    "        \"\"\"\n",
    "        super(Encoder, self).__init__()\n",
    "        \n",
    "        self.feature_dim = feature_dim\n",
    "        self.hidden_dim = hidden_dim\n",
    "        self.num_layers = num_layers\n",
    "        \n",
    "        # Двунаправленный LSTM для временного кодирования\n",
    "        self.lstm = nn.LSTM(\n",
    "            input_size=feature_dim,\n",
    "            hidden_size=hidden_dim,\n",
    "            num_layers=num_layers,\n",
    "            batch_first=True,          # Первая размерность - batch\n",
    "            bidirectional=True,       # Двунаправленная архитектура\n",
    "            dropout=dropout if num_layers > 1 else 0  # Дропаут только для многослойных LSTM\n",
    "        )\n",
    "        \n",
    "    def forward(self, features):\n",
    "        \"\"\"\n",
    "        Прямой проход через энкодер\n",
    "        \n",
    "        Аргументы:\n",
    "            features (torch.Tensor): Признаки видеокадров размерности \n",
    "                                    [batch_size, seq_len, feature_dim]\n",
    "            \n",
    "        Возвращает:\n",
    "            tuple: (outputs, hidden)\n",
    "                - outputs: Выходы LSTM [batch_size, seq_len, hidden_dim*2]\n",
    "                - hidden: Кортеж (скрытое состояние, состояние ячейки)\n",
    "        \"\"\"\n",
    "         # Проверяем размерность входных данных\n",
    "        if features.dim() > 3:\n",
    "            batch_size, seq_len = features.size(0), features.size(1)\n",
    "            # Преобразуем к [batch_size, seq_len, feature_dim]\n",
    "            features = features.view(batch_size, seq_len, -1)\n",
    "            \n",
    "        # Убеждаемся, что последнее измерение имеет правильный размер\n",
    "        if features.size(-1) != self.feature_dim:\n",
    "            raise ValueError(f\"Неверная размерность признаков: ожидается {self.feature_dim}, получено {features.size(-1)}\")\n",
    "        \n",
    "        # Пропускаем признаки через LSTM\n",
    "        outputs, hidden = self.lstm(features)\n",
    "        \n",
    "        return outputs, hidden\n",
    "\n",
    "\n",
    "class AttentionLayer(nn.Module):\n",
    "    \"\"\"\n",
    "    Слой внимания для выделения наиболее релевантных частей видео\n",
    "    Реализует механизм внимания на основе скалярного произведения\n",
    "    \n",
    "    Основные функции:\n",
    "    - Вычисление весов внимания для каждого кадра\n",
    "    - Создание контекстного вектора\n",
    "    \"\"\"\n",
    "    def __init__(self, encoder_dim, decoder_dim):\n",
    "        \"\"\"\n",
    "        Инициализация слоя внимания\n",
    "        \n",
    "        Аргументы:\n",
    "            encoder_dim (int): Размерность выхода энкодера\n",
    "            decoder_dim (int): Размерность скрытого состояния декодера\n",
    "        \"\"\"\n",
    "        super(AttentionLayer, self).__init__()\n",
    "\n",
    "        # Линейные преобразования для вычисления внимания        \n",
    "        self.encoder_attn = nn.Linear(encoder_dim, decoder_dim)\n",
    "        self.full_attn = nn.Linear(decoder_dim, 1)\n",
    "        \n",
    "    def forward(self, encoder_outputs, decoder_hidden):\n",
    "        \"\"\"\n",
    "        Прямой проход через слой внимания\n",
    "        \n",
    "        Аргументы:\n",
    "            encoder_outputs (torch.Tensor): Выходы энкодера [batch_size, seq_len, encoder_dim]\n",
    "            decoder_hidden (torch.Tensor): Скрытое состояние декодера [batch_size, decoder_dim]\n",
    "            \n",
    "        Возвращает:\n",
    "            tuple: (context, attention_weights)\n",
    "                - context: Контекстный вектор [batch_size, encoder_dim]\n",
    "                - attention_weights: Веса внимания [batch_size, seq_len]\n",
    "        \"\"\"\n",
    "        # Проецируем выходы энкодера в пространство декодера\n",
    "        # Размерность: [batch_size, seq_len, decoder_dim]\n",
    "        attn_proj = self.encoder_attn(encoder_outputs)\n",
    "        \n",
    "        # Добавляем размерность для совместимости\n",
    "        # Размерность: [batch_size, 1, decoder_dim]\n",
    "        decoder_hidden = decoder_hidden.unsqueeze(1)\n",
    "        \n",
    "        # Вычисляем оценки внимания через тангенс\n",
    "        # Размерность: [batch_size, seq_len, 1]\n",
    "        attn_scores = self.full_attn(torch.tanh(attn_proj + decoder_hidden))\n",
    "        \n",
    "        # Нормализуем оценки в веса с помощью softmax\n",
    "        # Размерность: [batch_size, seq_len]\n",
    "        attn_weights = F.softmax(attn_scores.squeeze(2), dim=1)\n",
    "        \n",
    "        # Вычисляем взвешенную сумму выходов энкодера\n",
    "        # Размерность: [batch_size, encoder_dim]\n",
    "        context = torch.bmm(attn_weights.unsqueeze(1), encoder_outputs).squeeze(1)\n",
    "        \n",
    "        return context, attn_weights\n",
    "\n",
    "\n",
    "class Decoder(nn.Module):\n",
    "    \"\"\"\n",
    "    Декодер подписей, генерирующий описание слово за словом\n",
    "    Использует механизм внимания для фокусировки на релевантных частях видео\n",
    "    \n",
    "    Основные компоненты:\n",
    "    - Слой эмбеддинга слов\n",
    "    - Механизм внимания\n",
    "    - LSTM ячейка\n",
    "    - Выходной слой\n",
    "    \"\"\"\n",
    "    def __init__(self, vocab_size, embed_dim, encoder_dim, hidden_dim, attention_dim, dropout=0.5):\n",
    "        \"\"\"\n",
    "        Инициализация декодера\n",
    "        \n",
    "        Аргументы:\n",
    "            vocab_size (int): Размер словаря\n",
    "            embed_dim (int): Размерность эмбеддинга слов\n",
    "            encoder_dim (int): Размерность выхода энкодера\n",
    "            hidden_dim (int): Размерность скрытого слоя LSTM\n",
    "            attention_dim (int): Размерность механизма внимания\n",
    "            dropout (float): Вероятность дропаута\n",
    "        \"\"\"\n",
    "        super(Decoder, self).__init__()\n",
    "        \n",
    "        self.vocab_size = vocab_size\n",
    "        self.embed_dim = embed_dim\n",
    "        self.encoder_dim = encoder_dim\n",
    "        self.hidden_dim = hidden_dim\n",
    "        \n",
    "        # Слой эмбеддинга слов\n",
    "        self.embedding = nn.Embedding(vocab_size, embed_dim)\n",
    "        \n",
    "        # Слой внимания\n",
    "        self.attention = AttentionLayer(encoder_dim, hidden_dim)\n",
    "        \n",
    "        # LSTM ячейка\n",
    "        self.lstm = nn.LSTMCell(embed_dim + encoder_dim, hidden_dim)\n",
    "        \n",
    "        # Слой дропаута\n",
    "        self.dropout = nn.Dropout(dropout)\n",
    "        \n",
    "        # Выходной полносвязный слой\n",
    "        self.fc = nn.Linear(hidden_dim, vocab_size)\n",
    "        \n",
    "        # Инициализация весов\n",
    "        self.init_weights()\n",
    "\n",
    "    def init_weights(self):\n",
    "        \"\"\"Инициализация весов для эмбеддингов и выходного слоя.\"\"\"\n",
    "        self.embedding.weight.data.uniform_(-0.1, 0.1)  # Равномерная инициализация\n",
    "        self.fc.bias.data.fill_(0)                      # Нулевые смещения\n",
    "        self.fc.weight.data.uniform_(-0.1, 0.1)         # Равномерная инициализация\n",
    "        \n",
    "    def init_hidden_state(self, batch_size):\n",
    "        \"\"\"\n",
    "        Инициализация скрытого состояния LSTM\n",
    "        \n",
    "        Аргументы:\n",
    "            batch_size (int): Размер батча\n",
    "            \n",
    "        Возвращает:\n",
    "            tuple: (скрытое состояние, состояние ячейки)\n",
    "        \"\"\"\n",
    "        h = torch.zeros(batch_size, self.hidden_dim).to(device)\n",
    "        c = torch.zeros(batch_size, self.hidden_dim).to(device)\n",
    "        return h, c\n",
    "        \n",
    "    def forward(self, encoder_outputs, captions, lengths):\n",
    "        \"\"\"\n",
    "        Прямой проход через декодер (обучение)\n",
    "        \n",
    "        Аргументы:\n",
    "            encoder_outputs (torch.Tensor): Выходы энкодера [batch_size, seq_len, encoder_dim]\n",
    "            captions (torch.Tensor): Истинные подписи [batch_size, max_caption_length]\n",
    "            lengths (list): Фактические длины подписей\n",
    "            \n",
    "        Возвращает:\n",
    "            torch.Tensor: Предсказания [batch_size, max_caption_length, vocab_size]\n",
    "        \"\"\"\n",
    "        batch_size = encoder_outputs.size(0)\n",
    "        \n",
    "        # Сортируем данные по убыванию длины (для эффективности)\n",
    "        lengths, sort_idx = torch.sort(lengths, descending=True)\n",
    "        encoder_outputs = encoder_outputs[sort_idx]\n",
    "        captions = captions[sort_idx]\n",
    "        \n",
    "        # Инициализируем состояние LSTM\n",
    "        h, c = self.init_hidden_state(batch_size)\n",
    "        \n",
    "        # Определяем максимальную длину в батче\n",
    "        max_length = lengths[0].item()\n",
    "        \n",
    "        # Инициализируем тензор предсказаний\n",
    "        predictions = torch.zeros(batch_size, max_length, self.vocab_size).to(device)\n",
    "        \n",
    "        # Получаем эмбеддинги слов\n",
    "        embeddings = self.embedding(captions)\n",
    "        \n",
    "        # Инициализируем контекстный вектор\n",
    "        context, _ = self.attention(encoder_outputs, h)\n",
    "        \n",
    "        # Генерируем слова последовательно\n",
    "        for t in range(max_length):\n",
    "            # Объединяем эмбеддинг и контекстный вектор\n",
    "            lstm_input = torch.cat([embeddings[:, t], context], dim=1)\n",
    "            \n",
    "            # Прямой проход через LSTM\n",
    "            h, c = self.lstm(lstm_input, (h, c))\n",
    "            \n",
    "            # Вычисляем новый контекст\n",
    "            context, _ = self.attention(encoder_outputs, h)\n",
    "            \n",
    "            # Генерируем предсказание следующего слова\n",
    "            output = self.fc(self.dropout(h))\n",
    "            predictions[:, t] = output\n",
    "        \n",
    "        return predictions\n",
    "    \n",
    "    # алгоритм лучевого поиска (beam search) для генерации последовательности\n",
    "    def beam_search(self, encoder_outputs, vocab, max_length=20, beam_size=5):\n",
    "        # Получаем размер батча из выходных данных энкодера\n",
    "        batch_size = encoder_outputs.size(0)\n",
    "        # Определяем устройство (CPU/GPU) для создания новых тензоров\n",
    "        device = encoder_outputs.device\n",
    "    \n",
    "        # Инициализация скрытых состояний LSTM декодера\n",
    "        h, c = self.init_hidden_state(batch_size)\n",
    "        \n",
    "        # Получаем индексы служебных токенов\n",
    "        start_idx = vocab.word2idx['<start>']  # Токен начала последовательности\n",
    "        end_idx = vocab.word2idx['<end>']      # Токен конца последовательности\n",
    "    \n",
    "        # Инициализируем список \"лучей\" (кандидатов)\n",
    "        # Каждый луч: (суммарный логарифм вероятности, последовательность, h, c)\n",
    "        beams = [(0.0, [start_idx], h, c)]\n",
    "        completed = []  # Завершенные последовательности\n",
    "    \n",
    "        # Основной цикл генерации по шагам\n",
    "        for _step in range(max_length):\n",
    "            all_candidates = []\n",
    "            \n",
    "            # Обрабатываем каждый текущий луч\n",
    "            for score, seq, h, c in beams:\n",
    "                # Проверка завершения последовательности\n",
    "                if seq[-1] == end_idx:\n",
    "                    completed.append((score, seq))\n",
    "                    continue  # Пропускаем завершенные последовательности\n",
    "    \n",
    "                # Подготовка последнего токена\n",
    "                last = torch.LongTensor([seq[-1]]).to(device)\n",
    "                \n",
    "                # Forward pass через модель\n",
    "                emb = self.embedding(last)          # Получаем эмбеддинг токена [1, E]\n",
    "                context, _ = self.attention(encoder_outputs, h)  # Контекст внимания\n",
    "                lstm_input = torch.cat([emb, context], dim=1)     # Объединение входов\n",
    "                h_new, c_new = self.lstm(lstm_input, (h, c))      # Обновление состояний\n",
    "                out = self.fc(h_new)                # Преобразование в пространство слов\n",
    "                logp = F.log_softmax(out, dim=1)    # Логарифмические вероятности [1, V]\n",
    "    \n",
    "                # Выбор топ-k кандидатов\n",
    "                topk_logp, topk_idx = logp.topk(beam_size, dim=1)\n",
    "                \n",
    "                # Генерация новых кандидатов для текущего луча\n",
    "                for k in range(beam_size):\n",
    "                    next_token = topk_idx[0, k].item()    # Индекс следующего токена\n",
    "                    next_score = topk_logp[0, k].item()   # Логарифм вероятности\n",
    "                    \n",
    "                    # Обновляем параметры для нового кандидата:\n",
    "                    new_score = score + next_score        # Накопленный счет\n",
    "                    new_seq = seq + [next_token]         # Расширенная последовательность\n",
    "                    all_candidates.append((new_score, new_seq, h_new.clone(), c_new.clone()))\n",
    "    \n",
    "            # Выходим, если нет кандидатов для продолжения\n",
    "            if not all_candidates:\n",
    "                break\n",
    "    \n",
    "            # Сортируем всех кандидатов по убыванию суммарного счета\n",
    "            all_candidates.sort(key=lambda x: x[0], reverse=True)\n",
    "            # Отбираем топ-beam_size кандидатов\n",
    "            beams = all_candidates[:beam_size]\n",
    "    \n",
    "            # Проверка раннего завершения (все лучи завершены)\n",
    "            if all(b[1][-1] == end_idx for b in beams):\n",
    "                completed.extend(beams)\n",
    "                break\n",
    "    \n",
    "        # Обработка случая, когда ни один луч не был завершен\n",
    "        if not completed:\n",
    "            completed = beams\n",
    "    \n",
    "        # Выбор лучшей последовательности\n",
    "        completed.sort(key=lambda x: x[0], reverse=True)\n",
    "        best_seq = completed[0][1]\n",
    "    \n",
    "        # Постобработка последовательности:\n",
    "        # 1. Удаляем стартовый токен\n",
    "        if best_seq and best_seq[0] == start_idx:\n",
    "            best_seq = best_seq[1:]\n",
    "        \n",
    "        # 2. Обрезаем после первого end токена (не включая его)\n",
    "        if end_idx in best_seq:\n",
    "            cut = best_seq.index(end_idx)\n",
    "            best_seq = best_seq[:cut]\n",
    "        \n",
    "        # 3. Удаляем любые оставшиеся end токены (защита)\n",
    "        best_seq = [tok for tok in best_seq if tok != end_idx]\n",
    "    \n",
    "        # Возвращаем последовательность как тензор\n",
    "        return torch.LongTensor(best_seq).to(device)\n",
    "\n",
    "\n",
    "class VideoCaptioningModel(nn.Module):\n",
    "    \"\"\"\n",
    "    Полная модель генерации подписей к видео, объединяющая:\n",
    "    - Энкодер видео\n",
    "    - Декодер с механизмом внимания\n",
    "    \"\"\"\n",
    "    def __init__(self, vocab_size, feature_dim=2048, embed_dim=512, encoder_dim=512, \n",
    "                 decoder_dim=512, attention_dim=512, dropout=0.5):\n",
    "        \"\"\"\n",
    "        Инициализация модели\n",
    "        \n",
    "        Аргументы:\n",
    "            vocab_size (int): Размер словаря\n",
    "            feature_dim (int): Размерность входных признаков\n",
    "            embed_dim (int): Размерность эмбеддингов слов\n",
    "            encoder_dim (int): Размерность скрытого слоя энкодера\n",
    "            decoder_dim (int): Размерность скрытого слоя декодера\n",
    "            attention_dim (int): Размерность механизма внимания\n",
    "            dropout (float): Вероятность дропаута\n",
    "        \"\"\"\n",
    "        super(VideoCaptioningModel, self).__init__()\n",
    "        \n",
    "        # Инициализация энкодера\n",
    "        self.encoder = Encoder(\n",
    "            feature_dim=feature_dim,\n",
    "            hidden_dim=encoder_dim,\n",
    "            dropout=dropout\n",
    "        )\n",
    "        \n",
    "        # Инициализация декодера\n",
    "        self.decoder = Decoder(\n",
    "            vocab_size=vocab_size,\n",
    "            embed_dim=embed_dim,\n",
    "            encoder_dim=encoder_dim * 2,  # Учитываем двунаправленность энкодера\n",
    "            hidden_dim=decoder_dim,\n",
    "            attention_dim=attention_dim,\n",
    "            dropout=dropout\n",
    "        )\n",
    "        \n",
    "    def forward(self, features, captions, lengths):\n",
    "        \"\"\"\n",
    "        Прямой проход через модель\n",
    "        \n",
    "        Аргументы:\n",
    "            features (torch.Tensor): Признаки видео [batch_size, seq_len, feature_dim]\n",
    "            captions (torch.Tensor): Истинные подписи [batch_size, max_caption_length]\n",
    "            lengths (list): Фактические длины подписей\n",
    "            \n",
    "        Возвращает:\n",
    "            torch.Tensor: Предсказания модели [batch_size, max_caption_length, vocab_size]\n",
    "        \"\"\"\n",
    "        # Кодируем видео\n",
    "        encoder_outputs, _ = self.encoder(features)\n",
    "        \n",
    "        # Декодируем подписи\n",
    "        outputs = self.decoder(encoder_outputs, captions, lengths)\n",
    "        \n",
    "        return outputs"
   ]
  },
  {
   "cell_type": "code",
   "execution_count": 7,
   "id": "e6da612b-c046-41b0-ad08-7da38bb361c7",
   "metadata": {},
   "outputs": [],
   "source": [
    "# 4. Функции обучения модели\n",
    "\n",
    "def train_epoch(train_loader, model, criterion, optimizer,\n",
    "                device, teacher_forcing_ratio):\n",
    "    model.train()  # Переводим модель в режим обучения\n",
    "    epoch_loss = 0.0  # Инициализация лосса для эпохи\n",
    "\n",
    "    # Итерация по батчам данных\n",
    "    for features, captions, lengths in train_loader:\n",
    "        # Перенос данных на вычислительное устройство (GPU/CPU)\n",
    "        features, captions = features.to(device), captions.to(device)\n",
    "        optimizer.zero_grad()  # Обнуление градиентов\n",
    "\n",
    "        # --- Прямой проход через энкодер ---\n",
    "        encoder_outputs, _ = model.encoder(features)  # [B, H], где H - размер скрытого состояния\n",
    "        batch_size = features.size(0)\n",
    "        \n",
    "        # Инициализация скрытых состояний декодера\n",
    "        h, c = model.decoder.init_hidden_state(batch_size)\n",
    "        \n",
    "        # Начальный токен - <start> для всех примеров в батче\n",
    "        inputs = captions[:, 0]  # [B]\n",
    "        max_len = max(lengths)   # Максимальная длина подписи в текущем батче\n",
    "        loss = 0.0  # Лосс для текущего батча\n",
    "\n",
    "        # Цикл по временным шагам (пропускаем первый токен <start>)\n",
    "        for t in range(1, max_len):\n",
    "            # a) Эмбеддинг токенов\n",
    "            emb = model.decoder.embedding(inputs)  # [B, embedding_dim]\n",
    "            \n",
    "            # b) Механизм внимания\n",
    "            context, _ = model.decoder.attention(encoder_outputs, h)  # [B, hidden_size]\n",
    "            \n",
    "            # c) Объединение эмбеддинга и контекста\n",
    "            lstm_input = torch.cat([emb, context], dim=1)  # [B, embedding_dim + hidden_size]\n",
    "            \n",
    "            # d) Шаг LSTM декодера\n",
    "            h, c = model.decoder.lstm(lstm_input, (h, c))  # Обновление состояний\n",
    "            \n",
    "            # e) Преобразование скрытого состояния в логиты\n",
    "            logits = model.decoder.fc(h)  # [B, vocab_size]\n",
    "            \n",
    "            # f) Расчет лосса между предсказанием и истинным токеном\n",
    "            loss += criterion(logits, captions[:, t])  # Накопление лосса\n",
    "            \n",
    "            # g) Teacher Forcing: выбор следующего входного токена\n",
    "            if random.random() < teacher_forcing_ratio:\n",
    "                inputs = captions[:, t]  # Истинный предыдущий токен\n",
    "            else:\n",
    "                inputs = logits.argmax(dim=1)  # Предсказанный токен\n",
    "\n",
    "        # Нормализация лосса по длине последовательности\n",
    "        loss = loss / max_len\n",
    "        # Обратное распространение ошибки\n",
    "        loss.backward()\n",
    "        # Обновление параметров модели\n",
    "        optimizer.step()\n",
    "        # Накопление лосса для эпохи\n",
    "        epoch_loss += loss.item()\n",
    "\n",
    "    # Возвращаем средний лосс на батч за эпоху\n",
    "    return epoch_loss / len(train_loader)\n",
    "\n",
    "\n",
    "def validate(model, dataloader, criterion, device):\n",
    "    # Переводим модель в режим оценки (отключаем dropout и другие тренировочные механизмы)\n",
    "    model.eval()\n",
    "    total_loss = 0.0  # Инициализация общего лосса для эпохи валидации\n",
    "\n",
    "    # Блок без вычисления градиентов для экономии памяти и ускорения вычислений\n",
    "    with torch.no_grad():\n",
    "        # Итерация по батчам данных\n",
    "        for features, captions, lengths in dataloader:\n",
    "            # Перенос данных на вычислительное устройство\n",
    "            features, captions = features.to(device), captions.to(device)\n",
    "            \n",
    "            # Прямой проход через энкодер\n",
    "            encoder_outputs, _ = model.encoder(features)  # [B, H]\n",
    "            batch_size = features.size(0)\n",
    "            \n",
    "            # Инициализация скрытых состояний декодера\n",
    "            h, c = model.decoder.init_hidden_state(batch_size)\n",
    "            \n",
    "            # Начальный токен <start> для всех примеров в батче\n",
    "            inputs = captions[:, 0]  # [B]\n",
    "            max_len = max(lengths)   # Максимальная длина в текущем батче\n",
    "            loss = 0.0  # Лосс для текущего батча\n",
    "\n",
    "            # Цикл генерации по временным шагам (без учительского форсинга)\n",
    "            for t in range(1, max_len):\n",
    "                # 1. Получение эмбеддинга токена\n",
    "                emb = model.decoder.embedding(inputs)  # [B, embedding_dim]\n",
    "                \n",
    "                # 2. Вычисление контекста через механизм внимания\n",
    "                context, _ = model.decoder.attention(encoder_outputs, h)  # [B, hidden_size]\n",
    "                \n",
    "                # 3. Объединение эмбеддинга и контекста\n",
    "                lstm_input = torch.cat([emb, context], dim=1)  # [B, emb_dim + hidden_size]\n",
    "                \n",
    "                # 4. Обновление состояний LSTM\n",
    "                h, c = model.decoder.lstm(lstm_input, (h, c))\n",
    "                \n",
    "                # 5. Преобразование в логиты словаря\n",
    "                logits = model.decoder.fc(h)  # [B, vocab_size]\n",
    "                \n",
    "                # 6. Накопление лосса между предсказанием и истинным токеном\n",
    "                loss += criterion(logits, captions[:, t])\n",
    "                \n",
    "                # 7. Всегда используем ground-truth токены (без teacher forcing)\n",
    "                inputs = captions[:, t]  # Принудительная подача правильных токенов\n",
    "\n",
    "            # Усреднение лосса по длине последовательности и добавление к общему лоссу\n",
    "            total_loss += (loss / max_len).item()\n",
    "\n",
    "    # Возвращаем средний лосс на батч за эпоху валидации\n",
    "    return total_loss / len(dataloader)"
   ]
  },
  {
   "cell_type": "code",
   "execution_count": 8,
   "id": "731ec50d-ab0c-4ee8-a3d9-9318702e118c",
   "metadata": {},
   "outputs": [],
   "source": [
    "# 5. Основной цикл обучения модели\n",
    "\n",
    "def train_model(model,\n",
    "                train_loader,\n",
    "                val_loader,\n",
    "                criterion,\n",
    "                optimizer,\n",
    "                num_epochs,\n",
    "                device,\n",
    "                save_dir='checkpoints',\n",
    "                save_every=5,\n",
    "                scheduler=None,\n",
    "                tf_start=1.0,\n",
    "                tf_end=0.5):\n",
    "    \"\"\"\n",
    "    Основная функция для обучения модели с валидацией и сохранением чекпоинтов.\n",
    "\n",
    "    Параметры:\n",
    "        model: nn.Module - модель для обучения\n",
    "        train_loader, val_loader: DataLoader - загрузчики данных\n",
    "        criterion: функция потерь\n",
    "        optimizer: оптимизатор\n",
    "        num_epochs: int - количество эпох обучения\n",
    "        device: torch.device - устройство для вычислений (CPU/GPU)\n",
    "        save_dir: str - директория для сохранения чекпоинтов\n",
    "        save_every: int - периодичность сохранения чекпоинтов (в эпохах)\n",
    "        scheduler: объект - планировщик скорости обучения (ReduceLROnPlateau)\n",
    "        tf_start, tf_end: float - начальное и конечное значение коэффициента Teacher Forcing\n",
    "    \"\"\"\n",
    "    # Создаем директорию для сохранения чекпоинтов\n",
    "    os.makedirs(save_dir, exist_ok=True)\n",
    "    \n",
    "    # Инициализируем историю обучения\n",
    "    history = {'train_loss': [], 'val_loss': []}\n",
    "\n",
    "    # Основной цикл обучения по эпохам\n",
    "    for epoch in range(1, num_epochs + 1):\n",
    "        # 1) Расчет коэффициента Teacher Forcing для текущей эпохи\n",
    "        # Линейное уменьшение от tf_start до tf_end в течение обучения\n",
    "        tf_ratio = max(\n",
    "            tf_end,  # Минимальное значение\n",
    "            tf_start - (epoch - 1) * (tf_start - tf_end) / (num_epochs - 1)\n",
    "        )\n",
    "\n",
    "        # 2) Обучение на одной эпохе\n",
    "        train_loss = train_epoch(\n",
    "            train_loader,\n",
    "            model,\n",
    "            criterion,\n",
    "            optimizer,\n",
    "            device,\n",
    "            tf_ratio\n",
    "        )\n",
    "\n",
    "        # 3) Валидация модели\n",
    "        val_loss = validate(\n",
    "            model,\n",
    "            val_loader,\n",
    "            criterion,\n",
    "            device\n",
    "        )\n",
    "\n",
    "        # 4) Обновление скорости обучения (если используется планировщик)\n",
    "        if scheduler is not None:\n",
    "            scheduler.step(val_loss)  # Обычно для ReduceLROnPlateau\n",
    "\n",
    "        # 5) Сохранение метрик и логирование\n",
    "        history['train_loss'].append(train_loss)\n",
    "        history['val_loss'].append(val_loss)\n",
    "        current_lr = optimizer.param_groups[0]['lr']  # Текущая скорость обучения\n",
    "        \n",
    "        # Вывод информации о прогрессе\n",
    "        print(f\"Эпоха {epoch}/{num_epochs}, \"\n",
    "              f\"Ошибка (обучение): {train_loss:.4f}, \"\n",
    "              f\"Ошибка (валидация): {val_loss:.4f}, \"\n",
    "              f\"Скорость обучения: {current_lr:.6f}, \"\n",
    "              f\"Teacher Forcing: {tf_ratio:.3f}\")\n",
    "\n",
    "        # 6) Сохранение промежуточных результатов\n",
    "        if epoch % save_every == 0:\n",
    "            # Формируем словарь с состоянием модели\n",
    "            ckpt = {\n",
    "                'epoch': epoch,\n",
    "                'model_state': model.state_dict(),  # Веса модели\n",
    "                'optim_state': optimizer.state_dict(),  # Состояние оптимизатора\n",
    "                'train_loss': train_loss,\n",
    "                'val_loss': val_loss,\n",
    "                'lr': current_lr,\n",
    "                'tf_ratio': tf_ratio\n",
    "            }\n",
    "            # Сохраняем чекпоинт\n",
    "            path = os.path.join(save_dir, f\"ckpt_epoch{epoch}.pt\")\n",
    "            torch.save(ckpt, path)\n",
    "            print(f\"Чекпоинт сохранен: {path}\")\n",
    "\n",
    "    # 7) Сохранение финальной модели после завершения обучения\n",
    "    final_path = os.path.join(save_dir, \"final_model.pt\")\n",
    "    torch.save({\n",
    "        'model_state': model.state_dict(),\n",
    "        'history': history  # Сохраняем историю обучения\n",
    "    }, final_path)\n",
    "    print(f\"Финальная модель сохранена: {final_path}\")\n",
    "\n",
    "    return model, history"
   ]
  },
  {
   "cell_type": "code",
   "execution_count": 9,
   "id": "ac8398ad-05c1-4470-a243-28a64fe2a9f1",
   "metadata": {},
   "outputs": [],
   "source": [
    "# 6. Функции оценки качества модели\n",
    "\n",
    "def predict_caption(model, features, vocab, beam_size=3, max_length=20):\n",
    "    \"\"\"\n",
    "    Генерация подписи с использованием обученной модели и сбор весов внимания\n",
    "\n",
    "    Параметры:\n",
    "        model: Обученная модель (ожидается архитектура encoder-decoder с вниманием)\n",
    "        features: Тензор признаков от энкодера [1, num_frames, feat_dim]\n",
    "        vocab: Словарь для преобразования слов<->индексы\n",
    "        beam_size: Параметр для beam search (не используется в текущей реализации)\n",
    "        max_length: Максимальная длина генерируемой подписи\n",
    "\n",
    "    Возвращает:\n",
    "        caption_str: Строка сгенерированной подписи через пробел\n",
    "        attention_weights: Список тензоров с весами внимания для каждого шага\n",
    "    \"\"\"\n",
    "    # Переводим модель в режим инференса\n",
    "    model.eval()\n",
    "    \n",
    "    # Инициализируем список для сбора весов внимания\n",
    "    attention_weights = []\n",
    "    \n",
    "    # Отключаем вычисление градиентов для ускорения и экономии памяти\n",
    "    with torch.no_grad():\n",
    "        # Прямой проход через энкодер\n",
    "        enc_out, _ = model.encoder(features)  # enc_out: [1, num_frames, feat_dim]\n",
    "        \n",
    "        # Инициализируем скрытые состояния декодера\n",
    "        h, c = model.decoder.init_hidden_state(features.size(0))  # batch_size=1\n",
    "        \n",
    "        # Начальный токен <start> как вход для первого шага\n",
    "        inputs = torch.LongTensor([vocab.word2idx['<start>']]).to(features.device)\n",
    "        \n",
    "        generated_idxs = []  # Список для сгенерированных индексов слов\n",
    "\n",
    "        # Цикл генерации по временным шагам\n",
    "        for _ in range(max_length):\n",
    "            # 1. Получаем эмбеддинг текущего слова\n",
    "            emb = model.decoder.embedding(inputs)  # [1, embedding_dim]\n",
    "            \n",
    "            # 2. Вычисляем контекст и веса внимания\n",
    "            context, alpha = model.decoder.attention(enc_out, h)\n",
    "            # alpha: [1, num_frames] - веса внимания для каждого кадра/региона\n",
    "            \n",
    "            # Сохраняем веса внимания (убираем batch-размер)\n",
    "            attention_weights.append(alpha.squeeze(0).cpu())  # [num_frames]\n",
    "            \n",
    "            # 3. Объединяем эмбеддинг и контекст\n",
    "            lstm_input = torch.cat([emb, context], dim=1)  # [1, emb_dim + feat_dim]\n",
    "            \n",
    "            # 4. Обновляем состояние LSTM\n",
    "            h, c = model.decoder.lstm(lstm_input, (h, c))\n",
    "            \n",
    "            # 5. Получаем логиты для следующего слова\n",
    "            logits = model.decoder.fc(h)  # [1, vocab_size]\n",
    "            \n",
    "            # 6. Выбираем наиболее вероятный токен (жадный алгоритм)\n",
    "            inputs = logits.argmax(1)  # [1]\n",
    "            \n",
    "            # Проверяем условие завершения генерации\n",
    "            if inputs.item() == vocab.word2idx['<end>']:\n",
    "                break\n",
    "                \n",
    "            generated_idxs.append(inputs.item())\n",
    "\n",
    "    # Преобразование индексов в слова через словарь\n",
    "    words = [vocab.idx2word[idx] for idx in generated_idxs]\n",
    "    \n",
    "    # Возвращаем результат и историю внимания\n",
    "    return ' '.join(words), attention_weights\n",
    "\n",
    "\n",
    "def caption_collate_fn(batch, vocab):\n",
    "    \"\"\"Пользовательская функция для обработки батчей с подписями разной длины\"\"\"\n",
    "    # Сортируем батч по длине подписей (по убыванию)\n",
    "    batch.sort(key=lambda x: len(x[1]), reverse=True)\n",
    "    features, captions = zip(*batch)\n",
    "    \n",
    "    # Объединяем признаки\n",
    "    features = torch.stack(features, 0)\n",
    "    \n",
    "    # Получаем длины подписей\n",
    "    lengths = torch.LongTensor([len(cap) for cap in captions])\n",
    "    \n",
    "    # Определяем максимальную длину для паддинга\n",
    "    max_length = max(lengths)\n",
    "    \n",
    "    # Создаем тензор с заполненными подписями\n",
    "    padded_captions = torch.zeros(len(captions), max_length, dtype=torch.long)\n",
    "    for i, cap in enumerate(captions):\n",
    "        end = lengths[i]\n",
    "        padded_captions[i, :end] = cap[:end]\n",
    "        # Добавляем токен <end> в конец последовательности\n",
    "        if end < max_length:\n",
    "            padded_captions[i, end] = vocab.word2idx['<end>']\n",
    "    \n",
    "    return features, padded_captions, lengths\n",
    "\n",
    "\n",
    "def visualize_attention(video_frames, caption, attention_weights, grid_shape=(5, 8)):\n",
    "    \"\"\"\n",
    "    Визуализирует веса внимания модели в виде тепловых карт для каждого слова подписи\n",
    "\n",
    "    Параметры:\n",
    "        video_frames (list): Список кадров видео (не используется в текущей реализации)\n",
    "        caption (str): Сгенерированная текстовая подпись\n",
    "        attention_weights (list): Список тензоров с весами внимания для каждого слова\n",
    "        grid_shape (tuple): Размерность сетки для визуализации (строки, столбцы)\n",
    "    \"\"\"\n",
    "    # Разделяем подпись на отдельные слова\n",
    "    words = caption.split()\n",
    "    \n",
    "    # Проверка согласованности данных\n",
    "    if len(words) != len(attention_weights):\n",
    "        print(f\"Предупреждение: Количество слов ({len(words)}) не совпадает с количеством карт внимания ({len(attention_weights)})\")\n",
    "        return\n",
    "\n",
    "    # Создаем сетку графиков (вертикальное расположение)\n",
    "    rows = len(words)\n",
    "    fig, axes = plt.subplots(rows, 1, figsize=(12, 3*rows))\n",
    "    \n",
    "    # Обрабатываем случай с одной подписью (исправление размерности осей)\n",
    "    if rows == 1:\n",
    "        axes = [axes]\n",
    "\n",
    "    # Генерация тепловых карт для каждого слова\n",
    "    for i, (word, weights) in enumerate(zip(words, attention_weights)):\n",
    "        ax = axes[i]\n",
    "        try:\n",
    "            # 1. Преобразование весов в 2D сетку\n",
    "            attention_grid = weights.numpy().reshape(grid_shape)\n",
    "            \n",
    "            # 2. Отображение тепловой карты\n",
    "            im = ax.imshow(attention_grid, \n",
    "                          cmap='viridis', \n",
    "                          interpolation='nearest')\n",
    "            \n",
    "            # 3. Добавление цветовой шкалы\n",
    "            plt.colorbar(im, ax=ax, fraction=0.046, pad=0.04)\n",
    "            \n",
    "            # 4. Настройка оформления\n",
    "            ax.set_title(f\"Слово: '{word}'\", fontsize=12, pad=10)\n",
    "            ax.axis('off')\n",
    "            \n",
    "        except Exception as e:\n",
    "            print(f\"Ошибка визуализации для слова '{word}': {str(e)}\")\n",
    "            ax.axis('off')  # Скрываем поврежденные оси\n",
    "\n",
    "    # Оптимизация расположения элементов\n",
    "    plt.tight_layout(pad=2.0)\n",
    "    plt.show()\n",
    "\n",
    "\n",
    "def evaluate_metrics(model, dataloader, vocab, device):\n",
    "    \"\"\"Оценка качества модели по BLEU-4\n",
    "    \n",
    "    Аргументы:\n",
    "        model: Обученная модель\n",
    "        dataloader: Загрузчик данных для оценки\n",
    "        vocab: Словарь\n",
    "        device: Устройство вычислений\n",
    "        \n",
    "    Возвращает:\n",
    "        dict: Словарь с метриками качества\n",
    "    \"\"\"\n",
    "    model.eval()\n",
    "    references = []\n",
    "    hypotheses = []\n",
    "    \n",
    "    with torch.no_grad():\n",
    "        for features, captions, lengths in tqdm(dataloader, desc='Оценка'):\n",
    "            # Генерация подписи\n",
    "            pred_caption, _ = predict_caption(model, features.to(device), vocab)\n",
    "            hypotheses.append(pred_caption.split())\n",
    "            \n",
    "            # Обработка эталонной подписи\n",
    "            ref = []\n",
    "            for idx in captions[0].cpu().numpy():\n",
    "                if idx == vocab.word2idx['<end>']:\n",
    "                    break\n",
    "                if idx not in [vocab.word2idx['<pad>'], vocab.word2idx['<start>']]:\n",
    "                    ref.append(vocab.idx2word[idx])\n",
    "            references.append([ref])\n",
    "        \n",
    "    # Вычисление метрик\n",
    "    bleu4 = nltk.translate.bleu_score.corpus_bleu(\n",
    "        references, hypotheses, weights=(0.25, 0.25, 0.25, 0.25))\n",
    "    \n",
    "    return {'bleu4': bleu4}\n",
    "\n",
    "\n",
    "def find_optimal_batch_size(model, sample_data, criterion, max_batch_size=16):\n",
    "    \"\"\"Автоматический подбор оптимального размера батча\n",
    "    \n",
    "    Аргументы:\n",
    "        model: Модель для тестирования\n",
    "        sample_data: Пример данных (features, captions)\n",
    "        criterion: Функция потерь для оценки результата\n",
    "        max_batch_size: Максимальный размер батча для проверки\n",
    "        \n",
    "    Возвращает:\n",
    "        int: Оптимальный размер батча\n",
    "    \"\"\"\n",
    "    model.train()\n",
    "    optimal_size = 1\n",
    "    features, captions, lengths = sample_data\n",
    "    \n",
    "    for bs in range(1, max_batch_size + 1, 2):\n",
    "        try:\n",
    "            # Тестовый прогон\n",
    "            batch_features = features.repeat(bs, 1, 1).to(device)\n",
    "            batch_captions = captions.repeat(bs, 1).to(device)\n",
    "            batch_lengths = lengths.repeat(bs) # Создаем batch_lengths\n",
    "\n",
    "            # Передаем все три параметра в модель\n",
    "            outputs = model(batch_features, batch_captions, batch_lengths)\n",
    "            loss = criterion(outputs.view(-1, outputs.size(-1)), batch_captions.view(-1))\n",
    "            loss.backward()\n",
    "            \n",
    "            optimal_size = bs\n",
    "            print(f\"Батч {bs} успешно обработан\")\n",
    "            \n",
    "            # Очистка памяти\n",
    "            del batch_features, batch_captions, batch_lengths, outputs, loss\n",
    "            torch.cuda.empty_cache()\n",
    "            \n",
    "        except RuntimeError as e:\n",
    "            if \"памяти\" in str(e).lower():\n",
    "                print(f\"Достигнут лимит памяти при батче {bs}\")\n",
    "                break\n",
    "                \n",
    "    print(f\"Оптимальный размер батча: {optimal_size}\")\n",
    "    return optimal_size"
   ]
  },
  {
   "cell_type": "code",
   "execution_count": 10,
   "id": "d783a698-532d-4eb4-a21f-afc3bd2d54f0",
   "metadata": {},
   "outputs": [],
   "source": [
    "# 7. Визуализация\n",
    "\n",
    "def visualize_predictions(model, dataloader, vocab, num_samples=5, device='cuda'):\n",
    "    \"\"\"\n",
    "    Визуализация предсказаний модели и тепловых карт внимания.\n",
    "\n",
    "    Args:\n",
    "        model: обученная модель\n",
    "        dataloader: загрузчик тестовых данных\n",
    "        vocab: объект Vocabulary\n",
    "        num_samples: сколько примеров показать\n",
    "        device: 'cuda' или 'cpu'\n",
    "    \"\"\"\n",
    "    model.eval()\n",
    "    samples = []\n",
    "    count = 0\n",
    "\n",
    "    # Собираем несколько примеров\n",
    "    with torch.no_grad():\n",
    "        for features, captions, lengths in dataloader:\n",
    "            if count >= num_samples:\n",
    "                break\n",
    "            features = features.to(device)\n",
    "            pred_caption, attn_weights = predict_caption(model, features, vocab)\n",
    "\n",
    "            # decode ground truth\n",
    "            gt_idxs = captions[0].cpu().tolist()\n",
    "            gt_words = []\n",
    "            for idx in gt_idxs:\n",
    "                if idx == vocab.word2idx['<end>']:\n",
    "                    break\n",
    "                if idx not in {vocab.word2idx['<pad>'],\n",
    "                               vocab.word2idx['<start>']}:\n",
    "                    gt_words.append(vocab.idx2word[idx])\n",
    "            gt_caption = ' '.join(gt_words)\n",
    "\n",
    "            samples.append((gt_caption, pred_caption, attn_weights))\n",
    "            count += 1\n",
    "\n",
    "    # Рисуем для каждого примера текст + heatmap\n",
    "    fig, axes = plt.subplots(num_samples, 2, figsize=(12, 4 * num_samples))\n",
    "    if num_samples == 1:\n",
    "        axes = np.expand_dims(axes, 0)\n",
    "\n",
    "    for i, (gt, pred, attn) in enumerate(samples):\n",
    "        ax_text, ax_hm = axes[i]\n",
    "\n",
    "        # 1) Текстовая часть\n",
    "        ax_text.axis('off')\n",
    "        ax_text.text(0, 0.6, f\"GT:  {gt}\", fontsize=12)\n",
    "        ax_text.text(0, 0.3, f\"PR:  {pred}\", fontsize=12, color='blue')\n",
    "\n",
    "        # 2) Тепловая карта внимания\n",
    "        # Превращаем list[tensor] → numpy matrix\n",
    "        attn_numpy = np.vstack([\n",
    "            w.detach().cpu().reshape(1, -1) for w in attn\n",
    "        ])\n",
    "        im = ax_hm.imshow(attn_numpy,\n",
    "                          aspect='auto',\n",
    "                          cmap='viridis')\n",
    "        ax_hm.set_title(\"Attention Heatmap\")\n",
    "        ax_hm.set_ylabel(\"Шаг слова\")\n",
    "        ax_hm.set_xlabel(\"Позиция кадра\")\n",
    "        # подписи по осям Y - слова предсказания\n",
    "        words = pred.split()\n",
    "        ax_hm.set_yticks(range(len(words)))\n",
    "        ax_hm.set_yticklabels(words, fontsize=10)\n",
    "        plt.colorbar(im, ax=ax_hm, fraction=0.046, pad=0.04)\n",
    "\n",
    "    plt.tight_layout()\n",
    "    plt.show()\n",
    "\n",
    "\n",
    "def analyze_attention_patterns(attention_weights, caption):\n",
    "    \"\"\"\n",
    "    Анализ паттернов внимания: тепловая карта + \n",
    "    вывод наиболее важных кадров для каждого слова.\n",
    "\n",
    "    Args:\n",
    "        attention_weights: list of 1D tensors, len = #слов, each shape=(num_frames,)\n",
    "        caption: строка с сгенерированными словами, разделёнными пробелом\n",
    "    \"\"\"\n",
    "    # 1) Преобразуем в numpy-матрицу [T_words, N_frames]\n",
    "    attn_matrix = np.vstack([\n",
    "        w.detach().cpu().reshape(1, -1) for w in attention_weights\n",
    "    ])\n",
    "    words = caption.split()\n",
    "\n",
    "    # 2) Рисуем тепловую карту\n",
    "    plt.figure(figsize=(10, 6))\n",
    "    plt.imshow(attn_matrix, aspect='auto', cmap='hot')\n",
    "    plt.colorbar(label='Вес внимания')\n",
    "    plt.xlabel('Позиция кадра')\n",
    "    plt.ylabel('Позиция слова')\n",
    "    plt.yticks(range(len(words)), words, fontsize=10)\n",
    "    plt.title('Распределение внимания')\n",
    "    plt.tight_layout()\n",
    "    plt.show()\n",
    "\n",
    "    # 3) Соответствие слов и наиболее «весомых» кадров\n",
    "    word_to_frame = attn_matrix.argmax(axis=1)\n",
    "    print(\"Соответствие слов и кадров:\")\n",
    "    for i, word in enumerate(words):\n",
    "        frm = word_to_frame[i]\n",
    "        print(f\"  '{word}': кадр {frm}, вес = {attn_matrix[i, frm]:.4f}\")\n",
    "\n",
    "    # 4) Самые важные кадры в целом\n",
    "    frame_importance = attn_matrix.sum(axis=0)\n",
    "    top5 = np.argsort(frame_importance)[-5:][::-1]\n",
    "    print(\"\\nСамые важные кадры:\")\n",
    "    for frm in top5:\n",
    "        print(f\"  Кадр {frm}: общий вес = {frame_importance[frm]:.4f}\")"
   ]
  },
  {
   "cell_type": "code",
   "execution_count": 11,
   "id": "2a1acd1d-73f3-4146-af0b-cb66fe411e0b",
   "metadata": {},
   "outputs": [],
   "source": [
    "def main():\n",
    "    print(\"Подготовка данных...\")\n",
    "    video_dir     = \"D:\\\\video_to_text\\\\YouTubeClips\"\n",
    "    caption_file  = \"D:\\\\video_to_text\\\\AllVideoDescriptions.txt\"\n",
    "    feature_dir   = \"D:\\\\video_to_text\\\\features\"\n",
    "\n",
    "    # 1. Предварительное вычисление признаков видео\n",
    "    video_files = [f for f in os.listdir(video_dir) if f.endswith(('.mp4', '.avi'))]\n",
    "    # Проверяем существование всех файлов признаков\n",
    "    features_exist = all(\n",
    "        os.path.exists(os.path.join(feature_dir, os.path.splitext(f)[0] + \".npy\"))\n",
    "                         for f in video_files\n",
    "    )\n",
    "    \n",
    "    if not features_exist:\n",
    "        print(\"Предварительный расчёт признаков...\")\n",
    "        precompute_features(video_dir, feature_dir)\n",
    "    else:\n",
    "        print(\"Признаки уже есть, пропускаем извлечение\")\n",
    "\n",
    "    # 2. Построение словаря\n",
    "    print(\"Построение словаря...\")\n",
    "    vocab = build_vocab(caption_file, threshold=5)  # Слова встречающиеся минимум 5 раз\n",
    "    vocab_size = len(vocab)\n",
    "    print(f\"Размер словаря: {vocab_size}\")\n",
    "\n",
    "    # 3. Разделение данных\n",
    "    full_dataset = VideoDataset(feature_dir, caption_file, vocab)\n",
    "    # Распределение: 70% обучение, 15% валидация, 15% тест\n",
    "    train_size = int(0.7 * len(full_dataset))\n",
    "    val_size   = int(0.15 * len(full_dataset))\n",
    "    test_size  = len(full_dataset) - train_size - val_size\n",
    "    # Воспроизводимое разбиение\n",
    "    train_dataset, val_dataset, test_dataset = random_split(\n",
    "        full_dataset, [train_size, val_size, test_size],\n",
    "        generator=torch.Generator().manual_seed(42)\n",
    "    )\n",
    "\n",
    "    # 4. Определение оптимального размера батча\n",
    "    sample_loader = DataLoader(train_dataset, batch_size=1, shuffle=True,\n",
    "                               collate_fn=lambda b: caption_collate_fn(b, vocab))\n",
    "    sample_data   = next(iter(sample_loader))\n",
    "\n",
    "    # Инициализация модели\n",
    "    model = VideoCaptioningModel(\n",
    "        vocab_size=len(vocab),\n",
    "        feature_dim=2048,       # Размерность признаков энкодера\n",
    "        embed_dim=512,          # Размерность эмбеддингов\n",
    "        encoder_dim=512,        # Размерность скрытого состояния энкодера\n",
    "        decoder_dim=512,        # Размерность скрытого состояния декодера\n",
    "        attention_dim=512,      # Размерность механизма внимания\n",
    "        dropout=0.5             # Уровень дропаута\n",
    "    ).to(device)\n",
    "\n",
    "    # Автоматический подбор batch_size\n",
    "    criterion = nn.CrossEntropyLoss()\n",
    "    batch_size = find_optimal_batch_size(model, sample_data, criterion, max_batch_size=16)\n",
    "\n",
    "    # 5. Инициализация DataLoader'ов\n",
    "    train_loader = DataLoader(train_dataset, batch_size=batch_size, shuffle=True,\n",
    "                              collate_fn=lambda b: caption_collate_fn(b, vocab))\n",
    "    val_loader   = DataLoader(val_dataset,   batch_size=batch_size,\n",
    "                              collate_fn=lambda b: caption_collate_fn(b, vocab))\n",
    "    test_loader  = DataLoader(test_dataset,  batch_size=1,\n",
    "                              collate_fn=lambda b: caption_collate_fn(b, vocab))\n",
    "\n",
    "    # 6. Настройка оптимизатора\n",
    "    optimizer = optim.Adam(\n",
    "        model.parameters(),\n",
    "        lr=1e-4,                # Начальная скорость обучения\n",
    "        weight_decay=1e-5       # L2-регуляризация\n",
    "    )\n",
    "    # Планировщик для динамической регулировки LR\n",
    "    scheduler = torch.optim.lr_scheduler.ReduceLROnPlateau(\n",
    "        optimizer,\n",
    "        mode='min',             # Минимизировать метрику (val_loss)\n",
    "        factor=0.5,             # Умножать LR на 0.5 при плато\n",
    "        patience=2,             # Количество эпох ожидания улучшения\n",
    "        min_lr=1e-6             # Минимальный допустимый LR\n",
    "    )\n",
    "\n",
    "    # 7. Цикл обучения с teacher forcing\n",
    "    print(\"Обучение модели...\")\n",
    "    model, history = train_model(\n",
    "        model=model,\n",
    "        train_loader=train_loader,\n",
    "        val_loader=val_loader,\n",
    "        criterion=criterion,\n",
    "        optimizer=optimizer,\n",
    "        num_epochs=30,\n",
    "        device=device,\n",
    "        save_dir='checkpoints', # Директория для сохранения\n",
    "        save_every=5,           # Сохранять каждые 5 эпох\n",
    "        scheduler=scheduler,\n",
    "        tf_start=1.0,          # Начальный Teacher Forcing\n",
    "        tf_end=0.5              # Конечный Teacher Forcing\n",
    "    )\n",
    "\n",
    "    # 8. Визуализация процесса обучения\n",
    "    plt.figure(figsize=(10, 5))\n",
    "    plt.plot(history['train_loss'], label='Ошибка обучения')\n",
    "    plt.plot(history['val_loss'], label='Ошибка валидации')\n",
    "    plt.title('Динамика обучения')\n",
    "    plt.xlabel('Эпохи')\n",
    "    plt.ylabel('Потеря')\n",
    "    plt.legend()\n",
    "    plt.grid(True)\n",
    "    plt.show()\n",
    "\n",
    "    # 9. Тестирование модели\n",
    "    print(\"Тестирование модели...\")\n",
    "    sample_features, _, _ = next(iter(test_loader))\n",
    "    sample_features = sample_features.to(device)\n",
    "    caption, _ = predict_caption(\n",
    "        model,\n",
    "        sample_features,\n",
    "        vocab,\n",
    "        beam_size=5\n",
    "    )\n",
    "    print(f\"Пример предсказания: {caption}\")\n",
    "\n",
    "    # 10. Оценка метрик качества\n",
    "    print(\"\\nОценка качества модели на тесте...\")\n",
    "    metrics = evaluate_metrics(model, test_loader, vocab, device)\n",
    "    print(f\"BLEU-4: {metrics['bleu4']:.4f}\")\n",
    "\n",
    "    # 11. Визуализация предсказаний для нескольких примеров\n",
    "    print(\"Визуализация предсказаний...\")\n",
    "    visualize_predictions(model, test_loader, vocab, num_samples=3)  # Показать 3 примера\n",
    "\n",
    "    # 12. Анализ паттернов внимания для сгенерированной подписи\n",
    "    print(\"Анализ паттернов внимания на одном примере...\")\n",
    "    feat, cap, _ = next(iter(test_loader))\n",
    "    caption, attn_weights = predict_caption(model, feat.to(device), vocab)\n",
    "    analyze_attention_patterns(attn_weights, caption)"
   ]
  },
  {
   "cell_type": "code",
   "execution_count": 12,
   "id": "d63b6ae2-3db2-4d06-b26f-3b01dc3d4221",
   "metadata": {},
   "outputs": [
    {
     "name": "stdout",
     "output_type": "stream",
     "text": [
      "Подготовка данных...\n",
      "Предварительный расчёт признаков...\n"
     ]
    },
    {
     "data": {
      "application/vnd.jupyter.widget-view+json": {
       "model_id": "b98a9a7cd09940c4b88ec80d7f48abf9",
       "version_major": 2,
       "version_minor": 0
      },
      "text/plain": [
       "Batch 1:   0%|          | 0/16 [00:00<?, ?it/s]"
      ]
     },
     "metadata": {},
     "output_type": "display_data"
    },
    {
     "data": {
      "application/vnd.jupyter.widget-view+json": {
       "model_id": "1be07a8b13524a18925ad2a0ee118b89",
       "version_major": 2,
       "version_minor": 0
      },
      "text/plain": [
       "Batch 2:   0%|          | 0/16 [00:00<?, ?it/s]"
      ]
     },
     "metadata": {},
     "output_type": "display_data"
    },
    {
     "data": {
      "application/vnd.jupyter.widget-view+json": {
       "model_id": "c657d060830e4ae3a5895da5f62e8208",
       "version_major": 2,
       "version_minor": 0
      },
      "text/plain": [
       "Batch 3:   0%|          | 0/16 [00:00<?, ?it/s]"
      ]
     },
     "metadata": {},
     "output_type": "display_data"
    },
    {
     "data": {
      "application/vnd.jupyter.widget-view+json": {
       "model_id": "acc839b408fc4833b4cd7d15ce866e77",
       "version_major": 2,
       "version_minor": 0
      },
      "text/plain": [
       "Batch 4:   0%|          | 0/16 [00:00<?, ?it/s]"
      ]
     },
     "metadata": {},
     "output_type": "display_data"
    },
    {
     "data": {
      "application/vnd.jupyter.widget-view+json": {
       "model_id": "748c2ef1c0644ce9bbc1c96bcb27d7a0",
       "version_major": 2,
       "version_minor": 0
      },
      "text/plain": [
       "Batch 5:   0%|          | 0/16 [00:00<?, ?it/s]"
      ]
     },
     "metadata": {},
     "output_type": "display_data"
    },
    {
     "data": {
      "application/vnd.jupyter.widget-view+json": {
       "model_id": "8604c2869f914c48bb78b7bfcaacf054",
       "version_major": 2,
       "version_minor": 0
      },
      "text/plain": [
       "Batch 6:   0%|          | 0/16 [00:00<?, ?it/s]"
      ]
     },
     "metadata": {},
     "output_type": "display_data"
    },
    {
     "data": {
      "application/vnd.jupyter.widget-view+json": {
       "model_id": "df294fcf859f4ed28ba938104872a8d0",
       "version_major": 2,
       "version_minor": 0
      },
      "text/plain": [
       "Batch 7:   0%|          | 0/16 [00:00<?, ?it/s]"
      ]
     },
     "metadata": {},
     "output_type": "display_data"
    },
    {
     "data": {
      "application/vnd.jupyter.widget-view+json": {
       "model_id": "e57c06fd88f3460c9d0a491455aa1464",
       "version_major": 2,
       "version_minor": 0
      },
      "text/plain": [
       "Batch 8:   0%|          | 0/16 [00:00<?, ?it/s]"
      ]
     },
     "metadata": {},
     "output_type": "display_data"
    },
    {
     "data": {
      "application/vnd.jupyter.widget-view+json": {
       "model_id": "bc905f73bc784239bbb03b55b78b17fc",
       "version_major": 2,
       "version_minor": 0
      },
      "text/plain": [
       "Batch 9:   0%|          | 0/16 [00:00<?, ?it/s]"
      ]
     },
     "metadata": {},
     "output_type": "display_data"
    },
    {
     "data": {
      "application/vnd.jupyter.widget-view+json": {
       "model_id": "3238d62373b84ba4bbe61038387b51b1",
       "version_major": 2,
       "version_minor": 0
      },
      "text/plain": [
       "Batch 10:   0%|          | 0/16 [00:00<?, ?it/s]"
      ]
     },
     "metadata": {},
     "output_type": "display_data"
    },
    {
     "data": {
      "application/vnd.jupyter.widget-view+json": {
       "model_id": "16a4ce7059b04183b7c937c7d7a7eb1b",
       "version_major": 2,
       "version_minor": 0
      },
      "text/plain": [
       "Batch 11:   0%|          | 0/16 [00:00<?, ?it/s]"
      ]
     },
     "metadata": {},
     "output_type": "display_data"
    },
    {
     "data": {
      "application/vnd.jupyter.widget-view+json": {
       "model_id": "5b8069ac2ff840cd9c2c235de49f815e",
       "version_major": 2,
       "version_minor": 0
      },
      "text/plain": [
       "Batch 12:   0%|          | 0/16 [00:00<?, ?it/s]"
      ]
     },
     "metadata": {},
     "output_type": "display_data"
    },
    {
     "data": {
      "application/vnd.jupyter.widget-view+json": {
       "model_id": "9f1b7c505db84730afdd729819cbc24e",
       "version_major": 2,
       "version_minor": 0
      },
      "text/plain": [
       "Batch 13:   0%|          | 0/16 [00:00<?, ?it/s]"
      ]
     },
     "metadata": {},
     "output_type": "display_data"
    },
    {
     "data": {
      "application/vnd.jupyter.widget-view+json": {
       "model_id": "849a534cd50f44e7aa7e12c6d55c6c05",
       "version_major": 2,
       "version_minor": 0
      },
      "text/plain": [
       "Batch 14:   0%|          | 0/16 [00:00<?, ?it/s]"
      ]
     },
     "metadata": {},
     "output_type": "display_data"
    },
    {
     "data": {
      "application/vnd.jupyter.widget-view+json": {
       "model_id": "0290f41dfd5149f7aee350e010b8c2f1",
       "version_major": 2,
       "version_minor": 0
      },
      "text/plain": [
       "Batch 15:   0%|          | 0/16 [00:00<?, ?it/s]"
      ]
     },
     "metadata": {},
     "output_type": "display_data"
    },
    {
     "data": {
      "application/vnd.jupyter.widget-view+json": {
       "model_id": "dfb35d500e5e46cda2dbcc2d3eb1bdde",
       "version_major": 2,
       "version_minor": 0
      },
      "text/plain": [
       "Batch 16:   0%|          | 0/16 [00:00<?, ?it/s]"
      ]
     },
     "metadata": {},
     "output_type": "display_data"
    },
    {
     "data": {
      "application/vnd.jupyter.widget-view+json": {
       "model_id": "7944c5d9682d485a92f2037e486107aa",
       "version_major": 2,
       "version_minor": 0
      },
      "text/plain": [
       "Batch 17:   0%|          | 0/16 [00:00<?, ?it/s]"
      ]
     },
     "metadata": {},
     "output_type": "display_data"
    },
    {
     "data": {
      "application/vnd.jupyter.widget-view+json": {
       "model_id": "4120a6413cef4f4dae862ab63eb5e31e",
       "version_major": 2,
       "version_minor": 0
      },
      "text/plain": [
       "Batch 18:   0%|          | 0/16 [00:00<?, ?it/s]"
      ]
     },
     "metadata": {},
     "output_type": "display_data"
    },
    {
     "data": {
      "application/vnd.jupyter.widget-view+json": {
       "model_id": "5f76d981b1ab474b91b046b5e36ec517",
       "version_major": 2,
       "version_minor": 0
      },
      "text/plain": [
       "Batch 19:   0%|          | 0/16 [00:00<?, ?it/s]"
      ]
     },
     "metadata": {},
     "output_type": "display_data"
    },
    {
     "data": {
      "application/vnd.jupyter.widget-view+json": {
       "model_id": "0e19549bfe4f4a2a8d76f183c892bd68",
       "version_major": 2,
       "version_minor": 0
      },
      "text/plain": [
       "Batch 20:   0%|          | 0/16 [00:00<?, ?it/s]"
      ]
     },
     "metadata": {},
     "output_type": "display_data"
    },
    {
     "data": {
      "application/vnd.jupyter.widget-view+json": {
       "model_id": "c58279c6b902462d9f4cf1a13d4b37a3",
       "version_major": 2,
       "version_minor": 0
      },
      "text/plain": [
       "Batch 21:   0%|          | 0/16 [00:00<?, ?it/s]"
      ]
     },
     "metadata": {},
     "output_type": "display_data"
    },
    {
     "data": {
      "application/vnd.jupyter.widget-view+json": {
       "model_id": "b7c5037a712147f890cc9ebd8ce7f792",
       "version_major": 2,
       "version_minor": 0
      },
      "text/plain": [
       "Batch 22:   0%|          | 0/16 [00:00<?, ?it/s]"
      ]
     },
     "metadata": {},
     "output_type": "display_data"
    },
    {
     "data": {
      "application/vnd.jupyter.widget-view+json": {
       "model_id": "a402bf4b346749e4a181a137882f2eb3",
       "version_major": 2,
       "version_minor": 0
      },
      "text/plain": [
       "Batch 23:   0%|          | 0/16 [00:00<?, ?it/s]"
      ]
     },
     "metadata": {},
     "output_type": "display_data"
    },
    {
     "data": {
      "application/vnd.jupyter.widget-view+json": {
       "model_id": "d6281371a9b54fe7a8c685c928d506e9",
       "version_major": 2,
       "version_minor": 0
      },
      "text/plain": [
       "Batch 24:   0%|          | 0/16 [00:00<?, ?it/s]"
      ]
     },
     "metadata": {},
     "output_type": "display_data"
    },
    {
     "data": {
      "application/vnd.jupyter.widget-view+json": {
       "model_id": "f1fbb73c38c34ba58d0a9591aa83c831",
       "version_major": 2,
       "version_minor": 0
      },
      "text/plain": [
       "Batch 25:   0%|          | 0/16 [00:00<?, ?it/s]"
      ]
     },
     "metadata": {},
     "output_type": "display_data"
    },
    {
     "data": {
      "application/vnd.jupyter.widget-view+json": {
       "model_id": "c779cd5bfe8648ecbb37e078e6953744",
       "version_major": 2,
       "version_minor": 0
      },
      "text/plain": [
       "Batch 26:   0%|          | 0/16 [00:00<?, ?it/s]"
      ]
     },
     "metadata": {},
     "output_type": "display_data"
    },
    {
     "data": {
      "application/vnd.jupyter.widget-view+json": {
       "model_id": "452e47239627412db84244098886ffa1",
       "version_major": 2,
       "version_minor": 0
      },
      "text/plain": [
       "Batch 27:   0%|          | 0/16 [00:00<?, ?it/s]"
      ]
     },
     "metadata": {},
     "output_type": "display_data"
    },
    {
     "data": {
      "application/vnd.jupyter.widget-view+json": {
       "model_id": "e8939aa6b6344d2b939956db1dc56635",
       "version_major": 2,
       "version_minor": 0
      },
      "text/plain": [
       "Batch 28:   0%|          | 0/16 [00:00<?, ?it/s]"
      ]
     },
     "metadata": {},
     "output_type": "display_data"
    },
    {
     "data": {
      "application/vnd.jupyter.widget-view+json": {
       "model_id": "7b934a5029864ba48764e73b831556d6",
       "version_major": 2,
       "version_minor": 0
      },
      "text/plain": [
       "Batch 29:   0%|          | 0/16 [00:00<?, ?it/s]"
      ]
     },
     "metadata": {},
     "output_type": "display_data"
    },
    {
     "data": {
      "application/vnd.jupyter.widget-view+json": {
       "model_id": "9b6e449bdd0846788977a0af5a70cfe3",
       "version_major": 2,
       "version_minor": 0
      },
      "text/plain": [
       "Batch 30:   0%|          | 0/16 [00:00<?, ?it/s]"
      ]
     },
     "metadata": {},
     "output_type": "display_data"
    },
    {
     "data": {
      "application/vnd.jupyter.widget-view+json": {
       "model_id": "6fa9d51e4a4d401ea53707547ae02716",
       "version_major": 2,
       "version_minor": 0
      },
      "text/plain": [
       "Batch 31:   0%|          | 0/16 [00:00<?, ?it/s]"
      ]
     },
     "metadata": {},
     "output_type": "display_data"
    },
    {
     "data": {
      "application/vnd.jupyter.widget-view+json": {
       "model_id": "080b03c51767481785b81d0b36ce63ba",
       "version_major": 2,
       "version_minor": 0
      },
      "text/plain": [
       "Batch 32:   0%|          | 0/16 [00:00<?, ?it/s]"
      ]
     },
     "metadata": {},
     "output_type": "display_data"
    },
    {
     "data": {
      "application/vnd.jupyter.widget-view+json": {
       "model_id": "5add4c326b354ccca797caa6840206a6",
       "version_major": 2,
       "version_minor": 0
      },
      "text/plain": [
       "Batch 33:   0%|          | 0/16 [00:00<?, ?it/s]"
      ]
     },
     "metadata": {},
     "output_type": "display_data"
    },
    {
     "data": {
      "application/vnd.jupyter.widget-view+json": {
       "model_id": "fa1cf42ff1ae4ba5829cadcb63fbfd0a",
       "version_major": 2,
       "version_minor": 0
      },
      "text/plain": [
       "Batch 34:   0%|          | 0/16 [00:00<?, ?it/s]"
      ]
     },
     "metadata": {},
     "output_type": "display_data"
    },
    {
     "data": {
      "application/vnd.jupyter.widget-view+json": {
       "model_id": "e59111c72f794088906d892e0ee37c4d",
       "version_major": 2,
       "version_minor": 0
      },
      "text/plain": [
       "Batch 35:   0%|          | 0/16 [00:00<?, ?it/s]"
      ]
     },
     "metadata": {},
     "output_type": "display_data"
    },
    {
     "data": {
      "application/vnd.jupyter.widget-view+json": {
       "model_id": "62bdb1c1132d49f7b89f93c89c30e5a1",
       "version_major": 2,
       "version_minor": 0
      },
      "text/plain": [
       "Batch 36:   0%|          | 0/16 [00:00<?, ?it/s]"
      ]
     },
     "metadata": {},
     "output_type": "display_data"
    },
    {
     "data": {
      "application/vnd.jupyter.widget-view+json": {
       "model_id": "4c6cab02849345418e97b8e6542345e7",
       "version_major": 2,
       "version_minor": 0
      },
      "text/plain": [
       "Batch 37:   0%|          | 0/16 [00:00<?, ?it/s]"
      ]
     },
     "metadata": {},
     "output_type": "display_data"
    },
    {
     "data": {
      "application/vnd.jupyter.widget-view+json": {
       "model_id": "68979bad7c584c9ea6aa6cf4b6615dbc",
       "version_major": 2,
       "version_minor": 0
      },
      "text/plain": [
       "Batch 38:   0%|          | 0/16 [00:00<?, ?it/s]"
      ]
     },
     "metadata": {},
     "output_type": "display_data"
    },
    {
     "data": {
      "application/vnd.jupyter.widget-view+json": {
       "model_id": "80325f26818b450f8600949b1e425f34",
       "version_major": 2,
       "version_minor": 0
      },
      "text/plain": [
       "Batch 39:   0%|          | 0/16 [00:00<?, ?it/s]"
      ]
     },
     "metadata": {},
     "output_type": "display_data"
    },
    {
     "data": {
      "application/vnd.jupyter.widget-view+json": {
       "model_id": "02dcd8f371be433db81c6a6c7b4dba8d",
       "version_major": 2,
       "version_minor": 0
      },
      "text/plain": [
       "Batch 40:   0%|          | 0/16 [00:00<?, ?it/s]"
      ]
     },
     "metadata": {},
     "output_type": "display_data"
    },
    {
     "data": {
      "application/vnd.jupyter.widget-view+json": {
       "model_id": "d423856d0662464da171133f4dd2a888",
       "version_major": 2,
       "version_minor": 0
      },
      "text/plain": [
       "Batch 41:   0%|          | 0/16 [00:00<?, ?it/s]"
      ]
     },
     "metadata": {},
     "output_type": "display_data"
    },
    {
     "data": {
      "application/vnd.jupyter.widget-view+json": {
       "model_id": "2b2cea58a1a04c1dbd81d16d74030bd9",
       "version_major": 2,
       "version_minor": 0
      },
      "text/plain": [
       "Batch 42:   0%|          | 0/16 [00:00<?, ?it/s]"
      ]
     },
     "metadata": {},
     "output_type": "display_data"
    },
    {
     "data": {
      "application/vnd.jupyter.widget-view+json": {
       "model_id": "61ffa661f7a44d29a1f4c701f847e1d2",
       "version_major": 2,
       "version_minor": 0
      },
      "text/plain": [
       "Batch 43:   0%|          | 0/16 [00:00<?, ?it/s]"
      ]
     },
     "metadata": {},
     "output_type": "display_data"
    },
    {
     "data": {
      "application/vnd.jupyter.widget-view+json": {
       "model_id": "32362f66a9874d67aff6669ac25c1880",
       "version_major": 2,
       "version_minor": 0
      },
      "text/plain": [
       "Batch 44:   0%|          | 0/16 [00:00<?, ?it/s]"
      ]
     },
     "metadata": {},
     "output_type": "display_data"
    },
    {
     "data": {
      "application/vnd.jupyter.widget-view+json": {
       "model_id": "bac21281490946109003f71b21c2856f",
       "version_major": 2,
       "version_minor": 0
      },
      "text/plain": [
       "Batch 45:   0%|          | 0/16 [00:00<?, ?it/s]"
      ]
     },
     "metadata": {},
     "output_type": "display_data"
    },
    {
     "data": {
      "application/vnd.jupyter.widget-view+json": {
       "model_id": "5a6ac57d1e8d45bfa39ad083182cff5e",
       "version_major": 2,
       "version_minor": 0
      },
      "text/plain": [
       "Batch 46:   0%|          | 0/16 [00:00<?, ?it/s]"
      ]
     },
     "metadata": {},
     "output_type": "display_data"
    },
    {
     "data": {
      "application/vnd.jupyter.widget-view+json": {
       "model_id": "8075f66e5d894fc8b88573b63831002d",
       "version_major": 2,
       "version_minor": 0
      },
      "text/plain": [
       "Batch 47:   0%|          | 0/16 [00:00<?, ?it/s]"
      ]
     },
     "metadata": {},
     "output_type": "display_data"
    },
    {
     "data": {
      "application/vnd.jupyter.widget-view+json": {
       "model_id": "f78f1d3b7aaa4175aa30ef97e2ec34bc",
       "version_major": 2,
       "version_minor": 0
      },
      "text/plain": [
       "Batch 48:   0%|          | 0/16 [00:00<?, ?it/s]"
      ]
     },
     "metadata": {},
     "output_type": "display_data"
    },
    {
     "data": {
      "application/vnd.jupyter.widget-view+json": {
       "model_id": "e75bfd8879c449ae9d69cee9ab652b97",
       "version_major": 2,
       "version_minor": 0
      },
      "text/plain": [
       "Batch 49:   0%|          | 0/16 [00:00<?, ?it/s]"
      ]
     },
     "metadata": {},
     "output_type": "display_data"
    },
    {
     "data": {
      "application/vnd.jupyter.widget-view+json": {
       "model_id": "cd125546b7a54ebaaeaf7d829536c643",
       "version_major": 2,
       "version_minor": 0
      },
      "text/plain": [
       "Batch 50:   0%|          | 0/16 [00:00<?, ?it/s]"
      ]
     },
     "metadata": {},
     "output_type": "display_data"
    },
    {
     "data": {
      "application/vnd.jupyter.widget-view+json": {
       "model_id": "1ca56f98ce494817b202dcd5f1ad61f0",
       "version_major": 2,
       "version_minor": 0
      },
      "text/plain": [
       "Batch 51:   0%|          | 0/16 [00:00<?, ?it/s]"
      ]
     },
     "metadata": {},
     "output_type": "display_data"
    },
    {
     "data": {
      "application/vnd.jupyter.widget-view+json": {
       "model_id": "4f7171be8096412191fee908cb613a17",
       "version_major": 2,
       "version_minor": 0
      },
      "text/plain": [
       "Batch 52:   0%|          | 0/16 [00:00<?, ?it/s]"
      ]
     },
     "metadata": {},
     "output_type": "display_data"
    },
    {
     "data": {
      "application/vnd.jupyter.widget-view+json": {
       "model_id": "40d06dd784ac4ec49184ca99262c9980",
       "version_major": 2,
       "version_minor": 0
      },
      "text/plain": [
       "Batch 53:   0%|          | 0/16 [00:00<?, ?it/s]"
      ]
     },
     "metadata": {},
     "output_type": "display_data"
    },
    {
     "data": {
      "application/vnd.jupyter.widget-view+json": {
       "model_id": "cf5a3745ca9847b49fbf58332beda919",
       "version_major": 2,
       "version_minor": 0
      },
      "text/plain": [
       "Batch 54:   0%|          | 0/16 [00:00<?, ?it/s]"
      ]
     },
     "metadata": {},
     "output_type": "display_data"
    },
    {
     "data": {
      "application/vnd.jupyter.widget-view+json": {
       "model_id": "0ad5de24561244ce8f3ddc22a71f70df",
       "version_major": 2,
       "version_minor": 0
      },
      "text/plain": [
       "Batch 55:   0%|          | 0/16 [00:00<?, ?it/s]"
      ]
     },
     "metadata": {},
     "output_type": "display_data"
    },
    {
     "data": {
      "application/vnd.jupyter.widget-view+json": {
       "model_id": "8266ccde466a4c2cbe045ea18c219d3c",
       "version_major": 2,
       "version_minor": 0
      },
      "text/plain": [
       "Batch 56:   0%|          | 0/16 [00:00<?, ?it/s]"
      ]
     },
     "metadata": {},
     "output_type": "display_data"
    },
    {
     "data": {
      "application/vnd.jupyter.widget-view+json": {
       "model_id": "d5b68b51401947db8ea45f0f345d7418",
       "version_major": 2,
       "version_minor": 0
      },
      "text/plain": [
       "Batch 57:   0%|          | 0/16 [00:00<?, ?it/s]"
      ]
     },
     "metadata": {},
     "output_type": "display_data"
    },
    {
     "data": {
      "application/vnd.jupyter.widget-view+json": {
       "model_id": "04756326e7954681bc54f5951800e63d",
       "version_major": 2,
       "version_minor": 0
      },
      "text/plain": [
       "Batch 58:   0%|          | 0/16 [00:00<?, ?it/s]"
      ]
     },
     "metadata": {},
     "output_type": "display_data"
    },
    {
     "data": {
      "application/vnd.jupyter.widget-view+json": {
       "model_id": "4bb641dc23a240fea06cffb19f29a18f",
       "version_major": 2,
       "version_minor": 0
      },
      "text/plain": [
       "Batch 59:   0%|          | 0/16 [00:00<?, ?it/s]"
      ]
     },
     "metadata": {},
     "output_type": "display_data"
    },
    {
     "data": {
      "application/vnd.jupyter.widget-view+json": {
       "model_id": "5ea3e024d458478e8391011a6ff9c044",
       "version_major": 2,
       "version_minor": 0
      },
      "text/plain": [
       "Batch 60:   0%|          | 0/16 [00:00<?, ?it/s]"
      ]
     },
     "metadata": {},
     "output_type": "display_data"
    },
    {
     "data": {
      "application/vnd.jupyter.widget-view+json": {
       "model_id": "7aa11c5b65d7458491a1115496deb072",
       "version_major": 2,
       "version_minor": 0
      },
      "text/plain": [
       "Batch 61:   0%|          | 0/16 [00:00<?, ?it/s]"
      ]
     },
     "metadata": {},
     "output_type": "display_data"
    },
    {
     "data": {
      "application/vnd.jupyter.widget-view+json": {
       "model_id": "8d2bfde2d8634fccaebc443a94fdc997",
       "version_major": 2,
       "version_minor": 0
      },
      "text/plain": [
       "Batch 62:   0%|          | 0/16 [00:00<?, ?it/s]"
      ]
     },
     "metadata": {},
     "output_type": "display_data"
    },
    {
     "data": {
      "application/vnd.jupyter.widget-view+json": {
       "model_id": "793a5a676bdd441398d90c5dc8ad9b72",
       "version_major": 2,
       "version_minor": 0
      },
      "text/plain": [
       "Batch 63:   0%|          | 0/16 [00:00<?, ?it/s]"
      ]
     },
     "metadata": {},
     "output_type": "display_data"
    },
    {
     "data": {
      "application/vnd.jupyter.widget-view+json": {
       "model_id": "4fb66e8800b04a0f94f514597a9e8ca6",
       "version_major": 2,
       "version_minor": 0
      },
      "text/plain": [
       "Batch 64:   0%|          | 0/16 [00:00<?, ?it/s]"
      ]
     },
     "metadata": {},
     "output_type": "display_data"
    },
    {
     "data": {
      "application/vnd.jupyter.widget-view+json": {
       "model_id": "4e278224d8a5438892f1cec49b7dc52d",
       "version_major": 2,
       "version_minor": 0
      },
      "text/plain": [
       "Batch 65:   0%|          | 0/16 [00:00<?, ?it/s]"
      ]
     },
     "metadata": {},
     "output_type": "display_data"
    },
    {
     "data": {
      "application/vnd.jupyter.widget-view+json": {
       "model_id": "ea177c1235514f8d82c4cf43d60b024f",
       "version_major": 2,
       "version_minor": 0
      },
      "text/plain": [
       "Batch 66:   0%|          | 0/16 [00:00<?, ?it/s]"
      ]
     },
     "metadata": {},
     "output_type": "display_data"
    },
    {
     "data": {
      "application/vnd.jupyter.widget-view+json": {
       "model_id": "e133e175820143f3b442722ce201351b",
       "version_major": 2,
       "version_minor": 0
      },
      "text/plain": [
       "Batch 67:   0%|          | 0/16 [00:00<?, ?it/s]"
      ]
     },
     "metadata": {},
     "output_type": "display_data"
    },
    {
     "data": {
      "application/vnd.jupyter.widget-view+json": {
       "model_id": "68b6a248b67445f180e2eed21bc38607",
       "version_major": 2,
       "version_minor": 0
      },
      "text/plain": [
       "Batch 68:   0%|          | 0/16 [00:00<?, ?it/s]"
      ]
     },
     "metadata": {},
     "output_type": "display_data"
    },
    {
     "data": {
      "application/vnd.jupyter.widget-view+json": {
       "model_id": "cddc5bf68a0d48e795b1367949b42c7f",
       "version_major": 2,
       "version_minor": 0
      },
      "text/plain": [
       "Batch 69:   0%|          | 0/16 [00:00<?, ?it/s]"
      ]
     },
     "metadata": {},
     "output_type": "display_data"
    },
    {
     "data": {
      "application/vnd.jupyter.widget-view+json": {
       "model_id": "fb7e2d05237545149bba374c184cb7c9",
       "version_major": 2,
       "version_minor": 0
      },
      "text/plain": [
       "Batch 70:   0%|          | 0/16 [00:00<?, ?it/s]"
      ]
     },
     "metadata": {},
     "output_type": "display_data"
    },
    {
     "data": {
      "application/vnd.jupyter.widget-view+json": {
       "model_id": "70cd6b55fe7c4e6da7315272d47d9bcb",
       "version_major": 2,
       "version_minor": 0
      },
      "text/plain": [
       "Batch 71:   0%|          | 0/16 [00:00<?, ?it/s]"
      ]
     },
     "metadata": {},
     "output_type": "display_data"
    },
    {
     "data": {
      "application/vnd.jupyter.widget-view+json": {
       "model_id": "052d421ebb2941bba416d8e632c2d5f8",
       "version_major": 2,
       "version_minor": 0
      },
      "text/plain": [
       "Batch 72:   0%|          | 0/16 [00:00<?, ?it/s]"
      ]
     },
     "metadata": {},
     "output_type": "display_data"
    },
    {
     "data": {
      "application/vnd.jupyter.widget-view+json": {
       "model_id": "959cb53afe554d50a14fbda157a148a3",
       "version_major": 2,
       "version_minor": 0
      },
      "text/plain": [
       "Batch 73:   0%|          | 0/16 [00:00<?, ?it/s]"
      ]
     },
     "metadata": {},
     "output_type": "display_data"
    },
    {
     "data": {
      "application/vnd.jupyter.widget-view+json": {
       "model_id": "af6eb64089b842a3b8e6a0c8c0e64d4d",
       "version_major": 2,
       "version_minor": 0
      },
      "text/plain": [
       "Batch 74:   0%|          | 0/16 [00:00<?, ?it/s]"
      ]
     },
     "metadata": {},
     "output_type": "display_data"
    },
    {
     "data": {
      "application/vnd.jupyter.widget-view+json": {
       "model_id": "b3013212c2424f3b96c6e4b4b30083b5",
       "version_major": 2,
       "version_minor": 0
      },
      "text/plain": [
       "Batch 75:   0%|          | 0/16 [00:00<?, ?it/s]"
      ]
     },
     "metadata": {},
     "output_type": "display_data"
    },
    {
     "data": {
      "application/vnd.jupyter.widget-view+json": {
       "model_id": "9135f06ec7bf4bd2a68d6320c50b2242",
       "version_major": 2,
       "version_minor": 0
      },
      "text/plain": [
       "Batch 76:   0%|          | 0/16 [00:00<?, ?it/s]"
      ]
     },
     "metadata": {},
     "output_type": "display_data"
    },
    {
     "data": {
      "application/vnd.jupyter.widget-view+json": {
       "model_id": "f58378d64135477ea1c6668452e9bad1",
       "version_major": 2,
       "version_minor": 0
      },
      "text/plain": [
       "Batch 77:   0%|          | 0/16 [00:00<?, ?it/s]"
      ]
     },
     "metadata": {},
     "output_type": "display_data"
    },
    {
     "data": {
      "application/vnd.jupyter.widget-view+json": {
       "model_id": "280c302dab4f4d42b23ad81e9c7fda56",
       "version_major": 2,
       "version_minor": 0
      },
      "text/plain": [
       "Batch 78:   0%|          | 0/16 [00:00<?, ?it/s]"
      ]
     },
     "metadata": {},
     "output_type": "display_data"
    },
    {
     "data": {
      "application/vnd.jupyter.widget-view+json": {
       "model_id": "d24b3ba519864ca38a6c9a4a0b547eba",
       "version_major": 2,
       "version_minor": 0
      },
      "text/plain": [
       "Batch 79:   0%|          | 0/16 [00:00<?, ?it/s]"
      ]
     },
     "metadata": {},
     "output_type": "display_data"
    },
    {
     "data": {
      "application/vnd.jupyter.widget-view+json": {
       "model_id": "7eef742af7a64a37adc5b36c0bf50ab1",
       "version_major": 2,
       "version_minor": 0
      },
      "text/plain": [
       "Batch 80:   0%|          | 0/16 [00:00<?, ?it/s]"
      ]
     },
     "metadata": {},
     "output_type": "display_data"
    },
    {
     "data": {
      "application/vnd.jupyter.widget-view+json": {
       "model_id": "710ca4aedd1b4a35ade3ab956036df78",
       "version_major": 2,
       "version_minor": 0
      },
      "text/plain": [
       "Batch 81:   0%|          | 0/16 [00:00<?, ?it/s]"
      ]
     },
     "metadata": {},
     "output_type": "display_data"
    },
    {
     "data": {
      "application/vnd.jupyter.widget-view+json": {
       "model_id": "512ab0b08eef4cd1b9cf86f43f0aee7d",
       "version_major": 2,
       "version_minor": 0
      },
      "text/plain": [
       "Batch 82:   0%|          | 0/16 [00:00<?, ?it/s]"
      ]
     },
     "metadata": {},
     "output_type": "display_data"
    },
    {
     "data": {
      "application/vnd.jupyter.widget-view+json": {
       "model_id": "8e56579492ae4d5c97d132b41af89d75",
       "version_major": 2,
       "version_minor": 0
      },
      "text/plain": [
       "Batch 83:   0%|          | 0/16 [00:00<?, ?it/s]"
      ]
     },
     "metadata": {},
     "output_type": "display_data"
    },
    {
     "data": {
      "application/vnd.jupyter.widget-view+json": {
       "model_id": "9cf7ad51dc6d4568a3a5812818b1b717",
       "version_major": 2,
       "version_minor": 0
      },
      "text/plain": [
       "Batch 84:   0%|          | 0/16 [00:00<?, ?it/s]"
      ]
     },
     "metadata": {},
     "output_type": "display_data"
    },
    {
     "data": {
      "application/vnd.jupyter.widget-view+json": {
       "model_id": "a8cb343f991f45c8b11e0e1f6e74eae4",
       "version_major": 2,
       "version_minor": 0
      },
      "text/plain": [
       "Batch 85:   0%|          | 0/16 [00:00<?, ?it/s]"
      ]
     },
     "metadata": {},
     "output_type": "display_data"
    },
    {
     "data": {
      "application/vnd.jupyter.widget-view+json": {
       "model_id": "6898a518ebbc4f06bbf004a7825c74c5",
       "version_major": 2,
       "version_minor": 0
      },
      "text/plain": [
       "Batch 86:   0%|          | 0/16 [00:00<?, ?it/s]"
      ]
     },
     "metadata": {},
     "output_type": "display_data"
    },
    {
     "data": {
      "application/vnd.jupyter.widget-view+json": {
       "model_id": "f78492c56c844de59508f034b3a3b33d",
       "version_major": 2,
       "version_minor": 0
      },
      "text/plain": [
       "Batch 87:   0%|          | 0/16 [00:00<?, ?it/s]"
      ]
     },
     "metadata": {},
     "output_type": "display_data"
    },
    {
     "data": {
      "application/vnd.jupyter.widget-view+json": {
       "model_id": "f1999d82c2574b0d9e3bcbcc3d52a2b3",
       "version_major": 2,
       "version_minor": 0
      },
      "text/plain": [
       "Batch 88:   0%|          | 0/16 [00:00<?, ?it/s]"
      ]
     },
     "metadata": {},
     "output_type": "display_data"
    },
    {
     "data": {
      "application/vnd.jupyter.widget-view+json": {
       "model_id": "80717ad8f04445799da03c6fd9ca4960",
       "version_major": 2,
       "version_minor": 0
      },
      "text/plain": [
       "Batch 89:   0%|          | 0/16 [00:00<?, ?it/s]"
      ]
     },
     "metadata": {},
     "output_type": "display_data"
    },
    {
     "data": {
      "application/vnd.jupyter.widget-view+json": {
       "model_id": "6630aee15a6844d29b884e424c950846",
       "version_major": 2,
       "version_minor": 0
      },
      "text/plain": [
       "Batch 90:   0%|          | 0/16 [00:00<?, ?it/s]"
      ]
     },
     "metadata": {},
     "output_type": "display_data"
    },
    {
     "data": {
      "application/vnd.jupyter.widget-view+json": {
       "model_id": "7682cea6a0ca4b35bd1e59fcfc8d11d4",
       "version_major": 2,
       "version_minor": 0
      },
      "text/plain": [
       "Batch 91:   0%|          | 0/16 [00:00<?, ?it/s]"
      ]
     },
     "metadata": {},
     "output_type": "display_data"
    },
    {
     "data": {
      "application/vnd.jupyter.widget-view+json": {
       "model_id": "0a07e82794e5459e8ff1301169ea90e0",
       "version_major": 2,
       "version_minor": 0
      },
      "text/plain": [
       "Batch 92:   0%|          | 0/16 [00:00<?, ?it/s]"
      ]
     },
     "metadata": {},
     "output_type": "display_data"
    },
    {
     "data": {
      "application/vnd.jupyter.widget-view+json": {
       "model_id": "95ad8d2d397249488acc39ceac5ea664",
       "version_major": 2,
       "version_minor": 0
      },
      "text/plain": [
       "Batch 93:   0%|          | 0/16 [00:00<?, ?it/s]"
      ]
     },
     "metadata": {},
     "output_type": "display_data"
    },
    {
     "data": {
      "application/vnd.jupyter.widget-view+json": {
       "model_id": "9d26d1af752048099aa6bde3fa7bb5c8",
       "version_major": 2,
       "version_minor": 0
      },
      "text/plain": [
       "Batch 94:   0%|          | 0/16 [00:00<?, ?it/s]"
      ]
     },
     "metadata": {},
     "output_type": "display_data"
    },
    {
     "data": {
      "application/vnd.jupyter.widget-view+json": {
       "model_id": "16ff065c5e694eb6b38d40b3e656060d",
       "version_major": 2,
       "version_minor": 0
      },
      "text/plain": [
       "Batch 95:   0%|          | 0/16 [00:00<?, ?it/s]"
      ]
     },
     "metadata": {},
     "output_type": "display_data"
    },
    {
     "data": {
      "application/vnd.jupyter.widget-view+json": {
       "model_id": "8aa2a0d0615841b6b16ca706fd852bf0",
       "version_major": 2,
       "version_minor": 0
      },
      "text/plain": [
       "Batch 96:   0%|          | 0/16 [00:00<?, ?it/s]"
      ]
     },
     "metadata": {},
     "output_type": "display_data"
    },
    {
     "data": {
      "application/vnd.jupyter.widget-view+json": {
       "model_id": "2626852fd0464333aff24651d168b4cd",
       "version_major": 2,
       "version_minor": 0
      },
      "text/plain": [
       "Batch 97:   0%|          | 0/16 [00:00<?, ?it/s]"
      ]
     },
     "metadata": {},
     "output_type": "display_data"
    },
    {
     "data": {
      "application/vnd.jupyter.widget-view+json": {
       "model_id": "422ac4529aa0489d9707528e26b2a435",
       "version_major": 2,
       "version_minor": 0
      },
      "text/plain": [
       "Batch 98:   0%|          | 0/16 [00:00<?, ?it/s]"
      ]
     },
     "metadata": {},
     "output_type": "display_data"
    },
    {
     "data": {
      "application/vnd.jupyter.widget-view+json": {
       "model_id": "8a1c80e249db45c38dfd037bedd80f3c",
       "version_major": 2,
       "version_minor": 0
      },
      "text/plain": [
       "Batch 99:   0%|          | 0/16 [00:00<?, ?it/s]"
      ]
     },
     "metadata": {},
     "output_type": "display_data"
    },
    {
     "data": {
      "application/vnd.jupyter.widget-view+json": {
       "model_id": "4388223cc7814a63a35165f8d4ccb1b9",
       "version_major": 2,
       "version_minor": 0
      },
      "text/plain": [
       "Batch 100:   0%|          | 0/16 [00:00<?, ?it/s]"
      ]
     },
     "metadata": {},
     "output_type": "display_data"
    },
    {
     "data": {
      "application/vnd.jupyter.widget-view+json": {
       "model_id": "39479b9ae2f64ae0ae23dd3cc7349ead",
       "version_major": 2,
       "version_minor": 0
      },
      "text/plain": [
       "Batch 101:   0%|          | 0/16 [00:00<?, ?it/s]"
      ]
     },
     "metadata": {},
     "output_type": "display_data"
    },
    {
     "data": {
      "application/vnd.jupyter.widget-view+json": {
       "model_id": "54a5ecc076f747d3a393fb91b2ff09c5",
       "version_major": 2,
       "version_minor": 0
      },
      "text/plain": [
       "Batch 102:   0%|          | 0/16 [00:00<?, ?it/s]"
      ]
     },
     "metadata": {},
     "output_type": "display_data"
    },
    {
     "data": {
      "application/vnd.jupyter.widget-view+json": {
       "model_id": "75683348de954c8591363b66c2c18623",
       "version_major": 2,
       "version_minor": 0
      },
      "text/plain": [
       "Batch 103:   0%|          | 0/16 [00:00<?, ?it/s]"
      ]
     },
     "metadata": {},
     "output_type": "display_data"
    },
    {
     "data": {
      "application/vnd.jupyter.widget-view+json": {
       "model_id": "32c50611e6ad41589d39c5570a853eb1",
       "version_major": 2,
       "version_minor": 0
      },
      "text/plain": [
       "Batch 104:   0%|          | 0/16 [00:00<?, ?it/s]"
      ]
     },
     "metadata": {},
     "output_type": "display_data"
    },
    {
     "data": {
      "application/vnd.jupyter.widget-view+json": {
       "model_id": "61cda72a6f5640448defe9372e61700b",
       "version_major": 2,
       "version_minor": 0
      },
      "text/plain": [
       "Batch 105:   0%|          | 0/16 [00:00<?, ?it/s]"
      ]
     },
     "metadata": {},
     "output_type": "display_data"
    },
    {
     "data": {
      "application/vnd.jupyter.widget-view+json": {
       "model_id": "dae96f2987f249f5a7d48a0a8c1eb79f",
       "version_major": 2,
       "version_minor": 0
      },
      "text/plain": [
       "Batch 106:   0%|          | 0/16 [00:00<?, ?it/s]"
      ]
     },
     "metadata": {},
     "output_type": "display_data"
    },
    {
     "data": {
      "application/vnd.jupyter.widget-view+json": {
       "model_id": "b47d0d765f8c4a288dcf2fa64501cd11",
       "version_major": 2,
       "version_minor": 0
      },
      "text/plain": [
       "Batch 107:   0%|          | 0/16 [00:00<?, ?it/s]"
      ]
     },
     "metadata": {},
     "output_type": "display_data"
    },
    {
     "data": {
      "application/vnd.jupyter.widget-view+json": {
       "model_id": "30174f79bb164c5fa60cb16548baac4f",
       "version_major": 2,
       "version_minor": 0
      },
      "text/plain": [
       "Batch 108:   0%|          | 0/16 [00:00<?, ?it/s]"
      ]
     },
     "metadata": {},
     "output_type": "display_data"
    },
    {
     "data": {
      "application/vnd.jupyter.widget-view+json": {
       "model_id": "f41b88a2b9254b54a835c52666bbcc4f",
       "version_major": 2,
       "version_minor": 0
      },
      "text/plain": [
       "Batch 109:   0%|          | 0/16 [00:00<?, ?it/s]"
      ]
     },
     "metadata": {},
     "output_type": "display_data"
    },
    {
     "data": {
      "application/vnd.jupyter.widget-view+json": {
       "model_id": "529c9a0b9ea147d1827eb19880439f1d",
       "version_major": 2,
       "version_minor": 0
      },
      "text/plain": [
       "Batch 110:   0%|          | 0/16 [00:00<?, ?it/s]"
      ]
     },
     "metadata": {},
     "output_type": "display_data"
    },
    {
     "data": {
      "application/vnd.jupyter.widget-view+json": {
       "model_id": "9e2242d79082475888fb2a6c3ddae244",
       "version_major": 2,
       "version_minor": 0
      },
      "text/plain": [
       "Batch 111:   0%|          | 0/16 [00:00<?, ?it/s]"
      ]
     },
     "metadata": {},
     "output_type": "display_data"
    },
    {
     "data": {
      "application/vnd.jupyter.widget-view+json": {
       "model_id": "d96cf8dd858846adaabe57c29276560d",
       "version_major": 2,
       "version_minor": 0
      },
      "text/plain": [
       "Batch 112:   0%|          | 0/16 [00:00<?, ?it/s]"
      ]
     },
     "metadata": {},
     "output_type": "display_data"
    },
    {
     "data": {
      "application/vnd.jupyter.widget-view+json": {
       "model_id": "aa368ad050aa4145b6c0a486e90731b4",
       "version_major": 2,
       "version_minor": 0
      },
      "text/plain": [
       "Batch 113:   0%|          | 0/16 [00:00<?, ?it/s]"
      ]
     },
     "metadata": {},
     "output_type": "display_data"
    },
    {
     "data": {
      "application/vnd.jupyter.widget-view+json": {
       "model_id": "c870614d852b431bb6b6a7136be07278",
       "version_major": 2,
       "version_minor": 0
      },
      "text/plain": [
       "Batch 114:   0%|          | 0/16 [00:00<?, ?it/s]"
      ]
     },
     "metadata": {},
     "output_type": "display_data"
    },
    {
     "data": {
      "application/vnd.jupyter.widget-view+json": {
       "model_id": "0d0c681299464cd6b969b6d05c634aaf",
       "version_major": 2,
       "version_minor": 0
      },
      "text/plain": [
       "Batch 115:   0%|          | 0/16 [00:00<?, ?it/s]"
      ]
     },
     "metadata": {},
     "output_type": "display_data"
    },
    {
     "data": {
      "application/vnd.jupyter.widget-view+json": {
       "model_id": "f0d9d2d5820a447d8e1dcfd30407fdf8",
       "version_major": 2,
       "version_minor": 0
      },
      "text/plain": [
       "Batch 116:   0%|          | 0/16 [00:00<?, ?it/s]"
      ]
     },
     "metadata": {},
     "output_type": "display_data"
    },
    {
     "data": {
      "application/vnd.jupyter.widget-view+json": {
       "model_id": "11db9e80d60148a78d19a43867181ac5",
       "version_major": 2,
       "version_minor": 0
      },
      "text/plain": [
       "Batch 117:   0%|          | 0/16 [00:00<?, ?it/s]"
      ]
     },
     "metadata": {},
     "output_type": "display_data"
    },
    {
     "data": {
      "application/vnd.jupyter.widget-view+json": {
       "model_id": "f9cbc50847994c87b0bce920225ab11e",
       "version_major": 2,
       "version_minor": 0
      },
      "text/plain": [
       "Batch 118:   0%|          | 0/16 [00:00<?, ?it/s]"
      ]
     },
     "metadata": {},
     "output_type": "display_data"
    },
    {
     "data": {
      "application/vnd.jupyter.widget-view+json": {
       "model_id": "7f92000d6a9e4399a5372796cef07499",
       "version_major": 2,
       "version_minor": 0
      },
      "text/plain": [
       "Batch 119:   0%|          | 0/16 [00:00<?, ?it/s]"
      ]
     },
     "metadata": {},
     "output_type": "display_data"
    },
    {
     "data": {
      "application/vnd.jupyter.widget-view+json": {
       "model_id": "049e25028017426eb42b130788f45cd8",
       "version_major": 2,
       "version_minor": 0
      },
      "text/plain": [
       "Batch 120:   0%|          | 0/16 [00:00<?, ?it/s]"
      ]
     },
     "metadata": {},
     "output_type": "display_data"
    },
    {
     "data": {
      "application/vnd.jupyter.widget-view+json": {
       "model_id": "0e60f3c6d9904617aa0c4edcc864fed8",
       "version_major": 2,
       "version_minor": 0
      },
      "text/plain": [
       "Batch 121:   0%|          | 0/16 [00:00<?, ?it/s]"
      ]
     },
     "metadata": {},
     "output_type": "display_data"
    },
    {
     "data": {
      "application/vnd.jupyter.widget-view+json": {
       "model_id": "47f8fb314653498e8139032693dee56a",
       "version_major": 2,
       "version_minor": 0
      },
      "text/plain": [
       "Batch 122:   0%|          | 0/16 [00:00<?, ?it/s]"
      ]
     },
     "metadata": {},
     "output_type": "display_data"
    },
    {
     "data": {
      "application/vnd.jupyter.widget-view+json": {
       "model_id": "7048120dc527400192d9d0d3c9550a0e",
       "version_major": 2,
       "version_minor": 0
      },
      "text/plain": [
       "Batch 123:   0%|          | 0/16 [00:00<?, ?it/s]"
      ]
     },
     "metadata": {},
     "output_type": "display_data"
    },
    {
     "data": {
      "application/vnd.jupyter.widget-view+json": {
       "model_id": "5e0f7e6495a542d0aa39d97b2ae7b30f",
       "version_major": 2,
       "version_minor": 0
      },
      "text/plain": [
       "Batch 124:   0%|          | 0/2 [00:00<?, ?it/s]"
      ]
     },
     "metadata": {},
     "output_type": "display_data"
    },
    {
     "name": "stdout",
     "output_type": "stream",
     "text": [
      "Построение словаря...\n",
      "Размер словаря: 3985\n",
      "Батч 1 успешно обработан\n",
      "Батч 3 успешно обработан\n",
      "Батч 5 успешно обработан\n",
      "Батч 7 успешно обработан\n",
      "Батч 9 успешно обработан\n",
      "Батч 11 успешно обработан\n",
      "Батч 13 успешно обработан\n",
      "Батч 15 успешно обработан\n",
      "Оптимальный размер батча: 15\n",
      "Обучение модели...\n",
      "Эпоха 1/30, Ошибка (обучение): 3.9600, Ошибка (валидация): 3.1268, Скорость обучения: 0.000100, Teacher Forcing: 1.000\n",
      "Эпоха 2/30, Ошибка (обучение): 2.8334, Ошибка (валидация): 2.7526, Скорость обучения: 0.000100, Teacher Forcing: 0.983\n",
      "Эпоха 3/30, Ошибка (обучение): 2.6329, Ошибка (валидация): 2.6029, Скорость обучения: 0.000100, Teacher Forcing: 0.966\n",
      "Эпоха 4/30, Ошибка (обучение): 2.5810, Ошибка (валидация): 2.5213, Скорость обучения: 0.000100, Teacher Forcing: 0.948\n",
      "Эпоха 5/30, Ошибка (обучение): 2.5076, Ошибка (валидация): 2.3716, Скорость обучения: 0.000100, Teacher Forcing: 0.931\n",
      "Чекпоинт сохранен: checkpoints\\ckpt_epoch5.pt\n",
      "Эпоха 6/30, Ошибка (обучение): 2.3489, Ошибка (валидация): 2.1916, Скорость обучения: 0.000100, Teacher Forcing: 0.914\n",
      "Эпоха 7/30, Ошибка (обучение): 2.2848, Ошибка (валидация): 2.3021, Скорость обучения: 0.000100, Teacher Forcing: 0.897\n",
      "Эпоха 8/30, Ошибка (обучение): 2.2796, Ошибка (валидация): 2.2306, Скорость обучения: 0.000100, Teacher Forcing: 0.879\n",
      "Эпоха 9/30, Ошибка (обучение): 2.2476, Ошибка (валидация): 2.1729, Скорость обучения: 0.000100, Teacher Forcing: 0.862\n",
      "Эпоха 10/30, Ошибка (обучение): 2.2442, Ошибка (валидация): 2.1782, Скорость обучения: 0.000100, Teacher Forcing: 0.845\n",
      "Чекпоинт сохранен: checkpoints\\ckpt_epoch10.pt\n",
      "Эпоха 11/30, Ошибка (обучение): 2.1738, Ошибка (валидация): 2.1470, Скорость обучения: 0.000100, Teacher Forcing: 0.828\n",
      "Эпоха 12/30, Ошибка (обучение): 2.1342, Ошибка (валидация): 2.2228, Скорость обучения: 0.000100, Teacher Forcing: 0.810\n",
      "Эпоха 13/30, Ошибка (обучение): 2.2274, Ошибка (валидация): 1.9822, Скорость обучения: 0.000100, Teacher Forcing: 0.793\n",
      "Эпоха 14/30, Ошибка (обучение): 2.1647, Ошибка (валидация): 2.2102, Скорость обучения: 0.000100, Teacher Forcing: 0.776\n",
      "Эпоха 15/30, Ошибка (обучение): 2.1359, Ошибка (валидация): 2.0638, Скорость обучения: 0.000100, Teacher Forcing: 0.759\n",
      "Чекпоинт сохранен: checkpoints\\ckpt_epoch15.pt\n",
      "Эпоха 16/30, Ошибка (обучение): 2.1254, Ошибка (валидация): 2.2191, Скорость обучения: 0.000050, Teacher Forcing: 0.741\n",
      "Эпоха 17/30, Ошибка (обучение): 2.0519, Ошибка (валидация): 2.0633, Скорость обучения: 0.000050, Teacher Forcing: 0.724\n",
      "Эпоха 18/30, Ошибка (обучение): 2.1646, Ошибка (валидация): 2.1626, Скорость обучения: 0.000050, Teacher Forcing: 0.707\n",
      "Эпоха 19/30, Ошибка (обучение): 2.0687, Ошибка (валидация): 2.1435, Скорость обучения: 0.000025, Teacher Forcing: 0.690\n",
      "Эпоха 20/30, Ошибка (обучение): 2.1012, Ошибка (валидация): 2.0164, Скорость обучения: 0.000025, Teacher Forcing: 0.672\n",
      "Чекпоинт сохранен: checkpoints\\ckpt_epoch20.pt\n",
      "Эпоха 21/30, Ошибка (обучение): 2.0415, Ошибка (валидация): 2.0798, Скорость обучения: 0.000025, Teacher Forcing: 0.655\n",
      "Эпоха 22/30, Ошибка (обучение): 2.1003, Ошибка (валидация): 2.0995, Скорость обучения: 0.000013, Teacher Forcing: 0.638\n",
      "Эпоха 23/30, Ошибка (обучение): 2.1099, Ошибка (валидация): 2.0497, Скорость обучения: 0.000013, Teacher Forcing: 0.621\n",
      "Эпоха 24/30, Ошибка (обучение): 2.0591, Ошибка (валидация): 2.0742, Скорость обучения: 0.000013, Teacher Forcing: 0.603\n",
      "Эпоха 25/30, Ошибка (обучение): 2.0588, Ошибка (валидация): 2.0260, Скорость обучения: 0.000006, Teacher Forcing: 0.586\n",
      "Чекпоинт сохранен: checkpoints\\ckpt_epoch25.pt\n",
      "Эпоха 26/30, Ошибка (обучение): 2.1090, Ошибка (валидация): 1.9917, Скорость обучения: 0.000006, Teacher Forcing: 0.569\n",
      "Эпоха 27/30, Ошибка (обучение): 2.1323, Ошибка (валидация): 1.9952, Скорость обучения: 0.000006, Teacher Forcing: 0.552\n",
      "Эпоха 28/30, Ошибка (обучение): 2.1027, Ошибка (валидация): 1.9696, Скорость обучения: 0.000006, Teacher Forcing: 0.534\n",
      "Эпоха 29/30, Ошибка (обучение): 2.1922, Ошибка (валидация): 1.9825, Скорость обучения: 0.000006, Teacher Forcing: 0.517\n",
      "Эпоха 30/30, Ошибка (обучение): 2.0917, Ошибка (валидация): 1.9362, Скорость обучения: 0.000006, Teacher Forcing: 0.500\n",
      "Чекпоинт сохранен: checkpoints\\ckpt_epoch30.pt\n",
      "Финальная модель сохранена: checkpoints\\final_model.pt\n"
     ]
    },
    {
     "data": {
      "image/png": "[encoded data removed]",
      "text/plain": [
       "<Figure size 1000x500 with 1 Axes>"
      ]
     },
     "metadata": {},
     "output_type": "display_data"
    },
    {
     "name": "stdout",
     "output_type": "stream",
     "text": [
      "Тестирование модели...\n",
      "Пример предсказания: a man is cutting a\n",
      "\n",
      "Оценка качества модели на тесте...\n"
     ]
    },
    {
     "data": {
      "application/vnd.jupyter.widget-view+json": {
       "model_id": "847a3753163b4c7a81844e1e52f4cb46",
       "version_major": 2,
       "version_minor": 0
      },
      "text/plain": [
       "Оценка:   0%|          | 0/296 [00:00<?, ?it/s]"
      ]
     },
     "metadata": {},
     "output_type": "display_data"
    },
    {
     "name": "stdout",
     "output_type": "stream",
     "text": [
      "BLEU-4: 0.0944\n",
      "Визуализация предсказаний...\n"
     ]
    },
    {
     "data": {
      "image/png": "[encoded data removed]",
      "text/plain": [
       "<Figure size 1200x1200 with 9 Axes>"
      ]
     },
     "metadata": {},
     "output_type": "display_data"
    },
    {
     "name": "stdout",
     "output_type": "stream",
     "text": [
      "Анализ паттернов внимания на одном примере...\n"
     ]
    },
    {
     "data": {
      "image/png": "[encoded data removed]",
      "text/plain": [
       "<Figure size 1000x600 with 2 Axes>"
      ]
     },
     "metadata": {},
     "output_type": "display_data"
    },
    {
     "name": "stdout",
     "output_type": "stream",
     "text": [
      "Соответствие слов и кадров:\n",
      "  'a': кадр 10, вес = 0.0600\n",
      "  'man': кадр 10, вес = 0.0633\n",
      "  'is': кадр 10, вес = 0.0644\n",
      "  'cutting': кадр 10, вес = 0.0652\n",
      "  'a': кадр 10, вес = 0.0633\n",
      "\n",
      "Самые важные кадры:\n",
      "  Кадр 10: общий вес = 0.3774\n",
      "  Кадр 5: общий вес = 0.3248\n",
      "  Кадр 7: общий вес = 0.3207\n",
      "  Кадр 6: общий вес = 0.3132\n",
      "  Кадр 8: общий вес = 0.2882\n"
     ]
    }
   ],
   "source": [
    "if __name__ == \"__main__\":\n",
    "    main()"
   ]
  }
 ],
 "metadata": {
  "kernelspec": {
   "display_name": "Python 3 (ipykernel)",
   "language": "python",
   "name": "python3"
  },
  "language_info": {
   "codemirror_mode": {
    "name": "ipython",
    "version": 3
   },
   "file_extension": ".py",
   "mimetype": "text/x-python",
   "name": "python",
   "nbconvert_exporter": "python",
   "pygments_lexer": "ipython3",
   "version": "3.12.9"
  }
 },
 "nbformat": 4,
 "nbformat_minor": 5
}
