{
 "cells": [
  {
   "cell_type": "code",
   "execution_count": 1,
   "id": "52cd822a-f08e-4a06-b339-50dca2a126cb",
   "metadata": {
    "jupyter": {
     "source_hidden": true
    }
   },
   "outputs": [],
   "source": [
    "# Импортируем необходимые библиотеки\n",
    "import os\n",
    "import math\n",
    "import random\n",
    "import numpy as np\n",
    "import torch\n",
    "import torch.nn as nn\n",
    "import torch.optim as optim\n",
    "import torch.nn.functional as F\n",
    "from torch.utils.data import Dataset, DataLoader\n",
    "import cv2\n",
    "import matplotlib.pyplot as plt\n",
    "from tqdm.notebook import tqdm\n",
    "import nltk\n",
    "from collections import Counter\n",
    "import torchvision.models as models\n",
    "import torchvision.transforms as transforms\n",
    "from torch.utils.data import random_split\n",
    "from torch.cuda.amp import GradScaler, autocast\n",
    "import pickle\n",
    "import gdown\n",
    "import zipfile\n",
    "import shutil\n"
   ]
  },
  {
   "cell_type": "code",
   "execution_count": 2,
   "id": "004e6cff-bb66-4c70-aeed-80ec45cc7159",
   "metadata": {
    "jupyter": {
     "source_hidden": true
    }
   },
   "outputs": [],
   "source": [
    "# Установим случайные начальные значения для воспроизводимости\n",
    "torch.manual_seed(42)\n",
    "np.random.seed(42)"
   ]
  },
  {
   "cell_type": "code",
   "execution_count": 3,
   "id": "e5aca0c3-cea0-4be4-b289-aa05a689e106",
   "metadata": {
    "jupyter": {
     "source_hidden": true
    }
   },
   "outputs": [
    {
     "name": "stdout",
     "output_type": "stream",
     "text": [
      "Используемое устройство: cuda\n"
     ]
    }
   ],
   "source": [
    "# Проверим доступность GPU видеокарты\n",
    "device = torch.device(\"cuda\" if torch.cuda.is_available() else \"cpu\")\n",
    "print(f\"Используемое устройство: {device}\")"
   ]
  },
  {
   "cell_type": "code",
   "execution_count": 4,
   "id": "4c300b83-9cce-4dee-ab52-d996757c9c30",
   "metadata": {
    "jupyter": {
     "source_hidden": true
    }
   },
   "outputs": [],
   "source": [
    "def download_data_from_gdrive():\n",
    "    \"\"\"Загружает и распаковывает zip архив с видеофайлами из Google Drive\"\"\"\n",
    "    \n",
    "    # Создаем директории\n",
    "    os.makedirs(\"D:/video_to_text\", exist_ok=True)\n",
    "    \n",
    "    print(\"Загружаем zip архив с видеофайлами...\")\n",
    "    # URL zip файла на Google Drive\n",
    "    zip_url = 'https://drive.google.com/uc?id=1L7auAFyNnMUk8GFqQJYXoLXWxOVQD7HE&export=download'\n",
    "    zip_path = 'D:/video_to_text/videos.zip'\n",
    "    extract_path = 'D:/video_to_text/YouTubeClips'\n",
    "    \n",
    "    try:\n",
    "        # Создаем директорию для распаковки\n",
    "        os.makedirs(extract_path, exist_ok=True)\n",
    "        \n",
    "        # Скачиваем zip файл\n",
    "        print('Скачиваем zip архив с Google Drive...')\n",
    "        gdown.download(zip_url, zip_path, quiet=False)\n",
    "        \n",
    "        # Распаковываем архив\n",
    "        print('Распаковываем архив...')\n",
    "        extract_zip_flat(zip_path, extract_path)\n",
    "        \n",
    "        # Удаляем zip файл для экономии места\n",
    "        if os.path.exists(zip_path):\n",
    "            os.remove(zip_path)\n",
    "            \n",
    "        print('Готово! Видео распакованы в:', extract_path)\n",
    "        \n",
    "    except Exception as e:\n",
    "        print(f\"Ошибка при загрузке архива: {e}\")\n",
    "        return False\n",
    "    \n",
    "    # Загрузка файла описаний\n",
    "    print(\"Загружаем файл с описаниями...\")\n",
    "    description_url = \"https://drive.google.com/uc?id=13Qc0YfeotmttzUhA69MOSW42Ze-Jkhjm&export=download\"\n",
    "    description_path = \"D:/video_to_text/AllVideoDescriptions.txt\"\n",
    "    \n",
    "    try:\n",
    "        gdown.download(description_url, description_path, quiet=False)\n",
    "        print(\"Файл описаний загружен успешно!\")\n",
    "    except Exception as e:\n",
    "        print(f\"Ошибка загрузки файла описаний: {e}\")\n",
    "        return False\n",
    "    \n",
    "    return True\n",
    "\n",
    "def check_and_download_data():\n",
    "    \"\"\"Проверяет наличие данных и загружает при необходимости\"\"\"\n",
    "    video_dir = \"D:/video_to_text/YouTubeClips\"\n",
    "    caption_file = \"D:/video_to_text/AllVideoDescriptions.txt\"\n",
    "    \n",
    "    # Проверяем наличие видеофайлов\n",
    "    video_exists = (os.path.exists(video_dir) and \n",
    "                   len([f for f in os.listdir(video_dir) \n",
    "                       if f.endswith(('.mp4', '.avi', '.mov', '.mkv'))]) > 0)\n",
    "    \n",
    "    # Проверяем наличие файла описаний\n",
    "    caption_exists = os.path.exists(caption_file)\n",
    "    \n",
    "    if not video_exists or not caption_exists:\n",
    "        print(\"Данные не найдены. Загружаем из Google Drive...\")\n",
    "        success = download_data_from_gdrive()\n",
    "        if not success:\n",
    "            print(\"⚠️ Ошибка загрузки данных!\")\n",
    "            return None, None\n",
    "    else:\n",
    "        print(\"Данные уже загружены.\")\n",
    "    \n",
    "    return video_dir, caption_file\n",
    "\n",
    "def extract_zip_flat(zip_path, extract_to):\n",
    "    \"\"\"Распаковывает zip-архив без сохранения структуры папок\"\"\"\n",
    "    \n",
    "    with zipfile.ZipFile(zip_path, 'r') as zip_ref:\n",
    "        for member in zip_ref.namelist():\n",
    "            # Получаем только имя файла без пути к папкам\n",
    "            filename = os.path.basename(member)\n",
    "            \n",
    "            # Пропускаем директории (пустые имена файлов)\n",
    "            if not filename:\n",
    "                continue\n",
    "                \n",
    "            # Пропускаем скрытые файлы и системные файлы\n",
    "            if filename.startswith('.') or filename.startswith('__'):\n",
    "                continue\n",
    "                \n",
    "            # Проверяем, что это видеофайл\n",
    "            if not filename.lower().endswith(('.mp4', '.avi', '.mov', '.mkv')):\n",
    "                continue\n",
    "            \n",
    "            # Читаем содержимое файла из архива\n",
    "            source = zip_ref.open(member)\n",
    "            target_path = os.path.join(extract_to, filename)\n",
    "            \n",
    "            # Записываем файл в целевую директорию\n",
    "            with open(target_path, \"wb\") as target:\n",
    "                with source:\n",
    "                    target.write(source.read())\n",
    "                    \n",
    "    print(f\"Распаковано в {extract_to} без вложенных папок\")\n"
   ]
  },
  {
   "cell_type": "code",
   "execution_count": 5,
   "id": "a131e7c8-d950-4c7a-950e-ba2fdcea7e39",
   "metadata": {
    "jupyter": {
     "source_hidden": true
    }
   },
   "outputs": [],
   "source": [
    "# 1. Предварительная обработка данных\n",
    "\n",
    "class VideoDataset(Dataset):\n",
    "    \"\"\"Датасет для работы с видео и их описаниями\"\"\"\n",
    "    \n",
    "    def __init__(self, feature_dir, caption_file, vocab, max_frames=40):\n",
    "        \"\"\"Инициализация датасета\n",
    "        \n",
    "        Аргументы:\n",
    "            feature_dir (str): Путь к директории с предвычисленными признаками\n",
    "            caption_file (str): Файл с описаниями в формате \"video_id описание\"\n",
    "            vocab (Vocabulary): Объект словаря для токенизации\n",
    "            max_frames (int): Макс. количество кадров на видео\n",
    "        \"\"\"\n",
    "        self.feature_dir = feature_dir\n",
    "        self.max_frames = max_frames\n",
    "        self.vocab = vocab\n",
    "        \n",
    "        # Загрузка и парсинг описаний\n",
    "        self.captions = self._load_captions(caption_file)\n",
    "        self.video_ids = list(self.captions.keys())\n",
    "    \n",
    "    def _load_captions(self, caption_file):\n",
    "        \"\"\"Загружает описания из файла\"\"\"\n",
    "        captions = {}\n",
    "        with open(caption_file, 'r', encoding='utf-8') as f:\n",
    "            for line in f:\n",
    "                parts = line.strip().split(' ', 1)\n",
    "                if len(parts) == 2:\n",
    "                    video_id, caption = parts\n",
    "                    captions.setdefault(video_id, []).append(caption)\n",
    "        return captions\n",
    "    \n",
    "    def __len__(self):\n",
    "        return len(self.video_ids)\n",
    "    \n",
    "    def __getitem__(self, idx):\n",
    "        \"\"\"Получает один элемент датасета по индексу\"\"\"\n",
    "        video_id = self.video_ids[idx]\n",
    "        \n",
    "        # Загрузка предвычисленных признаков\n",
    "        features = self._load_features(video_id)\n",
    "        \n",
    "        # Выбор случайного описания и токенизация\n",
    "        caption = self._process_caption(video_id)\n",
    "        \n",
    "        return features, caption\n",
    "    \n",
    "    def _load_features(self, video_id):\n",
    "        \"\"\"Загружает признаки видео из файла\"\"\"\n",
    "        feature_path = os.path.join(self.feature_dir, f\"{video_id}.npy\")\n",
    "        features = np.load(feature_path)\n",
    "        \n",
    "        # Проверяем и корректируем размерность\n",
    "        if features.ndim > 2:            \n",
    "            features = features.reshape(features.shape[0], -1) # Преобразуем к [seq_len, feature_dim]\n",
    "        return torch.FloatTensor(features).to(device)\n",
    "    \n",
    "    def _process_caption(self, video_id):\n",
    "        \"\"\"Токенизирует и преобразует описание в тензор\"\"\"\n",
    "        caption = np.random.choice(self.captions[video_id])\n",
    "        tokens = nltk.tokenize.word_tokenize(caption.lower())\n",
    "        caption = [self.vocab('<start>')] + [self.vocab(token) for token in tokens] + [self.vocab('<end>')]\n",
    "        return torch.LongTensor(caption)\n",
    "\n",
    "class Vocabulary:\n",
    "    \"\"\"Словарь для преобразования слов в индексы\"\"\"\n",
    "    \n",
    "    def __init__(self):\n",
    "        self.word2idx = {}\n",
    "        self.idx2word = {}\n",
    "        self.idx = 0\n",
    "        self._add_special_tokens()\n",
    "    \n",
    "    def _add_special_tokens(self):\n",
    "        \"\"\"Добавляет специальные токены\"\"\"\n",
    "        for token in ['<pad>', '<start>', '<end>', '<unk>']:\n",
    "            self.add_word(token)\n",
    "    \n",
    "    def add_word(self, word):\n",
    "        \"\"\"Добавляет слово в словарь\"\"\"\n",
    "        if word not in self.word2idx:\n",
    "            self.word2idx[word] = self.idx\n",
    "            self.idx2word[self.idx] = word\n",
    "            self.idx += 1\n",
    "    \n",
    "    def __call__(self, word):\n",
    "        \"\"\"Возвращает индекс слова или токен <unk>\"\"\"\n",
    "        return self.word2idx.get(word, self.word2idx['<unk>'])\n",
    "    \n",
    "    def __len__(self):\n",
    "        return len(self.word2idx)\n",
    "\n",
    "def build_vocab(caption_file, threshold=3):\n",
    "    \"\"\"Строит словарь на основе файла с описаниями\"\"\"\n",
    "    counter = Counter()\n",
    "    \n",
    "    # Подсчет частот слов\n",
    "    with open(caption_file, 'r', encoding='utf-8') as f:\n",
    "        for line in f:\n",
    "            parts = line.strip().split(' ', 1)\n",
    "            if len(parts) == 2:\n",
    "                counter.update(nltk.tokenize.word_tokenize(parts[1].lower()))\n",
    "    \n",
    "    # Фильтрация по порогу\n",
    "    vocab = Vocabulary()\n",
    "    for word, count in counter.items():\n",
    "        if count >= threshold:\n",
    "            vocab.add_word(word)\n",
    "    \n",
    "    return vocab\n",
    "\n",
    "\n",
    "def precompute_features(video_dir, output_dir, batch_size=16):\n",
    "    \"\"\"Предварительно вычисляет признаки видео с помощью ResNet152\"\"\"\n",
    "    \n",
    "    os.makedirs(output_dir, exist_ok=True)\n",
    "    \n",
    "    # Инициализация модели для извлечения признаков\n",
    "    feature_extractor = FeatureExtractor()\n",
    "    \n",
    "    # Обработка видеофайлов\n",
    "    video_files = [f for f in os.listdir(video_dir) if f.endswith(('.mp4', '.avi'))]\n",
    "    \n",
    "    for i in range(0, len(video_files), batch_size):\n",
    "        batch_files = video_files[i:i + batch_size]\n",
    "        \n",
    "        for video_file in tqdm(batch_files, desc=f\"Батч {i//batch_size + 1}\"):\n",
    "            video_id = os.path.splitext(video_file)[0]\n",
    "            feature_path = os.path.join(output_dir, f\"{video_id}.npy\") # Проверяем, существуют ли уже признаки\n",
    "            \n",
    "            if os.path.exists(feature_path):\n",
    "                continue  # Признаки уже есть, пропускаем\n",
    "\n",
    "            video_path = os.path.join(video_dir, video_file)\n",
    "            # Извлечение кадров\n",
    "            frames = extract_frames(video_path)\n",
    "            \n",
    "            # Извлечение признаков\n",
    "            features = feature_extractor.extract_features(frames)\n",
    "            \n",
    "            # Сохранение признаков\n",
    "            np.save(feature_path, features.cpu().numpy())\n",
    "\n",
    "def extract_frames(video_path, max_frames=40):\n",
    "    cap = cv2.VideoCapture(video_path)\n",
    "    if not cap.isOpened():\n",
    "        raise ValueError(f\"Не могу открыть видео: {video_path}\")\n",
    "    \n",
    "    frame_count = int(cap.get(cv2.CAP_PROP_FRAME_COUNT))\n",
    "    sample_rate = max(1, frame_count // max_frames)\n",
    "    frames = []\n",
    "    \n",
    "    for i in range(0, frame_count, sample_rate):\n",
    "        cap.set(cv2.CAP_PROP_POS_FRAMES, i)\n",
    "        ret, frame = cap.read()\n",
    "        if ret:\n",
    "            frames.append(cv2.cvtColor(frame, cv2.COLOR_BGR2RGB))\n",
    "        if len(frames) >= max_frames:\n",
    "            break\n",
    "    \n",
    "    cap.release()\n",
    "    \n",
    "    # Если кадров меньше, чем нужно, дублируем последний кадр вместо нулей\n",
    "    if len(frames) < max_frames and len(frames) > 0:\n",
    "        last_frame = frames[-1]\n",
    "        frames.extend([last_frame for _ in range(max_frames - len(frames))])\n",
    "    elif len(frames) == 0:  # Если кадров нет вообще\n",
    "        frames = [np.zeros((224, 224, 3), dtype=np.uint8) for _ in range(max_frames)]\n",
    "    \n",
    "    return frames"
   ]
  },
  {
   "cell_type": "code",
   "execution_count": 6,
   "id": "519709e0-af8e-4d91-9d79-5674870c567d",
   "metadata": {
    "jupyter": {
     "source_hidden": true
    }
   },
   "outputs": [],
   "source": [
    "# 2. Извлечение признаков\n",
    "\n",
    "class FeatureExtractor:\n",
    "    \"\"\"\n",
    "    Класс для извлечения признаков из видеокадров с использованием предобученной CNN\n",
    "    Основные функции:\n",
    "    - Инициализация предобученной модели CNN (по умолчанию ResNet152)\n",
    "    - Преобразование входных кадров к нужному формату\n",
    "    - Извлечение признаков из каждого кадра\n",
    "    \"\"\"\n",
    "    def __init__(self, cnn_model=None):\n",
    "        if cnn_model is None:\n",
    "            # Загрузка предобученной ResNet152\n",
    "            cnn_model = models.resnet152(weights=models.ResNet152_Weights.IMAGENET1K_V1)\n",
    "            # cnn_model = models.efficientnet_b4(weights=models.EfficientNet_B4_Weights.IMAGENET1K_V1)\n",
    "            # cnn_model = models.convnext_base(weights=models.ConvNeXt_Base_Weights.IMAGENET1K_V1)\n",
    "            \n",
    "            # Удаляем последний классификационный слой\n",
    "            self.model = nn.Sequential(*list(cnn_model.children())[:-1])\n",
    "        else:\n",
    "            self.model = cnn_model\n",
    "\n",
    "        # Перенос модели на устройство (GPU/CPU) и перевод в режим оценки\n",
    "        self.model = self.model.to(device)\n",
    "        self.model.eval()\n",
    "        \n",
    "        # Определение преобразований для входных изображений\n",
    "        self.transform = transforms.Compose([\n",
    "            transforms.ToPILImage(),               # Конвертация в PIL Image\n",
    "            transforms.Resize((224, 224)),         # Изменение размера под вход сети\n",
    "            transforms.ToTensor(),                 # Конвертация в тензор\n",
    "            transforms.Normalize(                  # Нормализация\n",
    "                mean=[0.485, 0.456, 0.406],        # Средние значения ImageNet\n",
    "                std=[0.229, 0.224, 0.225]          # Стандартные отклонения ImageNet\n",
    "            )\n",
    "        ])\n",
    "    \n",
    "    def extract_features(self, frames):\n",
    "        \"\"\"\n",
    "        Извлекает признаки из списка кадров\n",
    "        \n",
    "        Аргументы:\n",
    "            frames (list): Список кадров в формате numpy arrays\n",
    "            \n",
    "        Возвращает:\n",
    "            torch.Tensor: Извлеченные признаки размерности [число_кадров, размерность_признака]\n",
    "            \n",
    "        Процесс работы:\n",
    "        1. Применение преобразований к каждому кадру\n",
    "        2. Извлечение признаков с помощью CNN\n",
    "        3. Накопление и объединение признаков\n",
    "        \"\"\"\n",
    "        features = []\n",
    "        \n",
    "        with torch.no_grad(): # Отключаем вычисление градиентов для ускорения\n",
    "            for frame in frames:\n",
    "                # Применяем преобразования и добавляем batch-размерность\n",
    "                frame = self.transform(frame).unsqueeze(0).to(device)\n",
    "                \n",
    "                # Извлекаем признаки\n",
    "                feature = self.model(frame)\n",
    "                feature = feature.squeeze() # Удаляем лишние размерности\n",
    "                \n",
    "                features.append(feature.cpu()) # Переносим на CPU для экономии памяти\n",
    "        \n",
    "        return torch.stack(features) # Объединяем все признаки в один тензор"
   ]
  },
  {
   "cell_type": "code",
   "execution_count": 7,
   "id": "97a6fb4d-664f-44ce-92bb-78265e21c577",
   "metadata": {
    "jupyter": {
     "source_hidden": true
    }
   },
   "outputs": [],
   "source": [
    "# 3. Архитектура модели\n",
    "\n",
    "class Encoder(nn.Module):\n",
    "    \"\"\"\n",
    "    Видео-энкодер для обработки признаков кадров с учетом временной информации\n",
    "    Использует двунаправленный LSTM для анализа последовательности кадров\n",
    "    \n",
    "    Основные функции:\n",
    "    - Обработка признаков отдельных кадров\n",
    "    - Учет временных зависимостей между кадрами\n",
    "    - Подготовка скрытых состояний для декодера\n",
    "    \"\"\"\n",
    "    def __init__(self, feature_dim, hidden_dim, num_layers=1, dropout=0.5):\n",
    "        \"\"\"\n",
    "        Инициализация энкодера\n",
    "        \n",
    "        Аргументы:\n",
    "            feature_dim (int): Размерность входных признаков кадра\n",
    "            hidden_dim (int): Размерность скрытого слоя LSTM\n",
    "            num_layers (int): Количество слоев LSTM\n",
    "            dropout (float): Вероятность дропаута\n",
    "        \"\"\"\n",
    "        super(Encoder, self).__init__()\n",
    "        \n",
    "        self.feature_dim = feature_dim\n",
    "        self.hidden_dim = hidden_dim\n",
    "        self.num_layers = num_layers\n",
    "        \n",
    "        # Двунаправленный LSTM для временного кодирования\n",
    "        self.lstm = nn.LSTM(\n",
    "            input_size=feature_dim,\n",
    "            hidden_size=hidden_dim,\n",
    "            num_layers=num_layers,\n",
    "            batch_first=True,          # Первая размерность - batch\n",
    "            bidirectional=True,       # Двунаправленная архитектура\n",
    "            dropout=dropout if num_layers > 1 else 0  # Дропаут только для многослойных LSTM\n",
    "        )\n",
    "        \n",
    "    def forward(self, features):\n",
    "        \"\"\"\n",
    "        Прямой проход через энкодер\n",
    "        \n",
    "        Аргументы:\n",
    "            features (torch.Tensor): Признаки видеокадров размерности \n",
    "                                    [batch_size, seq_len, feature_dim]\n",
    "            \n",
    "        Возвращает:\n",
    "            tuple: (outputs, hidden)\n",
    "                - outputs: Выходы LSTM [batch_size, seq_len, hidden_dim*2]\n",
    "                - hidden: Кортеж (скрытое состояние, состояние ячейки)\n",
    "        \"\"\"\n",
    "         # Проверяем размерность входных данных\n",
    "        if features.dim() > 3:\n",
    "            batch_size, seq_len = features.size(0), features.size(1)\n",
    "            # Преобразуем к [batch_size, seq_len, feature_dim]\n",
    "            features = features.view(batch_size, seq_len, -1)\n",
    "            \n",
    "        # Убеждаемся, что последнее измерение имеет правильный размер\n",
    "        if features.size(-1) != self.feature_dim:\n",
    "            raise ValueError(f\"Неверная размерность признаков: ожидается {self.feature_dim}, получено {features.size(-1)}\")\n",
    "        \n",
    "        # Пропускаем признаки через LSTM\n",
    "        outputs, hidden = self.lstm(features)\n",
    "        \n",
    "        return outputs, hidden\n",
    "\n",
    "\n",
    "class MultiHeadAttention(nn.Module):\n",
    "    \"\"\"\n",
    "    Multi-head attention mechanism для выделения наиболее релевантных частей видео\n",
    "    \"\"\"\n",
    "    def __init__(self, encoder_dim, decoder_dim, num_heads=8, dropout=0.1):\n",
    "        super(MultiHeadAttention, self).__init__()\n",
    "        \n",
    "        assert decoder_dim % num_heads == 0\n",
    "        \n",
    "        self.encoder_dim = encoder_dim\n",
    "        self.decoder_dim = decoder_dim\n",
    "        self.num_heads = num_heads\n",
    "        self.head_dim = decoder_dim // num_heads\n",
    "        \n",
    "        # Линейные слои для Q, K, V\n",
    "        self.query_linear = nn.Linear(decoder_dim, decoder_dim)\n",
    "        self.key_linear = nn.Linear(encoder_dim, decoder_dim)\n",
    "        self.value_linear = nn.Linear(encoder_dim, decoder_dim)\n",
    "        \n",
    "        # Выходной слой\n",
    "        self.out_linear = nn.Linear(decoder_dim, encoder_dim)\n",
    "        self.dropout = nn.Dropout(dropout)\n",
    "        \n",
    "    def forward(self, encoder_outputs, decoder_hidden):\n",
    "        batch_size, seq_len, _ = encoder_outputs.size()\n",
    "        \n",
    "        # Получаем Q, K, V\n",
    "        Q = self.query_linear(decoder_hidden.unsqueeze(1))  # [batch, 1, decoder_dim]\n",
    "        K = self.key_linear(encoder_outputs)  # [batch, seq_len, decoder_dim]\n",
    "        V = self.value_linear(encoder_outputs)  # [batch, seq_len, decoder_dim]\n",
    "        \n",
    "        # Разделяем на головы\n",
    "        Q = Q.view(batch_size, 1, self.num_heads, self.head_dim).transpose(1, 2)\n",
    "        K = K.view(batch_size, seq_len, self.num_heads, self.head_dim).transpose(1, 2)\n",
    "        V = V.view(batch_size, seq_len, self.num_heads, self.head_dim).transpose(1, 2)\n",
    "        \n",
    "        # Вычисляем attention scores\n",
    "        scores = torch.matmul(Q, K.transpose(-2, -1)) / math.sqrt(self.head_dim)\n",
    "        attn_weights = F.softmax(scores, dim=-1)\n",
    "        attn_weights = self.dropout(attn_weights)\n",
    "        \n",
    "        # Применяем веса к V\n",
    "        context = torch.matmul(attn_weights, V)\n",
    "        \n",
    "        # Объединяем головы\n",
    "        context = context.transpose(1, 2).contiguous().view(\n",
    "            batch_size, 1, self.decoder_dim\n",
    "        ).squeeze(1)\n",
    "        \n",
    "        # Применяем выходной слой\n",
    "        context = self.out_linear(context)\n",
    "        \n",
    "        # Возвращаем усредненные веса внимания для визуализации\n",
    "        avg_attn_weights = attn_weights.mean(dim=1).squeeze(1)\n",
    "        \n",
    "        return context, avg_attn_weights\n",
    "\n",
    "\n",
    "class Decoder(nn.Module):\n",
    "    \"\"\"\n",
    "    Декодер подписей, генерирующий описание слово за словом\n",
    "    Использует механизм внимания для фокусировки на релевантных частях видео\n",
    "    \n",
    "    Основные компоненты:\n",
    "    - Слой эмбеддинга слов\n",
    "    - Механизм внимания\n",
    "    - LSTM ячейка\n",
    "    - Выходной слой\n",
    "    \"\"\"\n",
    "    def __init__(self, vocab_size, embed_dim, encoder_dim, hidden_dim, attention_dim, dropout=0.5):\n",
    "        \"\"\"\n",
    "        Инициализация декодера\n",
    "        \n",
    "        Аргументы:\n",
    "            vocab_size (int): Размер словаря\n",
    "            embed_dim (int): Размерность эмбеддинга слов\n",
    "            encoder_dim (int): Размерность выхода энкодера\n",
    "            hidden_dim (int): Размерность скрытого слоя LSTM\n",
    "            attention_dim (int): Размерность механизма внимания\n",
    "            dropout (float): Вероятность дропаута\n",
    "        \"\"\"\n",
    "        super(Decoder, self).__init__()\n",
    "        \n",
    "        self.vocab_size = vocab_size\n",
    "        self.embed_dim = embed_dim\n",
    "        self.encoder_dim = encoder_dim\n",
    "        self.hidden_dim = hidden_dim\n",
    "        \n",
    "        # Слой эмбеддинга слов\n",
    "        self.embedding = nn.Embedding(vocab_size, embed_dim)\n",
    "        \n",
    "        # Слой внимания\n",
    "        self.attention = MultiHeadAttention(encoder_dim, hidden_dim, num_heads=8, dropout=dropout)\n",
    "        \n",
    "        # LSTM ячейка\n",
    "        self.lstm = nn.LSTMCell(embed_dim + encoder_dim, hidden_dim)\n",
    "        \n",
    "        # Слой дропаута\n",
    "        self.dropout = nn.Dropout(dropout)\n",
    "        \n",
    "        # Выходной полносвязный слой\n",
    "        self.fc = nn.Linear(hidden_dim, vocab_size)\n",
    "        \n",
    "        # Инициализация весов\n",
    "        self.init_weights()\n",
    "\n",
    "    def init_weights(self):\n",
    "        \"\"\"Инициализация весов для эмбеддингов и выходного слоя.\"\"\"\n",
    "        self.embedding.weight.data.uniform_(-0.1, 0.1)  # Равномерная инициализация\n",
    "        self.fc.bias.data.fill_(0)                      # Нулевые смещения\n",
    "        self.fc.weight.data.uniform_(-0.1, 0.1)         # Равномерная инициализация\n",
    "        \n",
    "    def init_hidden_state(self, batch_size):\n",
    "        \"\"\"\n",
    "        Инициализация скрытого состояния LSTM\n",
    "        \n",
    "        Аргументы:\n",
    "            batch_size (int): Размер батча\n",
    "            \n",
    "        Возвращает:\n",
    "            tuple: (скрытое состояние, состояние ячейки)\n",
    "        \"\"\"\n",
    "        h = torch.zeros(batch_size, self.hidden_dim).to(device)\n",
    "        c = torch.zeros(batch_size, self.hidden_dim).to(device)\n",
    "        return h, c\n",
    "        \n",
    "    def forward(self, encoder_outputs, captions, lengths):\n",
    "        \"\"\"\n",
    "        Прямой проход через декодер (обучение)\n",
    "        \n",
    "        Аргументы:\n",
    "            encoder_outputs (torch.Tensor): Выходы энкодера [batch_size, seq_len, encoder_dim]\n",
    "            captions (torch.Tensor): Истинные подписи [batch_size, max_caption_length]\n",
    "            lengths (list): Фактические длины подписей\n",
    "            \n",
    "        Возвращает:\n",
    "            torch.Tensor: Предсказания [batch_size, max_caption_length, vocab_size]\n",
    "        \"\"\"\n",
    "        batch_size = encoder_outputs.size(0)\n",
    "        \n",
    "        # Сортируем данные по убыванию длины (для эффективности)\n",
    "        lengths, sort_idx = torch.sort(lengths, descending=True)\n",
    "        encoder_outputs = encoder_outputs[sort_idx]\n",
    "        captions = captions[sort_idx]\n",
    "        \n",
    "        # Инициализируем состояние LSTM\n",
    "        h, c = self.init_hidden_state(batch_size)\n",
    "        \n",
    "        # Определяем максимальную длину в батче\n",
    "        max_length = lengths[0].item()\n",
    "        \n",
    "        # Инициализируем тензор предсказаний\n",
    "        predictions = torch.zeros(batch_size, max_length, self.vocab_size).to(device)\n",
    "        \n",
    "        # Получаем эмбеддинги слов\n",
    "        embeddings = self.embedding(captions)\n",
    "        \n",
    "        # Инициализируем контекстный вектор\n",
    "        context, _ = self.attention(encoder_outputs, h)\n",
    "        \n",
    "        # Генерируем слова последовательно\n",
    "        for t in range(max_length):\n",
    "            # Объединяем эмбеддинг и контекстный вектор\n",
    "            lstm_input = torch.cat([embeddings[:, t], context], dim=1)\n",
    "            \n",
    "            # Прямой проход через LSTM\n",
    "            h, c = self.lstm(lstm_input, (h, c))\n",
    "            \n",
    "            # Вычисляем новый контекст\n",
    "            context, _ = self.attention(encoder_outputs, h)\n",
    "            \n",
    "            # Генерируем предсказание следующего слова\n",
    "            output = self.fc(self.dropout(h))\n",
    "            predictions[:, t] = output\n",
    "        \n",
    "        return predictions\n",
    "    \n",
    "    # алгоритм лучевого поиска (beam search) для генерации последовательности\n",
    "    def beam_search(self, encoder_outputs, vocab, max_length=20, beam_size=5):\n",
    "        # Получаем размер батча из выходных данных энкодера\n",
    "        batch_size = encoder_outputs.size(0)\n",
    "        # Определяем устройство (CPU/GPU) для создания новых тензоров\n",
    "        device = encoder_outputs.device\n",
    "    \n",
    "        # Инициализация скрытых состояний LSTM декодера\n",
    "        h, c = self.init_hidden_state(batch_size)\n",
    "        \n",
    "        # Получаем индексы служебных токенов\n",
    "        start_idx = vocab.word2idx['<start>']  # Токен начала последовательности\n",
    "        end_idx = vocab.word2idx['<end>']      # Токен конца последовательности\n",
    "    \n",
    "        # Инициализируем список \"лучей\" (кандидатов)\n",
    "        # Каждый луч: (суммарный логарифм вероятности, последовательность, h, c)\n",
    "        beams = [(0.0, [start_idx], h, c)]\n",
    "        completed = []  # Завершенные последовательности\n",
    "    \n",
    "        # Основной цикл генерации по шагам\n",
    "        for _step in range(max_length):\n",
    "            all_candidates = []\n",
    "            \n",
    "            # Обрабатываем каждый текущий луч\n",
    "            for score, seq, h, c in beams:\n",
    "                # Проверка завершения последовательности\n",
    "                if seq[-1] == end_idx:\n",
    "                    completed.append((score, seq))\n",
    "                    continue  # Пропускаем завершенные последовательности\n",
    "    \n",
    "                # Подготовка последнего токена\n",
    "                last = torch.LongTensor([seq[-1]]).to(device)\n",
    "                \n",
    "                # Forward pass через модель\n",
    "                emb = self.embedding(last)          # Получаем эмбеддинг токена [1, E]\n",
    "                context, _ = self.attention(encoder_outputs, h)  # Контекст внимания\n",
    "                lstm_input = torch.cat([emb, context], dim=1)     # Объединение входов\n",
    "                h_new, c_new = self.lstm(lstm_input, (h, c))      # Обновление состояний\n",
    "                out = self.fc(h_new)                # Преобразование в пространство слов\n",
    "                logp = F.log_softmax(out, dim=1)    # Логарифмические вероятности [1, V]\n",
    "    \n",
    "                # Выбор топ-k кандидатов\n",
    "                topk_logp, topk_idx = logp.topk(beam_size, dim=1)\n",
    "                \n",
    "                # Генерация новых кандидатов для текущего луча\n",
    "                for k in range(beam_size):\n",
    "                    next_token = topk_idx[0, k].item()    # Индекс следующего токена\n",
    "                    next_score = topk_logp[0, k].item()   # Логарифм вероятности\n",
    "                    \n",
    "                    # Обновляем параметры для нового кандидата:\n",
    "                    new_score = score + next_score        # Накопленный счет\n",
    "                    new_seq = seq + [next_token]         # Расширенная последовательность\n",
    "                    all_candidates.append((new_score, new_seq, h_new.clone(), c_new.clone()))\n",
    "    \n",
    "            # Выходим, если нет кандидатов для продолжения\n",
    "            if not all_candidates:\n",
    "                break\n",
    "    \n",
    "            # Сортируем всех кандидатов по убыванию суммарного счета\n",
    "            all_candidates.sort(key=lambda x: x[0], reverse=True)\n",
    "            # Отбираем топ-beam_size кандидатов\n",
    "            beams = all_candidates[:beam_size]\n",
    "    \n",
    "            # Проверка раннего завершения (все лучи завершены)\n",
    "            if all(b[1][-1] == end_idx for b in beams):\n",
    "                completed.extend(beams)\n",
    "                break\n",
    "    \n",
    "        # Обработка случая, когда ни один луч не был завершен\n",
    "        if not completed:\n",
    "            completed = beams\n",
    "    \n",
    "        # Выбор лучшей последовательности\n",
    "        completed.sort(key=lambda x: x[0], reverse=True)\n",
    "        best_seq = completed[0][1]\n",
    "    \n",
    "        # Постобработка последовательности:\n",
    "        # 1. Удаляем стартовый токен\n",
    "        if best_seq and best_seq[0] == start_idx:\n",
    "            best_seq = best_seq[1:]\n",
    "        \n",
    "        # 2. Обрезаем после первого end токена (не включая его)\n",
    "        if end_idx in best_seq:\n",
    "            cut = best_seq.index(end_idx)\n",
    "            best_seq = best_seq[:cut]\n",
    "        \n",
    "        # 3. Удаляем любые оставшиеся end токены (защита)\n",
    "        best_seq = [tok for tok in best_seq if tok != end_idx]\n",
    "    \n",
    "        # Возвращаем последовательность как тензор\n",
    "        return torch.LongTensor(best_seq).to(device)\n",
    "\n",
    "\n",
    "class VideoCaptioningModel(nn.Module):\n",
    "    \"\"\"\n",
    "    Полная модель генерации подписей к видео, объединяющая:\n",
    "    - Энкодер видео\n",
    "    - Декодер с механизмом внимания\n",
    "    \"\"\"\n",
    "    def __init__(self, vocab_size, feature_dim=2048, embed_dim=512, encoder_dim=512, \n",
    "                 decoder_dim=512, attention_dim=512, dropout=0.5):\n",
    "        \"\"\"\n",
    "        Инициализация модели\n",
    "        \n",
    "        Аргументы:\n",
    "            vocab_size (int): Размер словаря\n",
    "            feature_dim (int): Размерность входных признаков\n",
    "            embed_dim (int): Размерность эмбеддингов слов\n",
    "            encoder_dim (int): Размерность скрытого слоя энкодера\n",
    "            decoder_dim (int): Размерность скрытого слоя декодера\n",
    "            attention_dim (int): Размерность механизма внимания\n",
    "            dropout (float): Вероятность дропаута\n",
    "        \"\"\"\n",
    "        super(VideoCaptioningModel, self).__init__()\n",
    "        \n",
    "        # Инициализация энкодера\n",
    "        self.encoder = Encoder(\n",
    "            feature_dim=feature_dim,\n",
    "            hidden_dim=encoder_dim,\n",
    "            dropout=dropout\n",
    "        )\n",
    "        \n",
    "        # Инициализация декодера\n",
    "        self.decoder = Decoder(\n",
    "            vocab_size=vocab_size,\n",
    "            embed_dim=embed_dim,\n",
    "            encoder_dim=encoder_dim * 2,  # Учитываем двунаправленность энкодера\n",
    "            hidden_dim=decoder_dim,\n",
    "            attention_dim=attention_dim,\n",
    "            dropout=dropout\n",
    "        )\n",
    "        \n",
    "    def forward(self, features, captions, lengths):\n",
    "        \"\"\"\n",
    "        Прямой проход через модель\n",
    "        \n",
    "        Аргументы:\n",
    "            features (torch.Tensor): Признаки видео [batch_size, seq_len, feature_dim]\n",
    "            captions (torch.Tensor): Истинные подписи [batch_size, max_caption_length]\n",
    "            lengths (list): Фактические длины подписей\n",
    "            \n",
    "        Возвращает:\n",
    "            torch.Tensor: Предсказания модели [batch_size, max_caption_length, vocab_size]\n",
    "        \"\"\"\n",
    "        # Кодируем видео\n",
    "        encoder_outputs, _ = self.encoder(features)\n",
    "        \n",
    "        # Декодируем подписи\n",
    "        outputs = self.decoder(encoder_outputs, captions, lengths)\n",
    "        \n",
    "        return outputs"
   ]
  },
  {
   "cell_type": "code",
   "execution_count": 8,
   "id": "e6da612b-c046-41b0-ad08-7da38bb361c7",
   "metadata": {
    "jupyter": {
     "source_hidden": true
    }
   },
   "outputs": [],
   "source": [
    "# 4. Функции обучения модели\n",
    "\n",
    "def train_epoch(train_loader, model, criterion, optimizer,\n",
    "                device, teacher_forcing_ratio):\n",
    "    model.train()  # Переводим модель в режим обучения\n",
    "    epoch_loss = 0.0  # Инициализация лосса для эпохи\n",
    "\n",
    "    # Итерация по батчам данных\n",
    "    for features, captions, lengths in train_loader:\n",
    "        # Перенос данных на вычислительное устройство (GPU/CPU)\n",
    "        features, captions = features.to(device), captions.to(device)\n",
    "        optimizer.zero_grad()  # Обнуление градиентов\n",
    "\n",
    "        # --- Прямой проход через энкодер ---\n",
    "        encoder_outputs, _ = model.encoder(features)  # [B, H], где H - размер скрытого состояния\n",
    "        batch_size = features.size(0)\n",
    "        \n",
    "        # Инициализация скрытых состояний декодера\n",
    "        h, c = model.decoder.init_hidden_state(batch_size)\n",
    "        \n",
    "        # Начальный токен - <start> для всех примеров в батче\n",
    "        inputs = captions[:, 0]  # [B]\n",
    "        max_len = max(lengths)   # Максимальная длина подписи в текущем батче\n",
    "        loss = 0.0  # Лосс для текущего батча\n",
    "\n",
    "        # Цикл по временным шагам (пропускаем первый токен <start>)\n",
    "        for t in range(1, max_len):\n",
    "            # a) Эмбеддинг токенов\n",
    "            emb = model.decoder.embedding(inputs)  # [B, embedding_dim]\n",
    "            \n",
    "            # b) Механизм внимания\n",
    "            context, _ = model.decoder.attention(encoder_outputs, h)  # [B, hidden_size]\n",
    "            \n",
    "            # c) Объединение эмбеддинга и контекста\n",
    "            lstm_input = torch.cat([emb, context], dim=1)  # [B, embedding_dim + hidden_size]\n",
    "            \n",
    "            # d) Шаг LSTM декодера\n",
    "            h, c = model.decoder.lstm(lstm_input, (h, c))  # Обновление состояний\n",
    "            \n",
    "            # e) Преобразование скрытого состояния в логиты\n",
    "            logits = model.decoder.fc(h)  # [B, vocab_size]\n",
    "            \n",
    "            # f) Расчет лосса между предсказанием и истинным токеном\n",
    "            loss += criterion(logits, captions[:, t])  # Накопление лосса\n",
    "            \n",
    "            # g) Teacher Forcing: выбор следующего входного токена\n",
    "            if random.random() < teacher_forcing_ratio:\n",
    "                inputs = captions[:, t]  # Истинный предыдущий токен\n",
    "            else:\n",
    "                inputs = logits.argmax(dim=1)  # Предсказанный токен\n",
    "\n",
    "        # Нормализация лосса по длине последовательности\n",
    "        loss = loss / max_len\n",
    "        # Обратное распространение ошибки\n",
    "        loss.backward()\n",
    "\n",
    "        torch.nn.utils.clip_grad_norm_(model.parameters(), max_norm=5.0)\n",
    "        \n",
    "        # Обновление параметров модели\n",
    "        optimizer.step()\n",
    "        # Накопление лосса для эпохи\n",
    "        epoch_loss += loss.item()\n",
    "\n",
    "    # Возвращаем средний лосс на батч за эпоху\n",
    "    return epoch_loss / len(train_loader)\n",
    "\n",
    "\n",
    "def validate(model, dataloader, criterion, device):\n",
    "    # Переводим модель в режим оценки (отключаем dropout и другие тренировочные механизмы)\n",
    "    model.eval()\n",
    "    total_loss = 0.0  # Инициализация общего лосса для эпохи валидации\n",
    "\n",
    "    # Блок без вычисления градиентов для экономии памяти и ускорения вычислений\n",
    "    with torch.no_grad():\n",
    "        # Итерация по батчам данных\n",
    "        for features, captions, lengths in dataloader:\n",
    "            # Перенос данных на вычислительное устройство\n",
    "            features, captions = features.to(device), captions.to(device)\n",
    "            \n",
    "            # Прямой проход через энкодер\n",
    "            encoder_outputs, _ = model.encoder(features)  # [B, H]\n",
    "            batch_size = features.size(0)\n",
    "            \n",
    "            # Инициализация скрытых состояний декодера\n",
    "            h, c = model.decoder.init_hidden_state(batch_size)\n",
    "            \n",
    "            # Начальный токен <start> для всех примеров в батче\n",
    "            inputs = captions[:, 0]  # [B]\n",
    "            max_len = max(lengths)   # Максимальная длина в текущем батче\n",
    "            loss = 0.0  # Лосс для текущего батча\n",
    "\n",
    "            # Цикл генерации по временным шагам (без учительского форсинга)\n",
    "            for t in range(1, max_len):\n",
    "                # 1. Получение эмбеддинга токена\n",
    "                emb = model.decoder.embedding(inputs)  # [B, embedding_dim]\n",
    "                \n",
    "                # 2. Вычисление контекста через механизм внимания\n",
    "                context, _ = model.decoder.attention(encoder_outputs, h)  # [B, hidden_size]\n",
    "                \n",
    "                # 3. Объединение эмбеддинга и контекста\n",
    "                lstm_input = torch.cat([emb, context], dim=1)  # [B, emb_dim + hidden_size]\n",
    "                \n",
    "                # 4. Обновление состояний LSTM\n",
    "                h, c = model.decoder.lstm(lstm_input, (h, c))\n",
    "                \n",
    "                # 5. Преобразование в логиты словаря\n",
    "                logits = model.decoder.fc(h)  # [B, vocab_size]\n",
    "                \n",
    "                # 6. Накопление лосса между предсказанием и истинным токеном\n",
    "                loss += criterion(logits, captions[:, t])\n",
    "                \n",
    "                # 7. Всегда используем ground-truth токены (без teacher forcing)\n",
    "                inputs = captions[:, t]  # Принудительная подача правильных токенов\n",
    "\n",
    "            # Усреднение лосса по длине последовательности и добавление к общему лоссу\n",
    "            total_loss += (loss / max_len).item()\n",
    "\n",
    "    # Возвращаем средний лосс на батч за эпоху валидации\n",
    "    return total_loss / len(dataloader)"
   ]
  },
  {
   "cell_type": "code",
   "execution_count": 9,
   "id": "731ec50d-ab0c-4ee8-a3d9-9318702e118c",
   "metadata": {
    "jupyter": {
     "source_hidden": true
    }
   },
   "outputs": [],
   "source": [
    "# 5. Основной цикл обучения модели\n",
    "\n",
    "def train_model(model,\n",
    "                train_loader,\n",
    "                val_loader,\n",
    "                criterion,\n",
    "                optimizer,\n",
    "                num_epochs,\n",
    "                device,\n",
    "                vocab,\n",
    "                save_dir='D:\\\\video_to_text\\\\models',\n",
    "                save_every=5,\n",
    "                scheduler=None,\n",
    "                tf_start=1.0,\n",
    "                tf_end=0.5):\n",
    "    \"\"\"\n",
    "    Основная функция для обучения модели с валидацией и сохранением чекпоинтов.\n",
    "\n",
    "    Параметры:\n",
    "        model: nn.Module - модель для обучения\n",
    "        train_loader, val_loader: DataLoader - загрузчики данных\n",
    "        criterion: функция потерь\n",
    "        optimizer: оптимизатор\n",
    "        num_epochs: int - количество эпох обучения\n",
    "        device: torch.device - устройство для вычислений (CPU/GPU)\n",
    "        save_dir: str - директория для сохранения чекпоинтов\n",
    "        save_every: int - периодичность сохранения чекпоинтов (в эпохах)\n",
    "        scheduler: объект - планировщик скорости обучения (ReduceLROnPlateau)\n",
    "        tf_start, tf_end: float - начальное и конечное значение коэффициента Teacher Forcing\n",
    "    \"\"\"\n",
    "    # Создаем директорию для сохранения чекпоинтов\n",
    "    os.makedirs(save_dir, exist_ok=True)\n",
    "    \n",
    "    # Инициализируем историю обучения\n",
    "    history = {'train_loss': [], 'val_loss': []}\n",
    "\n",
    "    # Основной цикл обучения по эпохам\n",
    "    for epoch in range(1, num_epochs + 1):\n",
    "        # 1) Расчет коэффициента Teacher Forcing для текущей эпохи\n",
    "        # Линейное уменьшение от tf_start до tf_end в течение обучения\n",
    "        tf_ratio = max(\n",
    "            tf_end,  # Минимальное значение\n",
    "            tf_start - (epoch - 1) * (tf_start - tf_end) / (num_epochs - 1)\n",
    "        )\n",
    "\n",
    "        # 2) Обучение на одной эпохе\n",
    "        train_loss = train_epoch(\n",
    "            train_loader,\n",
    "            model,\n",
    "            criterion,\n",
    "            optimizer,\n",
    "            device,\n",
    "            tf_ratio\n",
    "        )\n",
    "\n",
    "        # 3) Валидация модели\n",
    "        val_loss = validate(\n",
    "            model,\n",
    "            val_loader,\n",
    "            criterion,\n",
    "            device\n",
    "        )\n",
    "\n",
    "        # 4) Обновление скорости обучения (если используется планировщик)\n",
    "        if scheduler is not None:\n",
    "            scheduler.step(val_loss)  # для ReduceLROnPlateau\n",
    "\n",
    "        # 5) Сохранение метрик и логирование\n",
    "        history['train_loss'].append(train_loss)\n",
    "        history['val_loss'].append(val_loss)\n",
    "        current_lr = optimizer.param_groups[0]['lr']  # Текущая скорость обучения\n",
    "        \n",
    "        # Вывод информации о прогрессе\n",
    "        print(f\"Эпоха {epoch}/{num_epochs}, \"\n",
    "              f\"Ошибка (обучение): {train_loss:.4f}, \"\n",
    "              f\"Ошибка (валидация): {val_loss:.4f}, \"\n",
    "              f\"Скорость обучения: {current_lr:.6f}, \"\n",
    "              f\"Teacher Forcing: {tf_ratio:.3f}\")\n",
    "\n",
    "        # 6) Сохранение промежуточных результатов\n",
    "        if epoch % save_every == 0:\n",
    "            # Формируем словарь с состоянием модели\n",
    "            ckpt = {\n",
    "                'epoch': epoch,\n",
    "                'model_state': model.state_dict(),  # Веса модели\n",
    "                'optim_state': optimizer.state_dict(),  # Состояние оптимизатора\n",
    "                'train_loss': train_loss,\n",
    "                'val_loss': val_loss,\n",
    "                'lr': current_lr,\n",
    "                'tf_ratio': tf_ratio\n",
    "            }\n",
    "            # Сохраняем чекпоинт\n",
    "            path = os.path.join(save_dir, f\"ckpt_epoch{epoch}.pt\")\n",
    "            torch.save(ckpt, path)\n",
    "            print(f\"Чекпоинт сохранен: {path}\")\n",
    "\n",
    "    # 7) Сохранение финальной модели после завершения обучения\n",
    "    final_path = os.path.join(save_dir, \"final_model.pt\")\n",
    "    torch.save({\n",
    "        'model_state': model.state_dict(),\n",
    "        'history': history  # Сохраняем историю обучения\n",
    "    }, final_path)\n",
    "    print(f\"Финальная модель сохранена: {final_path}\")\n",
    "\n",
    "    # 8) Сохранение словаря\n",
    "    vocab_path = os.path.join(save_dir, \"vocabulary.pkl\")\n",
    "    \n",
    "    with open(vocab_path, 'wb') as f:\n",
    "        pickle.dump(vocab, f)\n",
    "    print(f\"Словарь сохранен: {vocab_path}\")\n",
    "\n",
    "\n",
    "    return model, history"
   ]
  },
  {
   "cell_type": "code",
   "execution_count": 10,
   "id": "ac8398ad-05c1-4470-a243-28a64fe2a9f1",
   "metadata": {
    "jupyter": {
     "source_hidden": true
    }
   },
   "outputs": [],
   "source": [
    "# 6. Функции оценки качества модели\n",
    "\n",
    "def predict_caption(model, features, vocab, beam_size=10, max_length=20):\n",
    "    \"\"\"Генерация подписи с использованием beam search\"\"\"\n",
    "    \n",
    "    model.eval()\n",
    "    attention_weights = []\n",
    "    \n",
    "    with torch.no_grad():\n",
    "        # Прямой проход через энкодер\n",
    "        enc_out, _ = model.encoder(features)\n",
    "        \n",
    "        # ИСПРАВЛЕНИЕ: Используем beam_search вместо жадного поиска\n",
    "        predicted_sequence = model.decoder.beam_search(\n",
    "            enc_out, vocab, max_length=max_length, beam_size=beam_size\n",
    "        )\n",
    "        \n",
    "        # Преобразование в слова\n",
    "        words = []\n",
    "        for idx in predicted_sequence.cpu().numpy():\n",
    "            if idx in vocab.idx2word:\n",
    "                word = vocab.idx2word[idx]\n",
    "                if word not in ['<start>', '<end>', '<pad>']:\n",
    "                    words.append(word)\n",
    "        \n",
    "        # Для весов внимания нужно запустить отдельно (если нужны для визуализации)\n",
    "        if len(words) > 0:\n",
    "            attention_weights = get_attention_weights(model, enc_out, words, vocab)\n",
    "    \n",
    "    return ' '.join(words), attention_weights\n",
    "\n",
    "\n",
    "def get_attention_weights(model, encoder_outputs, words, vocab):\n",
    "    \"\"\"Получает веса внимания для визуализации\"\"\"\n",
    "    attention_weights = []\n",
    "    h, c = model.decoder.init_hidden_state(1)\n",
    "    inputs = torch.LongTensor([vocab.word2idx['<start>']]).to(encoder_outputs.device)\n",
    "    \n",
    "    with torch.no_grad():\n",
    "        for word in words:\n",
    "            emb = model.decoder.embedding(inputs)\n",
    "            context, alpha = model.decoder.attention(encoder_outputs, h)\n",
    "            attention_weights.append(alpha.squeeze(0).cpu())\n",
    "            \n",
    "            lstm_input = torch.cat([emb, context], dim=1)\n",
    "            h, c = model.decoder.lstm(lstm_input, (h, c))\n",
    "            \n",
    "            # Используем слово из предсказанной последовательности\n",
    "            if word in vocab.word2idx:\n",
    "                inputs = torch.LongTensor([vocab.word2idx[word]]).to(encoder_outputs.device)\n",
    "    \n",
    "    return attention_weights\n",
    "    \n",
    "\n",
    "def caption_collate_fn(batch, vocab):\n",
    "    \"\"\"Пользовательская функция для обработки батчей с подписями разной длины\"\"\"\n",
    "    # Сортируем батч по длине подписей (по убыванию)\n",
    "    batch.sort(key=lambda x: len(x[1]), reverse=True)\n",
    "    features, captions = zip(*batch)\n",
    "    \n",
    "    # Объединяем признаки\n",
    "    features = torch.stack(features, 0)\n",
    "    \n",
    "    # Получаем длины подписей\n",
    "    lengths = torch.LongTensor([len(cap) for cap in captions])\n",
    "    \n",
    "    # Определяем максимальную длину для паддинга\n",
    "    max_length = max(lengths)\n",
    "    \n",
    "    # Создаем тензор с заполненными подписями\n",
    "    padded_captions = torch.zeros(len(captions), max_length, dtype=torch.long)\n",
    "    for i, cap in enumerate(captions):\n",
    "        end = lengths[i]\n",
    "        padded_captions[i, :end] = cap[:end]\n",
    "        # Добавляем токен <end> в конец последовательности\n",
    "        if end < max_length:\n",
    "            padded_captions[i, end] = vocab.word2idx['<end>']\n",
    "    \n",
    "    return features, padded_captions, lengths\n",
    "\n",
    "\n",
    "def evaluate_metrics(model, dataloader, vocab, device):\n",
    "    \"\"\"Оценка качества модели по BLEU-4\n",
    "    \n",
    "    Аргументы:\n",
    "        model: Обученная модель\n",
    "        dataloader: Загрузчик данных для оценки\n",
    "        vocab: Словарь\n",
    "        device: Устройство вычислений\n",
    "        \n",
    "    Возвращает:\n",
    "        dict: Словарь с метриками качества\n",
    "    \"\"\"\n",
    "    model.eval()\n",
    "    references = []\n",
    "    hypotheses = []\n",
    "    \n",
    "    with torch.no_grad():\n",
    "        for features, captions, lengths in tqdm(dataloader, desc='Оценка'):\n",
    "            # Генерация подписи\n",
    "            pred_caption, _ = predict_caption(model, features.to(device), vocab)\n",
    "            hypotheses.append(pred_caption.split())\n",
    "            \n",
    "            # Обработка эталонной подписи\n",
    "            ref = []\n",
    "            for idx in captions[0].cpu().numpy():\n",
    "                if idx == vocab.word2idx['<end>']:\n",
    "                    break\n",
    "                if idx not in [vocab.word2idx['<pad>'], vocab.word2idx['<start>']]:\n",
    "                    ref.append(vocab.idx2word[idx])\n",
    "            references.append([ref])\n",
    "        \n",
    "    # Вычисление метрик\n",
    "    bleu4 = nltk.translate.bleu_score.corpus_bleu(\n",
    "        references, hypotheses, weights=(0.25, 0.25, 0.25, 0.25))\n",
    "    \n",
    "    return {'bleu4': bleu4}\n"
   ]
  },
  {
   "cell_type": "code",
   "execution_count": 11,
   "id": "d783a698-532d-4eb4-a21f-afc3bd2d54f0",
   "metadata": {
    "jupyter": {
     "source_hidden": true
    }
   },
   "outputs": [],
   "source": [
    "# 7. Визуализация\n",
    "\n",
    "def visualize_predictions(model, dataloader, vocab, num_samples=5, device='cuda'):\n",
    "    \"\"\"\n",
    "    Визуализация предсказаний модели и тепловых карт внимания.\n",
    "\n",
    "    Args:\n",
    "        model: обученная модель\n",
    "        dataloader: загрузчик тестовых данных\n",
    "        vocab: объект Vocabulary\n",
    "        num_samples: сколько примеров показать\n",
    "        device: 'cuda' или 'cpu'\n",
    "    \"\"\"\n",
    "    model.eval()\n",
    "    samples = []\n",
    "    count = 0\n",
    "\n",
    "    # Собираем несколько примеров\n",
    "    with torch.no_grad():\n",
    "        for features, captions, lengths in dataloader:\n",
    "            if count >= num_samples:\n",
    "                break\n",
    "            features = features.to(device)\n",
    "            pred_caption, attn_weights = predict_caption(model, features, vocab)\n",
    "\n",
    "            # декодируем истинные описания\n",
    "            gt_idxs = captions[0].cpu().tolist()\n",
    "            gt_words = []\n",
    "            for idx in gt_idxs:\n",
    "                if idx == vocab.word2idx['<end>']:\n",
    "                    break\n",
    "                if idx not in {vocab.word2idx['<pad>'],\n",
    "                               vocab.word2idx['<start>']}:\n",
    "                    gt_words.append(vocab.idx2word[idx])\n",
    "            gt_caption = ' '.join(gt_words)\n",
    "\n",
    "            samples.append((gt_caption, pred_caption, attn_weights))\n",
    "            count += 1\n",
    "\n",
    "    # Рисуем для каждого примера текст + heatmap\n",
    "    fig, axes = plt.subplots(num_samples, 2, figsize=(12, 4 * num_samples))\n",
    "    if num_samples == 1:\n",
    "        axes = np.expand_dims(axes, 0)\n",
    "\n",
    "    for i, (gt, pred, attn) in enumerate(samples):\n",
    "        ax_text, ax_hm = axes[i]\n",
    "\n",
    "        # 1) Текстовая часть\n",
    "        ax_text.axis('off')\n",
    "        ax_text.text(0, 0.6, f\"Истинное описание:  {gt}\", fontsize=12)\n",
    "        ax_text.text(0, 0.3, f\"Предсказанное описание:  {pred}\", fontsize=12, color='blue')\n",
    "\n",
    "        # 2) Тепловая карта внимания\n",
    "        # Превращаем list[tensor] → numpy matrix\n",
    "        attn_numpy = np.vstack([\n",
    "            w.detach().cpu().reshape(1, -1) for w in attn\n",
    "        ])\n",
    "        im = ax_hm.imshow(attn_numpy,\n",
    "                          aspect='auto',\n",
    "                          cmap='viridis')\n",
    "        ax_hm.set_title(\"Attention Heatmap\")\n",
    "        ax_hm.set_ylabel(\"Шаг слова\")\n",
    "        ax_hm.set_xlabel(\"Позиция кадра\")\n",
    "        # подписи по осям Y - слова предсказания\n",
    "        words = pred.split()\n",
    "        ax_hm.set_yticks(range(len(words)))\n",
    "        ax_hm.set_yticklabels(words, fontsize=10)\n",
    "        plt.colorbar(im, ax=ax_hm, fraction=0.046, pad=0.04)\n",
    "\n",
    "    plt.tight_layout()\n",
    "    plt.show()\n",
    "\n",
    "\n",
    "def analyze_attention_patterns(attention_weights, caption):\n",
    "    \"\"\"\n",
    "    Анализ паттернов внимания: тепловая карта + \n",
    "    вывод наиболее важных кадров для каждого слова.\n",
    "\n",
    "    Args:\n",
    "        attention_weights: list of 1D tensors, len = #слов, each shape=(num_frames,)\n",
    "        caption: строка с сгенерированными словами, разделёнными пробелом\n",
    "    \"\"\"\n",
    "    # 1) Преобразуем в numpy-матрицу [T_words, N_frames]\n",
    "    attn_matrix = np.vstack([\n",
    "        w.detach().cpu().reshape(1, -1) for w in attention_weights\n",
    "    ])\n",
    "    words = caption.split()\n",
    "\n",
    "    # 2) Рисуем тепловую карту\n",
    "    plt.figure(figsize=(10, 6))\n",
    "    plt.imshow(attn_matrix, aspect='auto', cmap='hot')\n",
    "    plt.colorbar(label='Вес внимания')\n",
    "    plt.xlabel('Позиция кадра')\n",
    "    plt.ylabel('Позиция слова')\n",
    "    plt.yticks(range(len(words)), words, fontsize=10)\n",
    "    plt.title('Распределение внимания')\n",
    "    plt.tight_layout()\n",
    "    plt.show()\n",
    "\n",
    "    # 3) Соответствие слов и наиболее «весомых» кадров\n",
    "    word_to_frame = attn_matrix.argmax(axis=1)\n",
    "    print(\"Соответствие слов и кадров:\")\n",
    "    for i, word in enumerate(words):\n",
    "        frm = word_to_frame[i]\n",
    "        print(f\"  '{word}': кадр {frm}, вес = {attn_matrix[i, frm]:.4f}\")\n",
    "\n",
    "    # 4) Самые важные кадры в целом\n",
    "    frame_importance = attn_matrix.sum(axis=0)\n",
    "    top5 = np.argsort(frame_importance)[-5:][::-1]\n",
    "    print(\"\\nСамые важные кадры:\")\n",
    "    for frm in top5:\n",
    "        print(f\"  Кадр {frm}: общий вес = {frame_importance[frm]:.4f}\")"
   ]
  },
  {
   "cell_type": "code",
   "execution_count": 12,
   "id": "2a1acd1d-73f3-4146-af0b-cb66fe411e0b",
   "metadata": {
    "jupyter": {
     "source_hidden": true
    }
   },
   "outputs": [],
   "source": [
    "def main():\n",
    "    print(\"Подготовка данных...\")\n",
    "    # Проверяем и загружаем данные из Google Drive\n",
    "    video_dir, caption_file = check_and_download_data()\n",
    "    feature_dir   = \"D:\\\\video_to_text\\\\features\"\n",
    "\n",
    "    # 1. Предварительное вычисление признаков видео\n",
    "    video_files = [f for f in os.listdir(video_dir) if f.endswith(('.mp4', '.avi'))]\n",
    "    # Проверяем существование всех файлов признаков\n",
    "    features_exist = all(\n",
    "        os.path.exists(os.path.join(feature_dir, os.path.splitext(f)[0] + \".npy\"))\n",
    "                         for f in video_files\n",
    "    )\n",
    "    \n",
    "    if not features_exist:\n",
    "        print(\"Предварительный расчёт признаков...\")\n",
    "        precompute_features(video_dir, feature_dir)\n",
    "    else:\n",
    "        print(\"Признаки уже есть, пропускаем извлечение\")\n",
    "\n",
    "    # 2. Построение словаря\n",
    "    print(\"Построение словаря...\")\n",
    "    vocab = build_vocab(caption_file, threshold=2)  # Слова встречающиеся минимум 2 раза\n",
    "    vocab_size = len(vocab)\n",
    "    print(f\"Размер словаря: {vocab_size}\")\n",
    "\n",
    "    # 3. Разделение данных\n",
    "    full_dataset = VideoDataset(feature_dir, caption_file, vocab)\n",
    "    # Распределение: 70% обучение, 15% валидация, 15% тест\n",
    "    train_size = int(0.7 * len(full_dataset))\n",
    "    val_size   = int(0.15 * len(full_dataset))\n",
    "    test_size  = len(full_dataset) - train_size - val_size\n",
    "    # Воспроизводимое разбиение\n",
    "    train_dataset, val_dataset, test_dataset = random_split(\n",
    "        full_dataset, [train_size, val_size, test_size],\n",
    "        generator=torch.Generator().manual_seed(42)\n",
    "    )\n",
    "\n",
    "    # 4. Инициализация модели\n",
    "    model = VideoCaptioningModel(\n",
    "        vocab_size=len(vocab),\n",
    "        feature_dim=2048,       # Размерность признаков энкодера\n",
    "        embed_dim=512,          # Размерность эмбеддингов\n",
    "        encoder_dim=512,        # Размерность скрытого состояния энкодера\n",
    "        decoder_dim=512,        # Размерность скрытого состояния декодера\n",
    "        attention_dim=512,      # Размерность механизма внимания\n",
    "        dropout=0.3             # Уровень дропаута\n",
    "    ).to(device)\n",
    "\n",
    "    criterion = nn.CrossEntropyLoss(label_smoothing=0.1)\n",
    "    # batch_size = find_optimal_batch_size(model, sample_data, criterion, max_batch_size=16)\n",
    "    batch_size = 20\n",
    "    \n",
    "    # 5. Инициализация DataLoader'ов\n",
    "    train_loader = DataLoader(train_dataset, batch_size=batch_size, shuffle=True,\n",
    "                              collate_fn=lambda b: caption_collate_fn(b, vocab))\n",
    "    val_loader   = DataLoader(val_dataset,   batch_size=batch_size,\n",
    "                              collate_fn=lambda b: caption_collate_fn(b, vocab))\n",
    "    test_loader  = DataLoader(test_dataset,  batch_size=1,\n",
    "                              collate_fn=lambda b: caption_collate_fn(b, vocab))\n",
    "\n",
    "    # 6. Настройка оптимизатора\n",
    "    optimizer = optim.Adam(\n",
    "        model.parameters(),\n",
    "        lr=1e-4,                # Начальная скорость обучения\n",
    "        weight_decay=1e-5       # L2-регуляризация\n",
    "    )\n",
    "    # Планировщик для динамической регулировки LR\n",
    "    scheduler = torch.optim.lr_scheduler.ReduceLROnPlateau(\n",
    "        optimizer,\n",
    "        mode='min',             # Минимизировать метрику (val_loss)\n",
    "        factor=0.5,             # Умножать LR на 0.5 при плато\n",
    "        patience=2,             # Количество эпох ожидания улучшения\n",
    "        min_lr=1e-6             # Минимальный допустимый LR\n",
    "    )\n",
    "\n",
    "    # 7. Цикл обучения с teacher forcing\n",
    "    print(\"Обучение модели...\")\n",
    "    model, history = train_model(\n",
    "        model=model,\n",
    "        train_loader=train_loader,\n",
    "        val_loader=val_loader,\n",
    "        criterion=criterion,\n",
    "        optimizer=optimizer,\n",
    "        num_epochs=30,\n",
    "        device=device,\n",
    "        vocab=vocab,\n",
    "        save_dir='D:\\\\video_to_text\\\\models', # Директория для сохранения\n",
    "        save_every=10,           # Сохранять каждые 10 эпох\n",
    "        scheduler=scheduler,\n",
    "        tf_start=1.0,          # Начальный Teacher Forcing\n",
    "        tf_end=0.5              # Конечный Teacher Forcing\n",
    "    )\n",
    "\n",
    "    # 8. Визуализация процесса обучения\n",
    "    plt.figure(figsize=(10, 5))\n",
    "    plt.plot(history['train_loss'], label='Ошибка обучения')\n",
    "    plt.plot(history['val_loss'], label='Ошибка валидации')\n",
    "    plt.title('Динамика обучения')\n",
    "    plt.xlabel('Эпохи')\n",
    "    plt.ylabel('Потеря')\n",
    "    plt.legend()\n",
    "    plt.grid(True)\n",
    "    plt.show()\n",
    "\n",
    "    # 9. Тестирование модели\n",
    "    print(\"Тестирование модели...\")\n",
    "    sample_features, _, _ = next(iter(test_loader))\n",
    "    sample_features = sample_features.to(device)\n",
    "    caption, attn_weights = predict_caption(\n",
    "        model,\n",
    "        sample_features,\n",
    "        vocab,\n",
    "        beam_size=10\n",
    "    )\n",
    "    print(f\"Пример предсказания: {caption}\")\n",
    "\n",
    "    # 10. Оценка метрик качества\n",
    "    print(\"\\nОценка качества модели на тесте...\")\n",
    "    metrics = evaluate_metrics(model, test_loader, vocab, device)\n",
    "    print(f\"BLEU-4: {metrics['bleu4']:.4f}\")\n",
    "\n",
    "    # 11. Визуализация предсказаний для нескольких примеров\n",
    "    print(\"Визуализация предсказаний...\")\n",
    "    visualize_predictions(model, test_loader, vocab, num_samples=5)  # Показать 5 примеров\n",
    "\n",
    "    # 12. Анализ паттернов внимания для сгенерированной подписи\n",
    "    print(\"Анализ паттернов внимания на одном примере...\")\n",
    "    feat, cap, _ = next(iter(test_loader))\n",
    "    # caption, attn_weights = predict_caption(model, feat.to(device), vocab)\n",
    "    analyze_attention_patterns(attn_weights, caption)"
   ]
  },
  {
   "cell_type": "code",
   "execution_count": 13,
   "id": "5835631f-ed57-470a-a06e-ca31e17bb1a7",
   "metadata": {
    "jp-MarkdownHeadingCollapsed": true,
    "jupyter": {
     "source_hidden": true
    }
   },
   "outputs": [
    {
     "name": "stdout",
     "output_type": "stream",
     "text": [
      "Подготовка данных...\n",
      "Данные не найдены. Загружаем из Google Drive...\n",
      "Загружаем zip архив с видеофайлами...\n",
      "Скачиваем zip архив с Google Drive...\n"
     ]
    },
    {
     "name": "stderr",
     "output_type": "stream",
     "text": [
      "Downloading...\n",
      "From (original): https://drive.google.com/uc?id=1L7auAFyNnMUk8GFqQJYXoLXWxOVQD7HE&export=download\n",
      "From (redirected): https://drive.google.com/uc?id=1L7auAFyNnMUk8GFqQJYXoLXWxOVQD7HE&export=download&confirm=t&uuid=bf08f567-2e80-4834-af08-3740590e2fb0\n",
      "To: D:\\video_to_text\\videos.zip\n",
      "100%|█████████████████████████████████████████████████████████████████████████████| 1.84G/1.84G [02:48<00:00, 10.9MB/s]\n"
     ]
    },
    {
     "name": "stdout",
     "output_type": "stream",
     "text": [
      "Распаковываем архив...\n",
      "Распаковано в D:/video_to_text/YouTubeClips без вложенных папок\n",
      "Готово! Видео распакованы в: D:/video_to_text/YouTubeClips\n",
      "Загружаем файл с описаниями...\n"
     ]
    },
    {
     "name": "stderr",
     "output_type": "stream",
     "text": [
      "Downloading...\n",
      "From: https://drive.google.com/uc?id=13Qc0YfeotmttzUhA69MOSW42Ze-Jkhjm&export=download\n",
      "To: D:\\video_to_text\\AllVideoDescriptions.txt\n",
      "100%|█████████████████████████████████████████████████████████████████████████████| 4.28M/4.28M [00:01<00:00, 2.91MB/s]\n"
     ]
    },
    {
     "name": "stdout",
     "output_type": "stream",
     "text": [
      "Файл описаний загружен успешно!\n",
      "Предварительный расчёт признаков...\n"
     ]
    },
    {
     "data": {
      "application/vnd.jupyter.widget-view+json": {
       "model_id": "4e4050ac11de4361a08ec058e92c95f8",
       "version_major": 2,
       "version_minor": 0
      },
      "text/plain": [
       "Батч 1:   0%|          | 0/16 [00:00<?, ?it/s]"
      ]
     },
     "metadata": {},
     "output_type": "display_data"
    },
    {
     "data": {
      "application/vnd.jupyter.widget-view+json": {
       "model_id": "789e063b63a743238fb09037894a636b",
       "version_major": 2,
       "version_minor": 0
      },
      "text/plain": [
       "Батч 2:   0%|          | 0/16 [00:00<?, ?it/s]"
      ]
     },
     "metadata": {},
     "output_type": "display_data"
    },
    {
     "data": {
      "application/vnd.jupyter.widget-view+json": {
       "model_id": "d9dab84188664378bd44aea2f0823ae0",
       "version_major": 2,
       "version_minor": 0
      },
      "text/plain": [
       "Батч 3:   0%|          | 0/16 [00:00<?, ?it/s]"
      ]
     },
     "metadata": {},
     "output_type": "display_data"
    },
    {
     "data": {
      "application/vnd.jupyter.widget-view+json": {
       "model_id": "0864926d68fe41b0a2fac65ee46dc7ec",
       "version_major": 2,
       "version_minor": 0
      },
      "text/plain": [
       "Батч 4:   0%|          | 0/16 [00:00<?, ?it/s]"
      ]
     },
     "metadata": {},
     "output_type": "display_data"
    },
    {
     "data": {
      "application/vnd.jupyter.widget-view+json": {
       "model_id": "09a5dccedf414f899d78d8978294a157",
       "version_major": 2,
       "version_minor": 0
      },
      "text/plain": [
       "Батч 5:   0%|          | 0/16 [00:00<?, ?it/s]"
      ]
     },
     "metadata": {},
     "output_type": "display_data"
    },
    {
     "data": {
      "application/vnd.jupyter.widget-view+json": {
       "model_id": "082d16f8560348f88981a7a38bc64aaa",
       "version_major": 2,
       "version_minor": 0
      },
      "text/plain": [
       "Батч 6:   0%|          | 0/16 [00:00<?, ?it/s]"
      ]
     },
     "metadata": {},
     "output_type": "display_data"
    },
    {
     "data": {
      "application/vnd.jupyter.widget-view+json": {
       "model_id": "bbe0fdf0b0334aa6957ebe86df60ec65",
       "version_major": 2,
       "version_minor": 0
      },
      "text/plain": [
       "Батч 7:   0%|          | 0/16 [00:00<?, ?it/s]"
      ]
     },
     "metadata": {},
     "output_type": "display_data"
    },
    {
     "data": {
      "application/vnd.jupyter.widget-view+json": {
       "model_id": "30b7094c89234b24b0eb6bade8dc2b9d",
       "version_major": 2,
       "version_minor": 0
      },
      "text/plain": [
       "Батч 8:   0%|          | 0/16 [00:00<?, ?it/s]"
      ]
     },
     "metadata": {},
     "output_type": "display_data"
    },
    {
     "data": {
      "application/vnd.jupyter.widget-view+json": {
       "model_id": "1b6bc5109797414386f34ead0d4357c3",
       "version_major": 2,
       "version_minor": 0
      },
      "text/plain": [
       "Батч 9:   0%|          | 0/16 [00:00<?, ?it/s]"
      ]
     },
     "metadata": {},
     "output_type": "display_data"
    },
    {
     "data": {
      "application/vnd.jupyter.widget-view+json": {
       "model_id": "f957b32eed4d4e0baf59b07cdc52b23a",
       "version_major": 2,
       "version_minor": 0
      },
      "text/plain": [
       "Батч 10:   0%|          | 0/16 [00:00<?, ?it/s]"
      ]
     },
     "metadata": {},
     "output_type": "display_data"
    },
    {
     "data": {
      "application/vnd.jupyter.widget-view+json": {
       "model_id": "23b4504769094bb9afbf73e3b37be113",
       "version_major": 2,
       "version_minor": 0
      },
      "text/plain": [
       "Батч 11:   0%|          | 0/16 [00:00<?, ?it/s]"
      ]
     },
     "metadata": {},
     "output_type": "display_data"
    },
    {
     "data": {
      "application/vnd.jupyter.widget-view+json": {
       "model_id": "7ec1df2140f346ba88b325f0f3102969",
       "version_major": 2,
       "version_minor": 0
      },
      "text/plain": [
       "Батч 12:   0%|          | 0/16 [00:00<?, ?it/s]"
      ]
     },
     "metadata": {},
     "output_type": "display_data"
    },
    {
     "data": {
      "application/vnd.jupyter.widget-view+json": {
       "model_id": "2a11fad697614d9b823f30273c189118",
       "version_major": 2,
       "version_minor": 0
      },
      "text/plain": [
       "Батч 13:   0%|          | 0/16 [00:00<?, ?it/s]"
      ]
     },
     "metadata": {},
     "output_type": "display_data"
    },
    {
     "data": {
      "application/vnd.jupyter.widget-view+json": {
       "model_id": "6a7ca6ca118a486a9767a471e64af258",
       "version_major": 2,
       "version_minor": 0
      },
      "text/plain": [
       "Батч 14:   0%|          | 0/16 [00:00<?, ?it/s]"
      ]
     },
     "metadata": {},
     "output_type": "display_data"
    },
    {
     "data": {
      "application/vnd.jupyter.widget-view+json": {
       "model_id": "d4c02b70a8a446f9be43b45367634870",
       "version_major": 2,
       "version_minor": 0
      },
      "text/plain": [
       "Батч 15:   0%|          | 0/16 [00:00<?, ?it/s]"
      ]
     },
     "metadata": {},
     "output_type": "display_data"
    },
    {
     "data": {
      "application/vnd.jupyter.widget-view+json": {
       "model_id": "1b8244e26c3244efad552f8dbb2408d5",
       "version_major": 2,
       "version_minor": 0
      },
      "text/plain": [
       "Батч 16:   0%|          | 0/16 [00:00<?, ?it/s]"
      ]
     },
     "metadata": {},
     "output_type": "display_data"
    },
    {
     "data": {
      "application/vnd.jupyter.widget-view+json": {
       "model_id": "369a4253c48446928830df280d6d9a55",
       "version_major": 2,
       "version_minor": 0
      },
      "text/plain": [
       "Батч 17:   0%|          | 0/16 [00:00<?, ?it/s]"
      ]
     },
     "metadata": {},
     "output_type": "display_data"
    },
    {
     "data": {
      "application/vnd.jupyter.widget-view+json": {
       "model_id": "ef0661e166604aeb8128a1f7d908ea05",
       "version_major": 2,
       "version_minor": 0
      },
      "text/plain": [
       "Батч 18:   0%|          | 0/16 [00:00<?, ?it/s]"
      ]
     },
     "metadata": {},
     "output_type": "display_data"
    },
    {
     "data": {
      "application/vnd.jupyter.widget-view+json": {
       "model_id": "0ba97ff0781149819b244754d0748c5c",
       "version_major": 2,
       "version_minor": 0
      },
      "text/plain": [
       "Батч 19:   0%|          | 0/16 [00:00<?, ?it/s]"
      ]
     },
     "metadata": {},
     "output_type": "display_data"
    },
    {
     "data": {
      "application/vnd.jupyter.widget-view+json": {
       "model_id": "888ef695fb294f5483373e09ab234f84",
       "version_major": 2,
       "version_minor": 0
      },
      "text/plain": [
       "Батч 20:   0%|          | 0/16 [00:00<?, ?it/s]"
      ]
     },
     "metadata": {},
     "output_type": "display_data"
    },
    {
     "data": {
      "application/vnd.jupyter.widget-view+json": {
       "model_id": "969f531803d24490b6a94d2e02d4b608",
       "version_major": 2,
       "version_minor": 0
      },
      "text/plain": [
       "Батч 21:   0%|          | 0/16 [00:00<?, ?it/s]"
      ]
     },
     "metadata": {},
     "output_type": "display_data"
    },
    {
     "data": {
      "application/vnd.jupyter.widget-view+json": {
       "model_id": "161b958e82f444b88562b78ecb445558",
       "version_major": 2,
       "version_minor": 0
      },
      "text/plain": [
       "Батч 22:   0%|          | 0/16 [00:00<?, ?it/s]"
      ]
     },
     "metadata": {},
     "output_type": "display_data"
    },
    {
     "data": {
      "application/vnd.jupyter.widget-view+json": {
       "model_id": "40a1d30ec23e4b8fb067e2969cb7dbfb",
       "version_major": 2,
       "version_minor": 0
      },
      "text/plain": [
       "Батч 23:   0%|          | 0/16 [00:00<?, ?it/s]"
      ]
     },
     "metadata": {},
     "output_type": "display_data"
    },
    {
     "data": {
      "application/vnd.jupyter.widget-view+json": {
       "model_id": "d620e8145aa54bb093d9ee83f3a010f2",
       "version_major": 2,
       "version_minor": 0
      },
      "text/plain": [
       "Батч 24:   0%|          | 0/16 [00:00<?, ?it/s]"
      ]
     },
     "metadata": {},
     "output_type": "display_data"
    },
    {
     "data": {
      "application/vnd.jupyter.widget-view+json": {
       "model_id": "807bfbd2851349fd8ac926ad8e3c2eb0",
       "version_major": 2,
       "version_minor": 0
      },
      "text/plain": [
       "Батч 25:   0%|          | 0/16 [00:00<?, ?it/s]"
      ]
     },
     "metadata": {},
     "output_type": "display_data"
    },
    {
     "data": {
      "application/vnd.jupyter.widget-view+json": {
       "model_id": "d582705823c24a50934f4583d0f60b3c",
       "version_major": 2,
       "version_minor": 0
      },
      "text/plain": [
       "Батч 26:   0%|          | 0/16 [00:00<?, ?it/s]"
      ]
     },
     "metadata": {},
     "output_type": "display_data"
    },
    {
     "data": {
      "application/vnd.jupyter.widget-view+json": {
       "model_id": "4559112f7006471fb9e56c13a9356904",
       "version_major": 2,
       "version_minor": 0
      },
      "text/plain": [
       "Батч 27:   0%|          | 0/16 [00:00<?, ?it/s]"
      ]
     },
     "metadata": {},
     "output_type": "display_data"
    },
    {
     "data": {
      "application/vnd.jupyter.widget-view+json": {
       "model_id": "7513787209f549dbbde07522cb91e185",
       "version_major": 2,
       "version_minor": 0
      },
      "text/plain": [
       "Батч 28:   0%|          | 0/16 [00:00<?, ?it/s]"
      ]
     },
     "metadata": {},
     "output_type": "display_data"
    },
    {
     "data": {
      "application/vnd.jupyter.widget-view+json": {
       "model_id": "aa8e931f73ca409aae1bff061cf5d188",
       "version_major": 2,
       "version_minor": 0
      },
      "text/plain": [
       "Батч 29:   0%|          | 0/16 [00:00<?, ?it/s]"
      ]
     },
     "metadata": {},
     "output_type": "display_data"
    },
    {
     "data": {
      "application/vnd.jupyter.widget-view+json": {
       "model_id": "f98ea6320886467c920982a8f524e205",
       "version_major": 2,
       "version_minor": 0
      },
      "text/plain": [
       "Батч 30:   0%|          | 0/16 [00:00<?, ?it/s]"
      ]
     },
     "metadata": {},
     "output_type": "display_data"
    },
    {
     "data": {
      "application/vnd.jupyter.widget-view+json": {
       "model_id": "8e4e4ec2e49a4ead8bae5158f822b179",
       "version_major": 2,
       "version_minor": 0
      },
      "text/plain": [
       "Батч 31:   0%|          | 0/16 [00:00<?, ?it/s]"
      ]
     },
     "metadata": {},
     "output_type": "display_data"
    },
    {
     "data": {
      "application/vnd.jupyter.widget-view+json": {
       "model_id": "8f45069c37fd431497cd0ebefafcb72d",
       "version_major": 2,
       "version_minor": 0
      },
      "text/plain": [
       "Батч 32:   0%|          | 0/16 [00:00<?, ?it/s]"
      ]
     },
     "metadata": {},
     "output_type": "display_data"
    },
    {
     "data": {
      "application/vnd.jupyter.widget-view+json": {
       "model_id": "58c5da7662024c3c94f48a60afcd66c6",
       "version_major": 2,
       "version_minor": 0
      },
      "text/plain": [
       "Батч 33:   0%|          | 0/16 [00:00<?, ?it/s]"
      ]
     },
     "metadata": {},
     "output_type": "display_data"
    },
    {
     "data": {
      "application/vnd.jupyter.widget-view+json": {
       "model_id": "9f8a39c5bf1c48f09399f32e0cbe48a3",
       "version_major": 2,
       "version_minor": 0
      },
      "text/plain": [
       "Батч 34:   0%|          | 0/16 [00:00<?, ?it/s]"
      ]
     },
     "metadata": {},
     "output_type": "display_data"
    },
    {
     "data": {
      "application/vnd.jupyter.widget-view+json": {
       "model_id": "b8b6a09c1ed04d59bccbf0068a49ec40",
       "version_major": 2,
       "version_minor": 0
      },
      "text/plain": [
       "Батч 35:   0%|          | 0/16 [00:00<?, ?it/s]"
      ]
     },
     "metadata": {},
     "output_type": "display_data"
    },
    {
     "data": {
      "application/vnd.jupyter.widget-view+json": {
       "model_id": "2db2a8a35d7441daa28079b93e9049a2",
       "version_major": 2,
       "version_minor": 0
      },
      "text/plain": [
       "Батч 36:   0%|          | 0/16 [00:00<?, ?it/s]"
      ]
     },
     "metadata": {},
     "output_type": "display_data"
    },
    {
     "data": {
      "application/vnd.jupyter.widget-view+json": {
       "model_id": "7ce1117ecd3644748a8dd3308cef3683",
       "version_major": 2,
       "version_minor": 0
      },
      "text/plain": [
       "Батч 37:   0%|          | 0/16 [00:00<?, ?it/s]"
      ]
     },
     "metadata": {},
     "output_type": "display_data"
    },
    {
     "data": {
      "application/vnd.jupyter.widget-view+json": {
       "model_id": "6808400e4d474db49d431437a3c68e81",
       "version_major": 2,
       "version_minor": 0
      },
      "text/plain": [
       "Батч 38:   0%|          | 0/16 [00:00<?, ?it/s]"
      ]
     },
     "metadata": {},
     "output_type": "display_data"
    },
    {
     "data": {
      "application/vnd.jupyter.widget-view+json": {
       "model_id": "1c36e465cdbb4deab1741045d4d0ba4b",
       "version_major": 2,
       "version_minor": 0
      },
      "text/plain": [
       "Батч 39:   0%|          | 0/16 [00:00<?, ?it/s]"
      ]
     },
     "metadata": {},
     "output_type": "display_data"
    },
    {
     "data": {
      "application/vnd.jupyter.widget-view+json": {
       "model_id": "c4388291382a4322995c19358996c0ab",
       "version_major": 2,
       "version_minor": 0
      },
      "text/plain": [
       "Батч 40:   0%|          | 0/16 [00:00<?, ?it/s]"
      ]
     },
     "metadata": {},
     "output_type": "display_data"
    },
    {
     "data": {
      "application/vnd.jupyter.widget-view+json": {
       "model_id": "524d4b00fc77420283620880a5425272",
       "version_major": 2,
       "version_minor": 0
      },
      "text/plain": [
       "Батч 41:   0%|          | 0/16 [00:00<?, ?it/s]"
      ]
     },
     "metadata": {},
     "output_type": "display_data"
    },
    {
     "data": {
      "application/vnd.jupyter.widget-view+json": {
       "model_id": "0e15916d24c947fba3b7d2d13383f6eb",
       "version_major": 2,
       "version_minor": 0
      },
      "text/plain": [
       "Батч 42:   0%|          | 0/16 [00:00<?, ?it/s]"
      ]
     },
     "metadata": {},
     "output_type": "display_data"
    },
    {
     "data": {
      "application/vnd.jupyter.widget-view+json": {
       "model_id": "632739fb8b3141c5978b995508a8f919",
       "version_major": 2,
       "version_minor": 0
      },
      "text/plain": [
       "Батч 43:   0%|          | 0/16 [00:00<?, ?it/s]"
      ]
     },
     "metadata": {},
     "output_type": "display_data"
    },
    {
     "data": {
      "application/vnd.jupyter.widget-view+json": {
       "model_id": "222a8137376041a3b22f3269b2dd78b5",
       "version_major": 2,
       "version_minor": 0
      },
      "text/plain": [
       "Батч 44:   0%|          | 0/16 [00:00<?, ?it/s]"
      ]
     },
     "metadata": {},
     "output_type": "display_data"
    },
    {
     "data": {
      "application/vnd.jupyter.widget-view+json": {
       "model_id": "34ab1841d9394417b0f8fbd50863ff23",
       "version_major": 2,
       "version_minor": 0
      },
      "text/plain": [
       "Батч 45:   0%|          | 0/16 [00:00<?, ?it/s]"
      ]
     },
     "metadata": {},
     "output_type": "display_data"
    },
    {
     "data": {
      "application/vnd.jupyter.widget-view+json": {
       "model_id": "95cbb5cc153f403b97c55c0c8ae6fb33",
       "version_major": 2,
       "version_minor": 0
      },
      "text/plain": [
       "Батч 46:   0%|          | 0/16 [00:00<?, ?it/s]"
      ]
     },
     "metadata": {},
     "output_type": "display_data"
    },
    {
     "data": {
      "application/vnd.jupyter.widget-view+json": {
       "model_id": "71b3174527b94dc2ac607a09879e81e9",
       "version_major": 2,
       "version_minor": 0
      },
      "text/plain": [
       "Батч 47:   0%|          | 0/16 [00:00<?, ?it/s]"
      ]
     },
     "metadata": {},
     "output_type": "display_data"
    },
    {
     "data": {
      "application/vnd.jupyter.widget-view+json": {
       "model_id": "9f2beec2c3314fe793278502b09d136a",
       "version_major": 2,
       "version_minor": 0
      },
      "text/plain": [
       "Батч 48:   0%|          | 0/16 [00:00<?, ?it/s]"
      ]
     },
     "metadata": {},
     "output_type": "display_data"
    },
    {
     "data": {
      "application/vnd.jupyter.widget-view+json": {
       "model_id": "4a446b02122e447ca51c5569c2584258",
       "version_major": 2,
       "version_minor": 0
      },
      "text/plain": [
       "Батч 49:   0%|          | 0/16 [00:00<?, ?it/s]"
      ]
     },
     "metadata": {},
     "output_type": "display_data"
    },
    {
     "data": {
      "application/vnd.jupyter.widget-view+json": {
       "model_id": "d3edd7b52487428ea211ee3e45ea784c",
       "version_major": 2,
       "version_minor": 0
      },
      "text/plain": [
       "Батч 50:   0%|          | 0/16 [00:00<?, ?it/s]"
      ]
     },
     "metadata": {},
     "output_type": "display_data"
    },
    {
     "data": {
      "application/vnd.jupyter.widget-view+json": {
       "model_id": "5834d6d9ec624de1b64eeb7a9b6a816e",
       "version_major": 2,
       "version_minor": 0
      },
      "text/plain": [
       "Батч 51:   0%|          | 0/16 [00:00<?, ?it/s]"
      ]
     },
     "metadata": {},
     "output_type": "display_data"
    },
    {
     "data": {
      "application/vnd.jupyter.widget-view+json": {
       "model_id": "01a3377de79040b0a98c142e2353e733",
       "version_major": 2,
       "version_minor": 0
      },
      "text/plain": [
       "Батч 52:   0%|          | 0/16 [00:00<?, ?it/s]"
      ]
     },
     "metadata": {},
     "output_type": "display_data"
    },
    {
     "data": {
      "application/vnd.jupyter.widget-view+json": {
       "model_id": "5a61d73acdf848d69a1bbccbcc6f1614",
       "version_major": 2,
       "version_minor": 0
      },
      "text/plain": [
       "Батч 53:   0%|          | 0/16 [00:00<?, ?it/s]"
      ]
     },
     "metadata": {},
     "output_type": "display_data"
    },
    {
     "data": {
      "application/vnd.jupyter.widget-view+json": {
       "model_id": "0b8cb02e9af8468f91ba38a92a5bae9d",
       "version_major": 2,
       "version_minor": 0
      },
      "text/plain": [
       "Батч 54:   0%|          | 0/16 [00:00<?, ?it/s]"
      ]
     },
     "metadata": {},
     "output_type": "display_data"
    },
    {
     "data": {
      "application/vnd.jupyter.widget-view+json": {
       "model_id": "4498829c4422433090d598a75ede2da1",
       "version_major": 2,
       "version_minor": 0
      },
      "text/plain": [
       "Батч 55:   0%|          | 0/16 [00:00<?, ?it/s]"
      ]
     },
     "metadata": {},
     "output_type": "display_data"
    },
    {
     "data": {
      "application/vnd.jupyter.widget-view+json": {
       "model_id": "dc7502062ebd476b8fccaf760f8f4db6",
       "version_major": 2,
       "version_minor": 0
      },
      "text/plain": [
       "Батч 56:   0%|          | 0/16 [00:00<?, ?it/s]"
      ]
     },
     "metadata": {},
     "output_type": "display_data"
    },
    {
     "data": {
      "application/vnd.jupyter.widget-view+json": {
       "model_id": "e9b2d3fd25c14f4e8678a844a5295f36",
       "version_major": 2,
       "version_minor": 0
      },
      "text/plain": [
       "Батч 57:   0%|          | 0/16 [00:00<?, ?it/s]"
      ]
     },
     "metadata": {},
     "output_type": "display_data"
    },
    {
     "data": {
      "application/vnd.jupyter.widget-view+json": {
       "model_id": "f002a47ac3c74f45892523c837f5fb56",
       "version_major": 2,
       "version_minor": 0
      },
      "text/plain": [
       "Батч 58:   0%|          | 0/16 [00:00<?, ?it/s]"
      ]
     },
     "metadata": {},
     "output_type": "display_data"
    },
    {
     "data": {
      "application/vnd.jupyter.widget-view+json": {
       "model_id": "e3339c367d684c8286be4ee0e1251ce7",
       "version_major": 2,
       "version_minor": 0
      },
      "text/plain": [
       "Батч 59:   0%|          | 0/16 [00:00<?, ?it/s]"
      ]
     },
     "metadata": {},
     "output_type": "display_data"
    },
    {
     "data": {
      "application/vnd.jupyter.widget-view+json": {
       "model_id": "013ca97d56404444bbaba1b1fead122b",
       "version_major": 2,
       "version_minor": 0
      },
      "text/plain": [
       "Батч 60:   0%|          | 0/16 [00:00<?, ?it/s]"
      ]
     },
     "metadata": {},
     "output_type": "display_data"
    },
    {
     "data": {
      "application/vnd.jupyter.widget-view+json": {
       "model_id": "acb71921ea8d4df6ad21b053c63efbf7",
       "version_major": 2,
       "version_minor": 0
      },
      "text/plain": [
       "Батч 61:   0%|          | 0/16 [00:00<?, ?it/s]"
      ]
     },
     "metadata": {},
     "output_type": "display_data"
    },
    {
     "data": {
      "application/vnd.jupyter.widget-view+json": {
       "model_id": "77faac301919401a9924ae6a4b17d307",
       "version_major": 2,
       "version_minor": 0
      },
      "text/plain": [
       "Батч 62:   0%|          | 0/16 [00:00<?, ?it/s]"
      ]
     },
     "metadata": {},
     "output_type": "display_data"
    },
    {
     "data": {
      "application/vnd.jupyter.widget-view+json": {
       "model_id": "f0750fce577a4f8f9795024a30f3969d",
       "version_major": 2,
       "version_minor": 0
      },
      "text/plain": [
       "Батч 63:   0%|          | 0/16 [00:00<?, ?it/s]"
      ]
     },
     "metadata": {},
     "output_type": "display_data"
    },
    {
     "data": {
      "application/vnd.jupyter.widget-view+json": {
       "model_id": "0bd631adff434234a16e63efacb91e0d",
       "version_major": 2,
       "version_minor": 0
      },
      "text/plain": [
       "Батч 64:   0%|          | 0/16 [00:00<?, ?it/s]"
      ]
     },
     "metadata": {},
     "output_type": "display_data"
    },
    {
     "data": {
      "application/vnd.jupyter.widget-view+json": {
       "model_id": "0ff2197afa894ae9bea371f393102c20",
       "version_major": 2,
       "version_minor": 0
      },
      "text/plain": [
       "Батч 65:   0%|          | 0/16 [00:00<?, ?it/s]"
      ]
     },
     "metadata": {},
     "output_type": "display_data"
    },
    {
     "data": {
      "application/vnd.jupyter.widget-view+json": {
       "model_id": "0541c44b54f74a16beda687344f3d3e2",
       "version_major": 2,
       "version_minor": 0
      },
      "text/plain": [
       "Батч 66:   0%|          | 0/16 [00:00<?, ?it/s]"
      ]
     },
     "metadata": {},
     "output_type": "display_data"
    },
    {
     "data": {
      "application/vnd.jupyter.widget-view+json": {
       "model_id": "1fb9b5739fd84bd988b2a41a542bdceb",
       "version_major": 2,
       "version_minor": 0
      },
      "text/plain": [
       "Батч 67:   0%|          | 0/16 [00:00<?, ?it/s]"
      ]
     },
     "metadata": {},
     "output_type": "display_data"
    },
    {
     "data": {
      "application/vnd.jupyter.widget-view+json": {
       "model_id": "6f83c98f231c4bbd827c59df11c1aded",
       "version_major": 2,
       "version_minor": 0
      },
      "text/plain": [
       "Батч 68:   0%|          | 0/16 [00:00<?, ?it/s]"
      ]
     },
     "metadata": {},
     "output_type": "display_data"
    },
    {
     "data": {
      "application/vnd.jupyter.widget-view+json": {
       "model_id": "40b87e22ea3443aa9a567ed2bd1ecd16",
       "version_major": 2,
       "version_minor": 0
      },
      "text/plain": [
       "Батч 69:   0%|          | 0/16 [00:00<?, ?it/s]"
      ]
     },
     "metadata": {},
     "output_type": "display_data"
    },
    {
     "data": {
      "application/vnd.jupyter.widget-view+json": {
       "model_id": "ef87dd22888445dd95ffd18a9a39d21f",
       "version_major": 2,
       "version_minor": 0
      },
      "text/plain": [
       "Батч 70:   0%|          | 0/16 [00:00<?, ?it/s]"
      ]
     },
     "metadata": {},
     "output_type": "display_data"
    },
    {
     "data": {
      "application/vnd.jupyter.widget-view+json": {
       "model_id": "fb41c36746c449bc840e68b971d79b75",
       "version_major": 2,
       "version_minor": 0
      },
      "text/plain": [
       "Батч 71:   0%|          | 0/16 [00:00<?, ?it/s]"
      ]
     },
     "metadata": {},
     "output_type": "display_data"
    },
    {
     "data": {
      "application/vnd.jupyter.widget-view+json": {
       "model_id": "19b99d369fb74338b50eab708ed87ae9",
       "version_major": 2,
       "version_minor": 0
      },
      "text/plain": [
       "Батч 72:   0%|          | 0/16 [00:00<?, ?it/s]"
      ]
     },
     "metadata": {},
     "output_type": "display_data"
    },
    {
     "data": {
      "application/vnd.jupyter.widget-view+json": {
       "model_id": "fe742712ff7a4471b7947df0e36c95ba",
       "version_major": 2,
       "version_minor": 0
      },
      "text/plain": [
       "Батч 73:   0%|          | 0/16 [00:00<?, ?it/s]"
      ]
     },
     "metadata": {},
     "output_type": "display_data"
    },
    {
     "data": {
      "application/vnd.jupyter.widget-view+json": {
       "model_id": "60a366b5234241db9e6b3dac444dedc5",
       "version_major": 2,
       "version_minor": 0
      },
      "text/plain": [
       "Батч 74:   0%|          | 0/16 [00:00<?, ?it/s]"
      ]
     },
     "metadata": {},
     "output_type": "display_data"
    },
    {
     "data": {
      "application/vnd.jupyter.widget-view+json": {
       "model_id": "54a5507aa4df4e819d44f0b630505598",
       "version_major": 2,
       "version_minor": 0
      },
      "text/plain": [
       "Батч 75:   0%|          | 0/16 [00:00<?, ?it/s]"
      ]
     },
     "metadata": {},
     "output_type": "display_data"
    },
    {
     "data": {
      "application/vnd.jupyter.widget-view+json": {
       "model_id": "1099a7d4a9fa43b2affe771108ea8fb4",
       "version_major": 2,
       "version_minor": 0
      },
      "text/plain": [
       "Батч 76:   0%|          | 0/16 [00:00<?, ?it/s]"
      ]
     },
     "metadata": {},
     "output_type": "display_data"
    },
    {
     "data": {
      "application/vnd.jupyter.widget-view+json": {
       "model_id": "e340bd6442ef466e8248410d9cdbae0c",
       "version_major": 2,
       "version_minor": 0
      },
      "text/plain": [
       "Батч 77:   0%|          | 0/16 [00:00<?, ?it/s]"
      ]
     },
     "metadata": {},
     "output_type": "display_data"
    },
    {
     "data": {
      "application/vnd.jupyter.widget-view+json": {
       "model_id": "9ece7c58e3b1491ca85bc7acd25919e8",
       "version_major": 2,
       "version_minor": 0
      },
      "text/plain": [
       "Батч 78:   0%|          | 0/16 [00:00<?, ?it/s]"
      ]
     },
     "metadata": {},
     "output_type": "display_data"
    },
    {
     "data": {
      "application/vnd.jupyter.widget-view+json": {
       "model_id": "c96ffc943c8b47a6b182295de66192d1",
       "version_major": 2,
       "version_minor": 0
      },
      "text/plain": [
       "Батч 79:   0%|          | 0/16 [00:00<?, ?it/s]"
      ]
     },
     "metadata": {},
     "output_type": "display_data"
    },
    {
     "data": {
      "application/vnd.jupyter.widget-view+json": {
       "model_id": "3e011a1e9f344794a76d2bc3cc154bad",
       "version_major": 2,
       "version_minor": 0
      },
      "text/plain": [
       "Батч 80:   0%|          | 0/16 [00:00<?, ?it/s]"
      ]
     },
     "metadata": {},
     "output_type": "display_data"
    },
    {
     "data": {
      "application/vnd.jupyter.widget-view+json": {
       "model_id": "a03815a5740f4533b81838fb15c849c7",
       "version_major": 2,
       "version_minor": 0
      },
      "text/plain": [
       "Батч 81:   0%|          | 0/16 [00:00<?, ?it/s]"
      ]
     },
     "metadata": {},
     "output_type": "display_data"
    },
    {
     "data": {
      "application/vnd.jupyter.widget-view+json": {
       "model_id": "2bb5e71f3b7b4dabafc1bc6758184f8f",
       "version_major": 2,
       "version_minor": 0
      },
      "text/plain": [
       "Батч 82:   0%|          | 0/16 [00:00<?, ?it/s]"
      ]
     },
     "metadata": {},
     "output_type": "display_data"
    },
    {
     "data": {
      "application/vnd.jupyter.widget-view+json": {
       "model_id": "40b1c8e2fce94b87b7c5d393593c89da",
       "version_major": 2,
       "version_minor": 0
      },
      "text/plain": [
       "Батч 83:   0%|          | 0/16 [00:00<?, ?it/s]"
      ]
     },
     "metadata": {},
     "output_type": "display_data"
    },
    {
     "data": {
      "application/vnd.jupyter.widget-view+json": {
       "model_id": "18ea1d9bce9b4115999afe84d8bfa5c0",
       "version_major": 2,
       "version_minor": 0
      },
      "text/plain": [
       "Батч 84:   0%|          | 0/16 [00:00<?, ?it/s]"
      ]
     },
     "metadata": {},
     "output_type": "display_data"
    },
    {
     "data": {
      "application/vnd.jupyter.widget-view+json": {
       "model_id": "e6b565cc1ccd41c5bb3615955fa3082e",
       "version_major": 2,
       "version_minor": 0
      },
      "text/plain": [
       "Батч 85:   0%|          | 0/16 [00:00<?, ?it/s]"
      ]
     },
     "metadata": {},
     "output_type": "display_data"
    },
    {
     "data": {
      "application/vnd.jupyter.widget-view+json": {
       "model_id": "1905d030425d4762b2d4bcaaf3bde03a",
       "version_major": 2,
       "version_minor": 0
      },
      "text/plain": [
       "Батч 86:   0%|          | 0/16 [00:00<?, ?it/s]"
      ]
     },
     "metadata": {},
     "output_type": "display_data"
    },
    {
     "data": {
      "application/vnd.jupyter.widget-view+json": {
       "model_id": "aa4ac360ce1c481aaacedefcc0fd54f5",
       "version_major": 2,
       "version_minor": 0
      },
      "text/plain": [
       "Батч 87:   0%|          | 0/16 [00:00<?, ?it/s]"
      ]
     },
     "metadata": {},
     "output_type": "display_data"
    },
    {
     "data": {
      "application/vnd.jupyter.widget-view+json": {
       "model_id": "3bb35114fc264a51ab65ea306a9c3b9c",
       "version_major": 2,
       "version_minor": 0
      },
      "text/plain": [
       "Батч 88:   0%|          | 0/16 [00:00<?, ?it/s]"
      ]
     },
     "metadata": {},
     "output_type": "display_data"
    },
    {
     "data": {
      "application/vnd.jupyter.widget-view+json": {
       "model_id": "7d89d4485462480c88a7026df3c3ba82",
       "version_major": 2,
       "version_minor": 0
      },
      "text/plain": [
       "Батч 89:   0%|          | 0/16 [00:00<?, ?it/s]"
      ]
     },
     "metadata": {},
     "output_type": "display_data"
    },
    {
     "data": {
      "application/vnd.jupyter.widget-view+json": {
       "model_id": "7f6647c44c8c42098d253e144394e253",
       "version_major": 2,
       "version_minor": 0
      },
      "text/plain": [
       "Батч 90:   0%|          | 0/16 [00:00<?, ?it/s]"
      ]
     },
     "metadata": {},
     "output_type": "display_data"
    },
    {
     "data": {
      "application/vnd.jupyter.widget-view+json": {
       "model_id": "9e6406f1f52c4b5187571e5bdb4e5954",
       "version_major": 2,
       "version_minor": 0
      },
      "text/plain": [
       "Батч 91:   0%|          | 0/16 [00:00<?, ?it/s]"
      ]
     },
     "metadata": {},
     "output_type": "display_data"
    },
    {
     "data": {
      "application/vnd.jupyter.widget-view+json": {
       "model_id": "e643c85501a445569fd1d1a965df96b9",
       "version_major": 2,
       "version_minor": 0
      },
      "text/plain": [
       "Батч 92:   0%|          | 0/16 [00:00<?, ?it/s]"
      ]
     },
     "metadata": {},
     "output_type": "display_data"
    },
    {
     "data": {
      "application/vnd.jupyter.widget-view+json": {
       "model_id": "72c8ecb0e80648b0a22d35a1cf02e101",
       "version_major": 2,
       "version_minor": 0
      },
      "text/plain": [
       "Батч 93:   0%|          | 0/16 [00:00<?, ?it/s]"
      ]
     },
     "metadata": {},
     "output_type": "display_data"
    },
    {
     "data": {
      "application/vnd.jupyter.widget-view+json": {
       "model_id": "47be91fd50a14a0dbbc3167d48606da3",
       "version_major": 2,
       "version_minor": 0
      },
      "text/plain": [
       "Батч 94:   0%|          | 0/16 [00:00<?, ?it/s]"
      ]
     },
     "metadata": {},
     "output_type": "display_data"
    },
    {
     "data": {
      "application/vnd.jupyter.widget-view+json": {
       "model_id": "01ea33321db343b19c9c18120083ca5f",
       "version_major": 2,
       "version_minor": 0
      },
      "text/plain": [
       "Батч 95:   0%|          | 0/16 [00:00<?, ?it/s]"
      ]
     },
     "metadata": {},
     "output_type": "display_data"
    },
    {
     "data": {
      "application/vnd.jupyter.widget-view+json": {
       "model_id": "52c075d464604901b7c1b7cf600cad0d",
       "version_major": 2,
       "version_minor": 0
      },
      "text/plain": [
       "Батч 96:   0%|          | 0/16 [00:00<?, ?it/s]"
      ]
     },
     "metadata": {},
     "output_type": "display_data"
    },
    {
     "data": {
      "application/vnd.jupyter.widget-view+json": {
       "model_id": "0ad01d1794fa4a7d805610d71c913679",
       "version_major": 2,
       "version_minor": 0
      },
      "text/plain": [
       "Батч 97:   0%|          | 0/16 [00:00<?, ?it/s]"
      ]
     },
     "metadata": {},
     "output_type": "display_data"
    },
    {
     "data": {
      "application/vnd.jupyter.widget-view+json": {
       "model_id": "c1e31cb955cc4ca8be173d03c792f197",
       "version_major": 2,
       "version_minor": 0
      },
      "text/plain": [
       "Батч 98:   0%|          | 0/16 [00:00<?, ?it/s]"
      ]
     },
     "metadata": {},
     "output_type": "display_data"
    },
    {
     "data": {
      "application/vnd.jupyter.widget-view+json": {
       "model_id": "eb24f979cd54494c996b1e6e7a9db8ba",
       "version_major": 2,
       "version_minor": 0
      },
      "text/plain": [
       "Батч 99:   0%|          | 0/16 [00:00<?, ?it/s]"
      ]
     },
     "metadata": {},
     "output_type": "display_data"
    },
    {
     "data": {
      "application/vnd.jupyter.widget-view+json": {
       "model_id": "25f2b9cdfbfe4675a07626c5b3af98f3",
       "version_major": 2,
       "version_minor": 0
      },
      "text/plain": [
       "Батч 100:   0%|          | 0/16 [00:00<?, ?it/s]"
      ]
     },
     "metadata": {},
     "output_type": "display_data"
    },
    {
     "data": {
      "application/vnd.jupyter.widget-view+json": {
       "model_id": "c89c5fd580034b6d8c843161cc292a4a",
       "version_major": 2,
       "version_minor": 0
      },
      "text/plain": [
       "Батч 101:   0%|          | 0/16 [00:00<?, ?it/s]"
      ]
     },
     "metadata": {},
     "output_type": "display_data"
    },
    {
     "data": {
      "application/vnd.jupyter.widget-view+json": {
       "model_id": "05e0e57580fa4bf3b0b7a8f0165e6ffe",
       "version_major": 2,
       "version_minor": 0
      },
      "text/plain": [
       "Батч 102:   0%|          | 0/16 [00:00<?, ?it/s]"
      ]
     },
     "metadata": {},
     "output_type": "display_data"
    },
    {
     "data": {
      "application/vnd.jupyter.widget-view+json": {
       "model_id": "aba7cae7624041a3837234abc127bad5",
       "version_major": 2,
       "version_minor": 0
      },
      "text/plain": [
       "Батч 103:   0%|          | 0/16 [00:00<?, ?it/s]"
      ]
     },
     "metadata": {},
     "output_type": "display_data"
    },
    {
     "data": {
      "application/vnd.jupyter.widget-view+json": {
       "model_id": "a9ef5d33d3e744a5bc6d7201c9d204ae",
       "version_major": 2,
       "version_minor": 0
      },
      "text/plain": [
       "Батч 104:   0%|          | 0/16 [00:00<?, ?it/s]"
      ]
     },
     "metadata": {},
     "output_type": "display_data"
    },
    {
     "data": {
      "application/vnd.jupyter.widget-view+json": {
       "model_id": "29d75d5e964d4e16af84c720970893a0",
       "version_major": 2,
       "version_minor": 0
      },
      "text/plain": [
       "Батч 105:   0%|          | 0/16 [00:00<?, ?it/s]"
      ]
     },
     "metadata": {},
     "output_type": "display_data"
    },
    {
     "data": {
      "application/vnd.jupyter.widget-view+json": {
       "model_id": "b789f5f290a64cb9819ff3440eea61aa",
       "version_major": 2,
       "version_minor": 0
      },
      "text/plain": [
       "Батч 106:   0%|          | 0/16 [00:00<?, ?it/s]"
      ]
     },
     "metadata": {},
     "output_type": "display_data"
    },
    {
     "data": {
      "application/vnd.jupyter.widget-view+json": {
       "model_id": "cb4787c20f1e46e888b0a56022611b52",
       "version_major": 2,
       "version_minor": 0
      },
      "text/plain": [
       "Батч 107:   0%|          | 0/16 [00:00<?, ?it/s]"
      ]
     },
     "metadata": {},
     "output_type": "display_data"
    },
    {
     "data": {
      "application/vnd.jupyter.widget-view+json": {
       "model_id": "d0a6415a54e443d1821c40570f35dd69",
       "version_major": 2,
       "version_minor": 0
      },
      "text/plain": [
       "Батч 108:   0%|          | 0/16 [00:00<?, ?it/s]"
      ]
     },
     "metadata": {},
     "output_type": "display_data"
    },
    {
     "data": {
      "application/vnd.jupyter.widget-view+json": {
       "model_id": "ecfff35016134e98ad815cde0a66ee8b",
       "version_major": 2,
       "version_minor": 0
      },
      "text/plain": [
       "Батч 109:   0%|          | 0/16 [00:00<?, ?it/s]"
      ]
     },
     "metadata": {},
     "output_type": "display_data"
    },
    {
     "data": {
      "application/vnd.jupyter.widget-view+json": {
       "model_id": "d8b3e63f17c249d59adc4efb0f4317ac",
       "version_major": 2,
       "version_minor": 0
      },
      "text/plain": [
       "Батч 110:   0%|          | 0/16 [00:00<?, ?it/s]"
      ]
     },
     "metadata": {},
     "output_type": "display_data"
    },
    {
     "data": {
      "application/vnd.jupyter.widget-view+json": {
       "model_id": "720a66c7e4cc49469391e1bfd30a925a",
       "version_major": 2,
       "version_minor": 0
      },
      "text/plain": [
       "Батч 111:   0%|          | 0/16 [00:00<?, ?it/s]"
      ]
     },
     "metadata": {},
     "output_type": "display_data"
    },
    {
     "data": {
      "application/vnd.jupyter.widget-view+json": {
       "model_id": "ecf538d23c0f491fb0322570acbdbcdb",
       "version_major": 2,
       "version_minor": 0
      },
      "text/plain": [
       "Батч 112:   0%|          | 0/16 [00:00<?, ?it/s]"
      ]
     },
     "metadata": {},
     "output_type": "display_data"
    },
    {
     "data": {
      "application/vnd.jupyter.widget-view+json": {
       "model_id": "d7e6eaecf5554bcf94f6a8df37a0b442",
       "version_major": 2,
       "version_minor": 0
      },
      "text/plain": [
       "Батч 113:   0%|          | 0/16 [00:00<?, ?it/s]"
      ]
     },
     "metadata": {},
     "output_type": "display_data"
    },
    {
     "data": {
      "application/vnd.jupyter.widget-view+json": {
       "model_id": "526bd31298424ae388177c07108c5a48",
       "version_major": 2,
       "version_minor": 0
      },
      "text/plain": [
       "Батч 114:   0%|          | 0/16 [00:00<?, ?it/s]"
      ]
     },
     "metadata": {},
     "output_type": "display_data"
    },
    {
     "data": {
      "application/vnd.jupyter.widget-view+json": {
       "model_id": "713dbd27881841eb9d46cfb1f8a1c772",
       "version_major": 2,
       "version_minor": 0
      },
      "text/plain": [
       "Батч 115:   0%|          | 0/16 [00:00<?, ?it/s]"
      ]
     },
     "metadata": {},
     "output_type": "display_data"
    },
    {
     "data": {
      "application/vnd.jupyter.widget-view+json": {
       "model_id": "2f9a2be8bd42407893dfe945737259ed",
       "version_major": 2,
       "version_minor": 0
      },
      "text/plain": [
       "Батч 116:   0%|          | 0/16 [00:00<?, ?it/s]"
      ]
     },
     "metadata": {},
     "output_type": "display_data"
    },
    {
     "data": {
      "application/vnd.jupyter.widget-view+json": {
       "model_id": "4e34a3dd980e4e12a78dc4dcc970bd3e",
       "version_major": 2,
       "version_minor": 0
      },
      "text/plain": [
       "Батч 117:   0%|          | 0/16 [00:00<?, ?it/s]"
      ]
     },
     "metadata": {},
     "output_type": "display_data"
    },
    {
     "data": {
      "application/vnd.jupyter.widget-view+json": {
       "model_id": "f69ce5642a8f4c5bab008ecead28e87f",
       "version_major": 2,
       "version_minor": 0
      },
      "text/plain": [
       "Батч 118:   0%|          | 0/16 [00:00<?, ?it/s]"
      ]
     },
     "metadata": {},
     "output_type": "display_data"
    },
    {
     "data": {
      "application/vnd.jupyter.widget-view+json": {
       "model_id": "dd3ece82ea224dfdb729b81765f35f4e",
       "version_major": 2,
       "version_minor": 0
      },
      "text/plain": [
       "Батч 119:   0%|          | 0/16 [00:00<?, ?it/s]"
      ]
     },
     "metadata": {},
     "output_type": "display_data"
    },
    {
     "data": {
      "application/vnd.jupyter.widget-view+json": {
       "model_id": "6a2f14cad933408281b643e7e4934b17",
       "version_major": 2,
       "version_minor": 0
      },
      "text/plain": [
       "Батч 120:   0%|          | 0/16 [00:00<?, ?it/s]"
      ]
     },
     "metadata": {},
     "output_type": "display_data"
    },
    {
     "data": {
      "application/vnd.jupyter.widget-view+json": {
       "model_id": "005eb72252a5417991b89d82bef1848b",
       "version_major": 2,
       "version_minor": 0
      },
      "text/plain": [
       "Батч 121:   0%|          | 0/16 [00:00<?, ?it/s]"
      ]
     },
     "metadata": {},
     "output_type": "display_data"
    },
    {
     "data": {
      "application/vnd.jupyter.widget-view+json": {
       "model_id": "5b3d4c211a214722a939336052bff719",
       "version_major": 2,
       "version_minor": 0
      },
      "text/plain": [
       "Батч 122:   0%|          | 0/16 [00:00<?, ?it/s]"
      ]
     },
     "metadata": {},
     "output_type": "display_data"
    },
    {
     "data": {
      "application/vnd.jupyter.widget-view+json": {
       "model_id": "30b7a9df035d467b8632e83bc9d86d15",
       "version_major": 2,
       "version_minor": 0
      },
      "text/plain": [
       "Батч 123:   0%|          | 0/16 [00:00<?, ?it/s]"
      ]
     },
     "metadata": {},
     "output_type": "display_data"
    },
    {
     "data": {
      "application/vnd.jupyter.widget-view+json": {
       "model_id": "486b63e374cd49bca6577b91590ea0c9",
       "version_major": 2,
       "version_minor": 0
      },
      "text/plain": [
       "Батч 124:   0%|          | 0/2 [00:00<?, ?it/s]"
      ]
     },
     "metadata": {},
     "output_type": "display_data"
    },
    {
     "name": "stdout",
     "output_type": "stream",
     "text": [
      "Построение словаря...\n",
      "Размер словаря: 7052\n",
      "Обучение модели...\n",
      "Эпоха 1/30, Ошибка (обучение): 4.9009, Ошибка (валидация): 4.0552, Скорость обучения: 0.000100, Teacher Forcing: 1.000\n",
      "Эпоха 2/30, Ошибка (обучение): 3.6808, Ошибка (валидация): 3.6346, Скорость обучения: 0.000100, Teacher Forcing: 0.983\n",
      "Эпоха 3/30, Ошибка (обучение): 3.4566, Ошибка (валидация): 3.4613, Скорость обучения: 0.000100, Teacher Forcing: 0.966\n",
      "Эпоха 4/30, Ошибка (обучение): 3.4254, Ошибка (валидация): 3.3954, Скорость обучения: 0.000100, Teacher Forcing: 0.948\n",
      "Эпоха 5/30, Ошибка (обучение): 3.3029, Ошибка (валидация): 3.3627, Скорость обучения: 0.000100, Teacher Forcing: 0.931\n",
      "Эпоха 6/30, Ошибка (обучение): 3.2355, Ошибка (валидация): 3.0945, Скорость обучения: 0.000100, Teacher Forcing: 0.914\n",
      "Эпоха 7/30, Ошибка (обучение): 3.1326, Ошибка (валидация): 3.2637, Скорость обучения: 0.000100, Teacher Forcing: 0.897\n",
      "Эпоха 8/30, Ошибка (обучение): 3.1628, Ошибка (валидация): 3.0620, Скорость обучения: 0.000100, Teacher Forcing: 0.879\n",
      "Эпоха 9/30, Ошибка (обучение): 3.2120, Ошибка (валидация): 3.1786, Скорость обучения: 0.000100, Teacher Forcing: 0.862\n",
      "Эпоха 10/30, Ошибка (обучение): 3.1842, Ошибка (валидация): 2.9683, Скорость обучения: 0.000100, Teacher Forcing: 0.845\n",
      "Чекпоинт сохранен: D:\\video_to_text\\models\\ckpt_epoch10.pt\n",
      "Эпоха 11/30, Ошибка (обучение): 3.1212, Ошибка (валидация): 2.9918, Скорость обучения: 0.000100, Teacher Forcing: 0.828\n",
      "Эпоха 12/30, Ошибка (обучение): 3.0416, Ошибка (валидация): 2.9903, Скорость обучения: 0.000100, Teacher Forcing: 0.810\n",
      "Эпоха 13/30, Ошибка (обучение): 3.0409, Ошибка (валидация): 2.8770, Скорость обучения: 0.000100, Teacher Forcing: 0.793\n",
      "Эпоха 14/30, Ошибка (обучение): 3.0407, Ошибка (валидация): 2.9964, Скорость обучения: 0.000100, Teacher Forcing: 0.776\n",
      "Эпоха 15/30, Ошибка (обучение): 3.0414, Ошибка (валидация): 2.9336, Скорость обучения: 0.000100, Teacher Forcing: 0.759\n",
      "Эпоха 16/30, Ошибка (обучение): 3.0018, Ошибка (валидация): 2.8211, Скорость обучения: 0.000100, Teacher Forcing: 0.741\n",
      "Эпоха 17/30, Ошибка (обучение): 3.0161, Ошибка (валидация): 2.9884, Скорость обучения: 0.000100, Teacher Forcing: 0.724\n",
      "Эпоха 18/30, Ошибка (обучение): 2.9588, Ошибка (валидация): 2.9341, Скорость обучения: 0.000100, Teacher Forcing: 0.707\n",
      "Эпоха 19/30, Ошибка (обучение): 3.0006, Ошибка (валидация): 2.8918, Скорость обучения: 0.000050, Teacher Forcing: 0.690\n",
      "Эпоха 20/30, Ошибка (обучение): 2.9830, Ошибка (валидация): 3.1128, Скорость обучения: 0.000050, Teacher Forcing: 0.672\n",
      "Чекпоинт сохранен: D:\\video_to_text\\models\\ckpt_epoch20.pt\n",
      "Эпоха 21/30, Ошибка (обучение): 2.9499, Ошибка (валидация): 2.8871, Скорость обучения: 0.000050, Teacher Forcing: 0.655\n",
      "Эпоха 22/30, Ошибка (обучение): 3.0012, Ошибка (валидация): 2.9204, Скорость обучения: 0.000025, Teacher Forcing: 0.638\n",
      "Эпоха 23/30, Ошибка (обучение): 2.9557, Ошибка (валидация): 2.8405, Скорость обучения: 0.000025, Teacher Forcing: 0.621\n",
      "Эпоха 24/30, Ошибка (обучение): 2.9383, Ошибка (валидация): 2.9770, Скорость обучения: 0.000025, Teacher Forcing: 0.603\n",
      "Эпоха 25/30, Ошибка (обучение): 2.9077, Ошибка (валидация): 2.7265, Скорость обучения: 0.000025, Teacher Forcing: 0.586\n",
      "Эпоха 26/30, Ошибка (обучение): 3.0063, Ошибка (валидация): 2.8836, Скорость обучения: 0.000025, Teacher Forcing: 0.569\n",
      "Эпоха 27/30, Ошибка (обучение): 2.8846, Ошибка (валидация): 3.0250, Скорость обучения: 0.000025, Teacher Forcing: 0.552\n",
      "Эпоха 28/30, Ошибка (обучение): 2.9636, Ошибка (валидация): 2.9253, Скорость обучения: 0.000013, Teacher Forcing: 0.534\n",
      "Эпоха 29/30, Ошибка (обучение): 2.9812, Ошибка (валидация): 2.7721, Скорость обучения: 0.000013, Teacher Forcing: 0.517\n",
      "Эпоха 30/30, Ошибка (обучение): 2.9149, Ошибка (валидация): 2.9302, Скорость обучения: 0.000013, Teacher Forcing: 0.500\n",
      "Чекпоинт сохранен: D:\\video_to_text\\models\\ckpt_epoch30.pt\n",
      "Финальная модель сохранена: D:\\video_to_text\\models\\final_model.pt\n",
      "Словарь сохранен: D:\\video_to_text\\models\\vocabulary.pkl\n"
     ]
    },
    {
     "data": {
      "image/png": "[encoded data removed]",
      "text/plain": [
       "<Figure size 1000x500 with 1 Axes>"
      ]
     },
     "metadata": {},
     "output_type": "display_data"
    },
    {
     "name": "stdout",
     "output_type": "stream",
     "text": [
      "Тестирование модели...\n",
      "Пример предсказания: a man is slicing\n",
      "\n",
      "Оценка качества модели на тесте...\n"
     ]
    },
    {
     "data": {
      "application/vnd.jupyter.widget-view+json": {
       "model_id": "9ebfdb68053b4a1490433ab8bc225955",
       "version_major": 2,
       "version_minor": 0
      },
      "text/plain": [
       "Оценка:   0%|          | 0/296 [00:00<?, ?it/s]"
      ]
     },
     "metadata": {},
     "output_type": "display_data"
    },
    {
     "name": "stdout",
     "output_type": "stream",
     "text": [
      "BLEU-4: 0.0665\n",
      "Визуализация предсказаний...\n"
     ]
    },
    {
     "data": {
      "image/png": "[encoded data removed]",
      "text/plain": [
       "<Figure size 1200x2000 with 15 Axes>"
      ]
     },
     "metadata": {},
     "output_type": "display_data"
    },
    {
     "name": "stdout",
     "output_type": "stream",
     "text": [
      "Анализ паттернов внимания на одном примере...\n"
     ]
    },
    {
     "data": {
      "image/png": "[encoded data removed]",
      "text/plain": [
       "<Figure size 1000x600 with 2 Axes>"
      ]
     },
     "metadata": {},
     "output_type": "display_data"
    },
    {
     "name": "stdout",
     "output_type": "stream",
     "text": [
      "Соответствие слов и кадров:\n",
      "  'a': кадр 32, вес = 0.0258\n",
      "  'man': кадр 39, вес = 0.0314\n",
      "  'is': кадр 0, вес = 0.1168\n",
      "  'slicing': кадр 0, вес = 0.0987\n",
      "\n",
      "Самые важные кадры:\n",
      "  Кадр 0: общий вес = 0.2610\n",
      "  Кадр 1: общий вес = 0.2368\n",
      "  Кадр 2: общий вес = 0.1891\n",
      "  Кадр 3: общий вес = 0.1475\n",
      "  Кадр 4: общий вес = 0.1196\n"
     ]
    }
   ],
   "source": [
    "if __name__ == \"__main__\":\n",
    "    main()"
   ]
  }
 ],
 "metadata": {
  "kernelspec": {
   "display_name": "Python 3 (ipykernel)",
   "language": "python",
   "name": "python3"
  },
  "language_info": {
   "codemirror_mode": {
    "name": "ipython",
    "version": 3
   },
   "file_extension": ".py",
   "mimetype": "text/x-python",
   "name": "python",
   "nbconvert_exporter": "python",
   "pygments_lexer": "ipython3",
   "version": "3.12.9"
  }
 },
 "nbformat": 4,
 "nbformat_minor": 5
}
